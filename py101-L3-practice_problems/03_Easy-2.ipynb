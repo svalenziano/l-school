{
 "cells": [
  {
   "cell_type": "markdown",
   "id": "d4de2de2-3c69-4226-bbe5-5151db8050d3",
   "metadata": {},
   "source": [
    "# Practice Problems: Easy 1\n",
    "https://launchschool.com/lessons/106644d9/assignments/dd68e036"
   ]
  },
  {
   "cell_type": "markdown",
   "id": "a3062648-b509-40e5-8eba-9bbe0f4c8a30",
   "metadata": {},
   "source": [
    "## Q2"
   ]
  },
  {
   "cell_type": "code",
   "execution_count": 4,
   "id": "3200e8c1-1400-4c83-a5b1-21b224432ea5",
   "metadata": {},
   "outputs": [
    {
     "name": "stdout",
     "output_type": "stream",
     "text": [
      "True\n",
      "False\n",
      "True\n",
      "False\n"
     ]
    }
   ],
   "source": [
    "str1 = \"Come over here!\"  # True\n",
    "str2 = \"What's up, Doc?\"  # False\n",
    "str3 = \"!!!!!!!!!!!\"\n",
    "str4 = \"!!!!!!!!!!?\"\n",
    "\n",
    "for string in [str1, str2, str3, str4]:\n",
    "    if string[-1] == '!':\n",
    "        print(True)\n",
    "    else:\n",
    "        print(False)"
   ]
  },
  {
   "cell_type": "markdown",
   "id": "b5f40848-8562-40e0-ae2a-99493bf3f5d7",
   "metadata": {},
   "source": [
    "## Q3"
   ]
  },
  {
   "cell_type": "code",
   "execution_count": 11,
   "id": "40c1e837-69f7-4936-9076-e509e3aa1801",
   "metadata": {},
   "outputs": [
    {
     "name": "stdout",
     "output_type": "stream",
     "text": [
      "Four score and seven years ago...\n",
      "Four score and seven years ago...\n",
      "Four score and seven years ago...\n"
     ]
    }
   ],
   "source": [
    "famous_words = \"seven years ago...\"\n",
    "prepend = \"Four score and \"\n",
    "\n",
    "x = prepend + famous_words\n",
    "y = ''.join([prepend, famous_words])\n",
    "z = f\"{prepend}{famous_words}\"\n",
    "\n",
    "print(x)\n",
    "print(y)\n",
    "print(z)"
   ]
  },
  {
   "cell_type": "markdown",
   "id": "2d593579-3fbe-4d2d-a048-fd00fa1f5acf",
   "metadata": {},
   "source": [
    "## Q4"
   ]
  },
  {
   "cell_type": "code",
   "execution_count": 9,
   "id": "5f4ca548-eade-4849-95a6-4dedb6866945",
   "metadata": {},
   "outputs": [
    {
     "name": "stdout",
     "output_type": "stream",
     "text": [
      "The munsters are creepy and spooky.\n"
     ]
    }
   ],
   "source": [
    "munsters_description = \"the Munsters are CREEPY and Spooky.\"\n",
    "# => 'The munsters are creepy and spooky.'\n",
    "print(munsters_description.capitalize())"
   ]
  },
  {
   "cell_type": "markdown",
   "id": "cfb852e6-d428-45eb-936c-613ccda8706a",
   "metadata": {},
   "source": [
    "## Q5"
   ]
  },
  {
   "cell_type": "code",
   "execution_count": 12,
   "id": "9f87d981-a2e7-4cc1-ac0c-706f935cb09c",
   "metadata": {},
   "outputs": [
    {
     "name": "stdout",
     "output_type": "stream",
     "text": [
      "tHE mUNSTERS ARE CREEPY AND SPOOKY.\n"
     ]
    }
   ],
   "source": [
    "munsters_description = \"The Munsters are creepy and spooky.\"\n",
    "print(munsters_description.swapcase())"
   ]
  },
  {
   "cell_type": "markdown",
   "id": "362380ce-90f4-40cd-a5c2-dcc8fd2460c8",
   "metadata": {},
   "source": [
    "## Q6"
   ]
  },
  {
   "cell_type": "code",
   "execution_count": 13,
   "id": "ea82b597-c89b-46c4-a329-01c82d358f9e",
   "metadata": {},
   "outputs": [
    {
     "name": "stdout",
     "output_type": "stream",
     "text": [
      "False\n",
      "True\n"
     ]
    }
   ],
   "source": [
    "def check_for_dinos(str):\n",
    "    return True if \"Dino\" in str else False\n",
    "\n",
    "str1 = \"Few things in life are as important as house training your pet dinosaur.\"\n",
    "str2 = \"Fred and Wilma have a pet dinosaur named Dino.\"\n",
    "\n",
    "print(check_for_dinos(str1))\n",
    "print(check_for_dinos(str2))"
   ]
  },
  {
   "cell_type": "markdown",
   "id": "f1eeb0ab-20c7-4129-896e-17fd5a6c67b1",
   "metadata": {},
   "source": [
    "## Q7"
   ]
  },
  {
   "cell_type": "code",
   "execution_count": 14,
   "id": "c208790d-c062-485d-9f56-55db5a5ca70d",
   "metadata": {},
   "outputs": [
    {
     "name": "stdout",
     "output_type": "stream",
     "text": [
      "['Fred', 'Barney', 'Wilma', 'Betty', 'Bambam', 'Pebbles', 'Dino']\n"
     ]
    }
   ],
   "source": [
    "flintstones = [\"Fred\", \"Barney\", \"Wilma\", \"Betty\", \"Bambam\", \"Pebbles\"]\n",
    "flintstones.append(\"Dino\")\n",
    "print(flintstones)"
   ]
  },
  {
   "cell_type": "markdown",
   "id": "3522a70e-3f2f-4d1e-bc0d-dd0343d18270",
   "metadata": {},
   "source": [
    "## Q8"
   ]
  },
  {
   "cell_type": "code",
   "execution_count": 17,
   "id": "0201af8a-48fe-41df-9242-4c6facae09d1",
   "metadata": {},
   "outputs": [
    {
     "name": "stdout",
     "output_type": "stream",
     "text": [
      "['Fred', 'Barney', 'Wilma', 'Betty', 'Bambam', 'Pebbles', 'Dino', 'Hoppy']\n"
     ]
    }
   ],
   "source": [
    "flintstones = [\"Fred\", \"Barney\", \"Wilma\", \"Betty\", \"Bambam\", \"Pebbles\"]\n",
    "flintstones.extend(['Dino', 'Hoppy'])\n",
    "print(flintstones)"
   ]
  },
  {
   "cell_type": "markdown",
   "id": "9840352d-be93-4e8c-98c6-1fd715515d36",
   "metadata": {},
   "source": [
    "## Q9 ⚠️⚠️⚠️"
   ]
  },
  {
   "cell_type": "code",
   "execution_count": 25,
   "id": "fa7381cd-22a8-409f-91ef-35f1d8cad0e7",
   "metadata": {},
   "outputs": [
    {
     "name": "stdout",
     "output_type": "stream",
     "text": [
      "Few things in life are as important as \n",
      "Few things in life are as important as \n"
     ]
    }
   ],
   "source": [
    "advice = \"Few things in life are as important as house training your pet dinosaur.\"\n",
    "# Expected output:\n",
    "# Few things in life are as important as\n",
    "\n",
    "house_index = advice.index('house')\n",
    "print(advice[0:house_index])\n",
    "\n",
    "# or (more concise 🙂)\n",
    "\n",
    "print(advice.split('house')[0])"
   ]
  },
  {
   "cell_type": "markdown",
   "id": "db762e41-66bc-4bcf-9db2-33bb085cf8e9",
   "metadata": {},
   "source": [
    "# Q10"
   ]
  },
  {
   "cell_type": "code",
   "execution_count": 24,
   "id": "fe60d9e5-bbff-4617-b6ee-5bf55b66fd33",
   "metadata": {},
   "outputs": [
    {
     "name": "stdout",
     "output_type": "stream",
     "text": [
      "Few things in life are as urgent as house training your pet dinosaur.\n"
     ]
    }
   ],
   "source": [
    "advice = \"Few things in life are as important as house training your pet dinosaur.\"\n",
    "\n",
    "print(advice.replace('important', 'urgent'))"
   ]
  }
 ],
 "metadata": {
  "kernelspec": {
   "display_name": "Python 3 (ipykernel)",
   "language": "python",
   "name": "python3"
  },
  "language_info": {
   "codemirror_mode": {
    "name": "ipython",
    "version": 3
   },
   "file_extension": ".py",
   "mimetype": "text/x-python",
   "name": "python",
   "nbconvert_exporter": "python",
   "pygments_lexer": "ipython3",
   "version": "3.10.12"
  }
 },
 "nbformat": 4,
 "nbformat_minor": 5
}
