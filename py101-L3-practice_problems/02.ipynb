{
 "cells": [
  {
   "cell_type": "markdown",
   "id": "d4de2de2-3c69-4226-bbe5-5151db8050d3",
   "metadata": {},
   "source": [
    "# Practice Problems: Easy 1\n",
    "https://launchschool.com/lessons/106644d9/assignments/73bff7e2"
   ]
  },
  {
   "cell_type": "markdown",
   "id": "ee82ab82-5efb-4f4a-9989-abbad6d4c981",
   "metadata": {},
   "source": [
    "## Q1"
   ]
  },
  {
   "cell_type": "code",
   "execution_count": 27,
   "id": "25c09f6f-2292-44c8-bf70-c007e45e96b4",
   "metadata": {},
   "outputs": [
    {
     "name": "stdout",
     "output_type": "stream",
     "text": [
      "[5, 4, 3, 2, 1]\n",
      "[5, 4, 3, 2, 1]\n"
     ]
    }
   ],
   "source": [
    "numbers = [1, 2, 3, 4, 5]     # [5, 4, 3, 2, 1]\n",
    "print(list(reversed(numbers)))\n",
    "print(numbers[::-1])"
   ]
  },
  {
   "cell_type": "markdown",
   "id": "a3062648-b509-40e5-8eba-9bbe0f4c8a30",
   "metadata": {},
   "source": [
    "## Q2"
   ]
  },
  {
   "cell_type": "code",
   "execution_count": 29,
   "id": "3200e8c1-1400-4c83-a5b1-21b224432ea5",
   "metadata": {},
   "outputs": [
    {
     "name": "stdout",
     "output_type": "stream",
     "text": [
      "False\n",
      "True\n"
     ]
    }
   ],
   "source": [
    "numbers = [1, 2, 3, 4, 5, 15, 16, 17, 95, 96, 99]\n",
    "\n",
    "number1 = 8  # False (not in numbers)\n",
    "number2 = 95 # True (in numbers)\n",
    "\n",
    "print(number1 in numbers)\n",
    "print(number2 in numbers)"
   ]
  },
  {
   "cell_type": "markdown",
   "id": "b5f40848-8562-40e0-ae2a-99493bf3f5d7",
   "metadata": {},
   "source": [
    "## Q3"
   ]
  },
  {
   "cell_type": "code",
   "execution_count": 33,
   "id": "40c1e837-69f7-4936-9076-e509e3aa1801",
   "metadata": {},
   "outputs": [
    {
     "name": "stdout",
     "output_type": "stream",
     "text": [
      "True\n",
      "True\n",
      "False\n",
      "Is 42 between 10 and 100, inclusive? True\n",
      "Is 100 between 10 and 100, inclusive? True\n",
      "Is 101 between 10 and 100, inclusive? False\n",
      "[10, 11, 12, 13, 14, 15, 16, 17, 18, 19, 20, 21, 22, 23, 24, 25, 26, 27, 28, 29, 30, 31, 32, 33, 34, 35, 36, 37, 38, 39, 40, 41, 42, 43, 44, 45, 46, 47, 48, 49, 50, 51, 52, 53, 54, 55, 56, 57, 58, 59, 60, 61, 62, 63, 64, 65, 66, 67, 68, 69, 70, 71, 72, 73, 74, 75, 76, 77, 78, 79, 80, 81, 82, 83, 84, 85, 86, 87, 88, 89, 90, 91, 92, 93, 94, 95, 96, 97, 98, 99, 100]\n"
     ]
    }
   ],
   "source": [
    "# before hint\n",
    "print((10 <= 42) and (42 <= 100))\n",
    "print((10 <= 100) and (100 <= 100))\n",
    "print((10 <= 101) and (101 <= 100))\n",
    "\n",
    "# after hint to use range()\n",
    "for number in [42, 100, 101]:\n",
    "    print(f\"Is {number} between 10 and 100, inclusive? {number in range(10, 101)}\")\n",
    "\n",
    "print(list(range(10,101)))"
   ]
  },
  {
   "cell_type": "markdown",
   "id": "2d593579-3fbe-4d2d-a048-fd00fa1f5acf",
   "metadata": {},
   "source": [
    "## Q4"
   ]
  },
  {
   "cell_type": "code",
   "execution_count": 35,
   "id": "5f4ca548-eade-4849-95a6-4dedb6866945",
   "metadata": {},
   "outputs": [
    {
     "name": "stdout",
     "output_type": "stream",
     "text": [
      "[1, 2, 4, 5]\n",
      "[1, 2, 4, 5]\n"
     ]
    }
   ],
   "source": [
    "x = [1,2,3,4,5]\n",
    "x.pop(2)\n",
    "print(x)\n",
    "\n",
    "# OR, using the 'del' keyword\n",
    "\n",
    "x = [1,2,3,4,5]\n",
    "del x[2]\n",
    "print(x)"
   ]
  },
  {
   "cell_type": "markdown",
   "id": "cfb852e6-d428-45eb-936c-613ccda8706a",
   "metadata": {},
   "source": [
    "## Q5"
   ]
  },
  {
   "cell_type": "code",
   "execution_count": 41,
   "id": "9f87d981-a2e7-4cc1-ac0c-706f935cb09c",
   "metadata": {},
   "outputs": [
    {
     "name": "stdout",
     "output_type": "stream",
     "text": [
      "True\n",
      "False\n",
      "True\n",
      "False\n"
     ]
    }
   ],
   "source": [
    "numbers = [1, 2, 3, 4]\n",
    "table = {'field1': 1, 'field2': 2, 'field3': 3, 'field4': 4}\n",
    "\n",
    "print(type(numbers) is list)\n",
    "print(type(table) is list)\n",
    "\n",
    "# OR\n",
    "\n",
    "print(isinstance(numbers, list))\n",
    "print(isinstance(table, list))"
   ]
  },
  {
   "cell_type": "markdown",
   "id": "362380ce-90f4-40cd-a5c2-dcc8fd2460c8",
   "metadata": {},
   "source": [
    "## Q6"
   ]
  },
  {
   "cell_type": "code",
   "execution_count": 45,
   "id": "ea82b597-c89b-46c4-a329-01c82d358f9e",
   "metadata": {},
   "outputs": [
    {
     "name": "stdout",
     "output_type": "stream",
     "text": [
      "       Flintstone Family Members        \n",
      "Flintstone Family Members               \n",
      "               Flintstone Family Members\n"
     ]
    }
   ],
   "source": [
    "title = \"Flintstone Family Members\"\n",
    "print(title.center(40))\n",
    "print(title.ljust(40))\n",
    "print(title.rjust(40))"
   ]
  },
  {
   "cell_type": "markdown",
   "id": "f1eeb0ab-20c7-4129-896e-17fd5a6c67b1",
   "metadata": {},
   "source": [
    "## Q7"
   ]
  },
  {
   "cell_type": "code",
   "execution_count": 51,
   "id": "c208790d-c062-485d-9f56-55db5a5ca70d",
   "metadata": {},
   "outputs": [
    {
     "name": "stdout",
     "output_type": "stream",
     "text": [
      "2\n",
      "2\n",
      "2\n",
      "2\n"
     ]
    }
   ],
   "source": [
    "statement1 = \"The Flintstones Rock!\"\n",
    "statement2 = \"Easy come, easy go.\"\n",
    "\n",
    "print(''.join([statement1, statement2]).count('t'))\n",
    "print(f'{statement1}{statement2}'.count('t'))\n",
    "print((statement1 + statement2).count('t'))\n",
    "print(str([statement1, statement2]).count('t'))"
   ]
  },
  {
   "cell_type": "markdown",
   "id": "3522a70e-3f2f-4d1e-bc0d-dd0343d18270",
   "metadata": {},
   "source": [
    "## Q8"
   ]
  },
  {
   "cell_type": "code",
   "execution_count": 55,
   "id": "0201af8a-48fe-41df-9242-4c6facae09d1",
   "metadata": {},
   "outputs": [
    {
     "name": "stdout",
     "output_type": "stream",
     "text": [
      "False\n",
      "False\n",
      "*\n",
      "True\n",
      "True\n",
      "*\n",
      "False\n",
      "False\n",
      "*\n"
     ]
    }
   ],
   "source": [
    "ages = {'Herman': 32, 'Lily': 30, 'Grandpa': 402, 'Eddie': 10}\n",
    "\n",
    "for name in ['Spot', 'Herman', 32]:\n",
    "    print(name in ages.keys())\n",
    "    print(name in ages)\n",
    "    print(\"*\")\n"
   ]
  },
  {
   "cell_type": "markdown",
   "id": "9840352d-be93-4e8c-98c6-1fd715515d36",
   "metadata": {},
   "source": [
    "## Q9\n",
    "I had a lot of trouble remembering the correct method here.  My failed attempts included using ages.extend() and ages += additional_ages.\n",
    "\n",
    "I've had trouble with this in the past, need to practice this."
   ]
  },
  {
   "cell_type": "code",
   "execution_count": 63,
   "id": "fa7381cd-22a8-409f-91ef-35f1d8cad0e7",
   "metadata": {},
   "outputs": [
    {
     "name": "stdout",
     "output_type": "stream",
     "text": [
      "{'Herman': 32, 'Lily': 30, 'Grandpa': 5843, 'Eddie': 10, 'Marilyn': 22, 'Spot': 237}\n",
      "{'Herman': 32, 'Lily': 30, 'Grandpa': 5843, 'Eddie': 10, 'Marilyn': 22, 'Spot': 237, 'Radical': 123, 'Tubular': 987}\n"
     ]
    }
   ],
   "source": [
    "# Question prompt: \"Add entries for Marilyn and Spot to the 'ages' dictionary:\"\n",
    "\n",
    "ages = {'Herman': 32, 'Lily': 30, 'Grandpa': 5843, 'Eddie': 10}\n",
    "additional_ages = {'Marilyn': 22, 'Spot': 237}\n",
    "\n",
    "for key, value in additional_ages.items():\n",
    "    ages[key] = value\n",
    "\n",
    "print(ages)\n",
    "\n",
    "# OOPS, dict.update() would have been a simpler method\n",
    "even_more_ages = {'Radical' : 123, 'Tubular' : 987}\n",
    "ages.update(even_more_ages)\n",
    "\n",
    "print(ages)"
   ]
  }
 ],
 "metadata": {
  "kernelspec": {
   "display_name": "Python 3 (ipykernel)",
   "language": "python",
   "name": "python3"
  },
  "language_info": {
   "codemirror_mode": {
    "name": "ipython",
    "version": 3
   },
   "file_extension": ".py",
   "mimetype": "text/x-python",
   "name": "python",
   "nbconvert_exporter": "python",
   "pygments_lexer": "ipython3",
   "version": "3.10.12"
  }
 },
 "nbformat": 4,
 "nbformat_minor": 5
}
