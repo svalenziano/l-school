{
 "cells": [
  {
   "cell_type": "markdown",
   "id": "d4de2de2-3c69-4226-bbe5-5151db8050d3",
   "metadata": {},
   "source": [
    "# Practice Problems: Easy 1\n",
    "https://launchschool.com/lessons/106644d9/assignments/80fef74f"
   ]
  },
  {
   "cell_type": "markdown",
   "id": "ee82ab82-5efb-4f4a-9989-abbad6d4c981",
   "metadata": {},
   "source": [
    "## Q1"
   ]
  },
  {
   "cell_type": "code",
   "execution_count": null,
   "id": "25c09f6f-2292-44c8-bf70-c007e45e96b4",
   "metadata": {},
   "outputs": [],
   "source": []
  },
  {
   "cell_type": "markdown",
   "id": "a3062648-b509-40e5-8eba-9bbe0f4c8a30",
   "metadata": {},
   "source": [
    "## Q2"
   ]
  },
  {
   "cell_type": "code",
   "execution_count": null,
   "id": "3200e8c1-1400-4c83-a5b1-21b224432ea5",
   "metadata": {},
   "outputs": [],
   "source": []
  },
  {
   "cell_type": "markdown",
   "id": "b5f40848-8562-40e0-ae2a-99493bf3f5d7",
   "metadata": {},
   "source": [
    "## Q3"
   ]
  },
  {
   "cell_type": "code",
   "execution_count": null,
   "id": "40c1e837-69f7-4936-9076-e509e3aa1801",
   "metadata": {},
   "outputs": [],
   "source": []
  },
  {
   "cell_type": "markdown",
   "id": "2d593579-3fbe-4d2d-a048-fd00fa1f5acf",
   "metadata": {},
   "source": [
    "## Q4"
   ]
  },
  {
   "cell_type": "code",
   "execution_count": null,
   "id": "5f4ca548-eade-4849-95a6-4dedb6866945",
   "metadata": {},
   "outputs": [],
   "source": []
  },
  {
   "cell_type": "markdown",
   "id": "cfb852e6-d428-45eb-936c-613ccda8706a",
   "metadata": {},
   "source": [
    "## Q5"
   ]
  },
  {
   "cell_type": "code",
   "execution_count": null,
   "id": "9f87d981-a2e7-4cc1-ac0c-706f935cb09c",
   "metadata": {},
   "outputs": [],
   "source": []
  },
  {
   "cell_type": "markdown",
   "id": "362380ce-90f4-40cd-a5c2-dcc8fd2460c8",
   "metadata": {},
   "source": [
    "## Q6"
   ]
  },
  {
   "cell_type": "code",
   "execution_count": null,
   "id": "ea82b597-c89b-46c4-a329-01c82d358f9e",
   "metadata": {},
   "outputs": [],
   "source": []
  },
  {
   "cell_type": "markdown",
   "id": "f1eeb0ab-20c7-4129-896e-17fd5a6c67b1",
   "metadata": {},
   "source": [
    "## Q7"
   ]
  },
  {
   "cell_type": "code",
   "execution_count": null,
   "id": "c208790d-c062-485d-9f56-55db5a5ca70d",
   "metadata": {},
   "outputs": [],
   "source": []
  },
  {
   "cell_type": "markdown",
   "id": "3522a70e-3f2f-4d1e-bc0d-dd0343d18270",
   "metadata": {},
   "source": [
    "## Q8"
   ]
  },
  {
   "cell_type": "code",
   "execution_count": null,
   "id": "0201af8a-48fe-41df-9242-4c6facae09d1",
   "metadata": {},
   "outputs": [],
   "source": []
  },
  {
   "cell_type": "markdown",
   "id": "9840352d-be93-4e8c-98c6-1fd715515d36",
   "metadata": {},
   "source": [
    "## Q9"
   ]
  },
  {
   "cell_type": "code",
   "execution_count": null,
   "id": "fa7381cd-22a8-409f-91ef-35f1d8cad0e7",
   "metadata": {},
   "outputs": [],
   "source": []
  },
  {
   "cell_type": "markdown",
   "id": "db762e41-66bc-4bcf-9db2-33bb085cf8e9",
   "metadata": {},
   "source": [
    "# Q10"
   ]
  },
  {
   "cell_type": "code",
   "execution_count": null,
   "id": "fe60d9e5-bbff-4617-b6ee-5bf55b66fd33",
   "metadata": {},
   "outputs": [],
   "source": []
  }
 ],
 "metadata": {
  "kernelspec": {
   "display_name": "Python 3 (ipykernel)",
   "language": "python",
   "name": "python3"
  },
  "language_info": {
   "codemirror_mode": {
    "name": "ipython",
    "version": 3
   },
   "file_extension": ".py",
   "mimetype": "text/x-python",
   "name": "python",
   "nbconvert_exporter": "python",
   "pygments_lexer": "ipython3",
   "version": "3.10.12"
  }
 },
 "nbformat": 4,
 "nbformat_minor": 5
}
