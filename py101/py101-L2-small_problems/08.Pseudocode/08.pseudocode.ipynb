{
 "cells": [
  {
   "cell_type": "markdown",
   "id": "aebe26eb-cf7c-4939-89d6-f2a238fff756",
   "metadata": {},
   "source": [
    "# Exercise 1\n",
    "\n",
    "**1. a function that returns the sum of two numbers**\n",
    "\n",
    "GET a value from the user and store it as `float_1`\n",
    "GET another value in the same manner, stored as `float_2`\n",
    "IF both values are valid numbers (`.isdigit`)\n",
    "\tRETURN the sum of both values\n",
    "ELSE \n",
    "\tRETURN (None)"
   ]
  },
  {
   "cell_type": "markdown",
   "id": "b8e8d3c0-5c71-4b0e-b2a5-76e5475d71e9",
   "metadata": {},
   "source": [
    "# Exercise 2\n",
    "\n",
    "**a function that takes a list of integers, and returns a new list with every other element from the original list, starting with the first element. For instance:**\n",
    "\n",
    "My attempt at Level 1... feels hard to stay at level one with something this simple?\n",
    "- Given the list of strings\n",
    "\t- Define an empty string `result`\n",
    "\t- For each item in the list\n",
    "\t\t- IF the item is of type `str`\n",
    "\t\t\t- concatenate the item onto `result`\n",
    "\t\t- ELSE return Error Message\n",
    "\t- Return `result`\n",
    "\n",
    "# Exercise 3\n",
    "\n",
    "\n"
   ]
  },
  {
   "cell_type": "code",
   "execution_count": 13,
   "id": "22f39b5f-41a4-46ef-9b47-f7ba841d48f7",
   "metadata": {},
   "outputs": [
    {
     "name": "stdout",
     "output_type": "stream",
     "text": [
      "Error, only works on lists of strings\n",
      "helloworld1999!\n"
     ]
    }
   ],
   "source": [
    "x = ['plop',1,2,3,4,'elephant',483,'flower']\n",
    "y = ['hello', 'world', '1999!']\n",
    "\n",
    "def concat_list(my_list):\n",
    "    y = \"\"\n",
    "    for i in my_list:\n",
    "        if type(i) == str:\n",
    "          y += (i)\n",
    "        else:\n",
    "            return 'Error, only works on lists of strings'\n",
    "    return y\n",
    "\n",
    "print(concat_list(x))\n",
    "print(concat_list(y))"
   ]
  },
  {
   "cell_type": "markdown",
   "id": "64d3faaf-102a-4b61-8fc0-e0a10f0b2f69",
   "metadata": {},
   "source": [
    "# Exercise 4\n",
    "\n",
    "**a function that takes a list of strings, and returns a string that is all those strings concatenated together**\n",
    "\n",
    "Level 1\n",
    "- Define the function, accepting a list of integers as an argument: `my_list`\n",
    "\t- Create index variable for iterator\n",
    "\t- Iterate thru `my_list`\n",
    "\t\t- Use list comprehension to create a list called `newlist`:\n",
    "\t\t\t- item for item in `my_list` if `index % 2 = 0`\n",
    "\t- return `my_list`\n"
   ]
  },
  {
   "cell_type": "code",
   "execution_count": 9,
   "id": "28121f61-3d48-4e22-bae1-661e8bd65b3a",
   "metadata": {},
   "outputs": [
    {
     "ename": "AttributeError",
     "evalue": "'int' object has no attribute 'index'",
     "output_type": "error",
     "traceback": [
      "\u001b[0;31m---------------------------------------------------------------------------\u001b[0m",
      "\u001b[0;31mAttributeError\u001b[0m                            Traceback (most recent call last)",
      "Cell \u001b[0;32mIn[9], line 4\u001b[0m\n\u001b[1;32m      1\u001b[0m \u001b[38;5;28;01mdef\u001b[39;00m \u001b[38;5;21mevery_other\u001b[39m(my_list):\n\u001b[1;32m      2\u001b[0m     \u001b[38;5;28;01mreturn\u001b[39;00m [item \u001b[38;5;28;01mfor\u001b[39;00m item \u001b[38;5;129;01min\u001b[39;00m my_list \u001b[38;5;28;01mif\u001b[39;00m item\u001b[38;5;241m.\u001b[39mindex \u001b[38;5;241m%\u001b[39m \u001b[38;5;241m2\u001b[39m \u001b[38;5;241m==\u001b[39m \u001b[38;5;241m0\u001b[39m]\n\u001b[0;32m----> 4\u001b[0m \u001b[38;5;28mprint\u001b[39m(\u001b[43mevery_other\u001b[49m\u001b[43m(\u001b[49m\u001b[43m[\u001b[49m\u001b[38;5;241;43m1\u001b[39;49m\u001b[43m,\u001b[49m\u001b[38;5;241;43m2\u001b[39;49m\u001b[43m,\u001b[49m\u001b[38;5;241;43m3\u001b[39;49m\u001b[43m,\u001b[49m\u001b[38;5;241;43m4\u001b[39;49m\u001b[43m,\u001b[49m\u001b[38;5;241;43m5\u001b[39;49m\u001b[43m,\u001b[49m\u001b[38;5;241;43m6\u001b[39;49m\u001b[43m,\u001b[49m\u001b[38;5;241;43m7\u001b[39;49m\u001b[43m,\u001b[49m\u001b[38;5;241;43m8\u001b[39;49m\u001b[43m,\u001b[49m\u001b[38;5;241;43m65\u001b[39;49m\u001b[43m,\u001b[49m\u001b[38;5;124;43m'\u001b[39;49m\u001b[38;5;124;43mele\u001b[39;49m\u001b[38;5;124;43m'\u001b[39;49m\u001b[43m,\u001b[49m\u001b[38;5;124;43m'\u001b[39;49m\u001b[38;5;124;43mphant\u001b[39;49m\u001b[38;5;124;43m'\u001b[39;49m\u001b[43m]\u001b[49m\u001b[43m)\u001b[49m)\n",
      "Cell \u001b[0;32mIn[9], line 2\u001b[0m, in \u001b[0;36mevery_other\u001b[0;34m(my_list)\u001b[0m\n\u001b[1;32m      1\u001b[0m \u001b[38;5;28;01mdef\u001b[39;00m \u001b[38;5;21mevery_other\u001b[39m(my_list):\n\u001b[0;32m----> 2\u001b[0m     \u001b[38;5;28;01mreturn\u001b[39;00m [item \u001b[38;5;28;01mfor\u001b[39;00m item \u001b[38;5;129;01min\u001b[39;00m my_list \u001b[38;5;28;01mif\u001b[39;00m item\u001b[38;5;241m.\u001b[39mindex \u001b[38;5;241m%\u001b[39m \u001b[38;5;241m2\u001b[39m \u001b[38;5;241m==\u001b[39m \u001b[38;5;241m0\u001b[39m]\n",
      "Cell \u001b[0;32mIn[9], line 2\u001b[0m, in \u001b[0;36m<listcomp>\u001b[0;34m(.0)\u001b[0m\n\u001b[1;32m      1\u001b[0m \u001b[38;5;28;01mdef\u001b[39;00m \u001b[38;5;21mevery_other\u001b[39m(my_list):\n\u001b[0;32m----> 2\u001b[0m     \u001b[38;5;28;01mreturn\u001b[39;00m [item \u001b[38;5;28;01mfor\u001b[39;00m item \u001b[38;5;129;01min\u001b[39;00m my_list \u001b[38;5;28;01mif\u001b[39;00m \u001b[43mitem\u001b[49m\u001b[38;5;241;43m.\u001b[39;49m\u001b[43mindex\u001b[49m \u001b[38;5;241m%\u001b[39m \u001b[38;5;241m2\u001b[39m \u001b[38;5;241m==\u001b[39m \u001b[38;5;241m0\u001b[39m]\n",
      "\u001b[0;31mAttributeError\u001b[0m: 'int' object has no attribute 'index'"
     ]
    }
   ],
   "source": [
    "def every_other(my_list):\n",
    "    index = 0\n",
    "    while index < len(my_list):\n",
    "        return [item for item in my_list if item.index % 2 == 0]\n",
    "\n",
    "print(every_other([1,2,3,4,5,6,7,8,65,'ele','phant']))"
   ]
  },
  {
   "cell_type": "markdown",
   "id": "5e6d080b-2068-4f2c-a512-b279bd5e3b47",
   "metadata": {},
   "source": [
    "Hmmm, I'm actually not sure if there's a good way to do this with a comprehension... trying a new method"
   ]
  },
  {
   "cell_type": "code",
   "execution_count": 12,
   "id": "132d1ba7-7da7-464b-a1a2-cf1cea1097c4",
   "metadata": {},
   "outputs": [
    {
     "name": "stdout",
     "output_type": "stream",
     "text": [
      "[1, 3, 5, 7, 65, 'phant']\n"
     ]
    }
   ],
   "source": [
    "def every_other(my_list):\n",
    "    index = 0\n",
    "    newlist = []\n",
    "    while index < len(my_list):\n",
    "        if index % 2 == 0:\n",
    "            newlist.append(my_list[index])\n",
    "        index += 1\n",
    "    return newlist\n",
    "\n",
    "print(every_other([1,2,3,4,5,6,7,8,65,'ele','phant']))"
   ]
  },
  {
   "cell_type": "markdown",
   "id": "2e7d66bd-6f43-44b9-a6c4-b884ffe2ce52",
   "metadata": {},
   "source": [
    "# Exercise 5\n",
    "\n",
    "**a function that determines the index of the 3rd occurrence of a given character in a string. For instance, if the given character is `'x'` and the string is `'axbxcdxex'`, the function should return 6 (the index of the 3rd `'x'`). If the given character does not occur at least 3 times, return `None`.**\n",
    "\n",
    "## LEVEL 1\n",
    "\n",
    "I think I can use the 'find' method? Or is it search..."
   ]
  },
  {
   "cell_type": "code",
   "execution_count": 21,
   "id": "4f5db170-4404-4d88-80be-2a4962856997",
   "metadata": {},
   "outputs": [
    {
     "name": "stdout",
     "output_type": "stream",
     "text": [
      "1\n"
     ]
    }
   ],
   "source": [
    "string = 'axbxcdxex'\n",
    "print(string.find('x'))  # yep it's find"
   ]
  },
  {
   "cell_type": "markdown",
   "id": "50868b65-ff55-4953-9466-02a47231757e",
   "metadata": {},
   "source": [
    "- Define the function with `my_str` as parameter\n",
    "    - Create\n",
    "        - Count variable = 0\n",
    "        - index variable = 0\n",
    "    - If `my_str.count('x') >= 3` :\n",
    "        - Get the index of the first instance of X, reassigning the index variable to the current index, and incrementing the count variable if successful\n",
    "        - Repeat for the 2nd instance\n",
    "        - Repeat for the 3rd instance, return index\n",
    "    - Else return None\n",
    " \n",
    "## LEVEL 2\n",
    "START\n",
    "\n",
    "Given a string\n",
    "\n",
    "DEFINE THE FUNCTION with parameter (my_string, my_substring)\n",
    "    IF count of my_substring in `my_string` is at least 3:\n",
    "        SET Count variable = 0\n",
    "        SET index = 0\n",
    "        WHILE index <= len(my_string):\n",
    "            Use .find() to get the index of the first occurance of 'x'\n",
    "\n",
    "        ... ARGH... I FEEL LIKE I'M SO CLOSE TO JUST ACTUALLY WRITING REAL PYTHON CODE THAT i WANT TO JUST WRITE THE REAL CODE, EVEN IF IT' SLOPPY OR BROKEN!\n"
   ]
  },
  {
   "cell_type": "code",
   "execution_count": null,
   "id": "d282050b-afd5-4975-a8fb-de3323ff959d",
   "metadata": {},
   "outputs": [],
   "source": [
    "string = 'axbxcdxex'\n",
    "\n",
    "def get_3rd(my_string):\n",
    "    count = 0\n",
    "    index = 0\n",
    "    if my_string.count('x') >= 3:\n",
    "        while \n",
    "        index = my_string.index('x')\n",
    "\n",
    "''' \n",
    "I got to this point and then got frustrated, realizing that working\n",
    "in pseudocode would probably help me 😅\n",
    "'''"
   ]
  },
  {
   "cell_type": "markdown",
   "id": "d1e451d9-6941-4852-aaf8-3cc3fcab32c7",
   "metadata": {},
   "source": [
    "Back to pseudocode...\n",
    "START\n",
    "\n",
    "Given a string and a substring you wish to find the 3rd instance of...\n",
    "\n",
    "DEFINE THE FUNCTION with parameters (my_string, my_substring)\n",
    "    IF count of my_substring in `my_string` is at least 3:\n",
    "        SET Count variable = 0\n",
    "        SET index = 0\n",
    "        WHILE Count <= 3:\n",
    "            Use .find() to get the index of the first occurance of 'x'\n",
    "            SET index to the value of .find()\n",
    "            Count += 1\n",
    "            IF Count == 3\n",
    "                return index\n",
    "    ELSE\n",
    "        return -1"
   ]
  },
  {
   "cell_type": "markdown",
   "id": "93c63f75-51a6-4eee-952c-8db89482a4cc",
   "metadata": {},
   "source": [
    "Yay it worked!  (Assuming I did that correctly)  I really enjoyed this method of working thru the problem... it's more precise than Level 1 pseudocode, but easier to write (for me) than real Python."
   ]
  },
  {
   "cell_type": "markdown",
   "id": "b07e3bf7-ae5b-4cc7-b69c-df7ec02808f5",
   "metadata": {},
   "source": [
    "# Exercise 6\n",
    "\n",
    "**a function that takes two lists of numbers and returns the result of merging the lists. The elements of the first list should become the elements at the even indexes of the returned list, while the elements of the second list should become the elements at the odd indexes. For instance:**\n",
    "`merge([1, 2, 3], [4, 5, 6]) # => [1, 4, 2, 5, 3, 6]`\n",
    "\n",
    "\n",
    "## LEVEL 1 / 2\n",
    "\n",
    "- Define a function that takes two arguments: two lists of numbers\n",
    "- Get the length of the shortest list = `len_shortest`\n",
    "- Create an empty list `merged`\n",
    "- SET `index` == 0\n",
    "- Iterate over the lists using `len_shortest` as the maximum for the WHILE loop\n",
    "    - Add to `merged` : the first item of `list1` and the second item of `list2` (`index+1`).\n",
    "    - `index += 1`\n",
    "- RETURN `merged`"
   ]
  }
 ],
 "metadata": {
  "kernelspec": {
   "display_name": "Python 3 (ipykernel)",
   "language": "python",
   "name": "python3"
  },
  "language_info": {
   "codemirror_mode": {
    "name": "ipython",
    "version": 3
   },
   "file_extension": ".py",
   "mimetype": "text/x-python",
   "name": "python",
   "nbconvert_exporter": "python",
   "pygments_lexer": "ipython3",
   "version": "3.10.12"
  }
 },
 "nbformat": 4,
 "nbformat_minor": 5
}
