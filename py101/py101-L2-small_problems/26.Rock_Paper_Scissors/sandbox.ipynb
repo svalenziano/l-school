{
 "cells": [
  {
   "cell_type": "markdown",
   "id": "4d8d2730-1219-472b-8d58-ad0068303d30",
   "metadata": {},
   "source": [
    "# Simple match-case statement"
   ]
  },
  {
   "cell_type": "code",
   "execution_count": 1,
   "id": "419089a6-0406-4a5f-b2a9-779e0be92537",
   "metadata": {},
   "outputs": [
    {
     "name": "stdout",
     "output_type": "stream",
     "text": [
      "You win!\n"
     ]
    }
   ],
   "source": [
    "choice = 'rock'\n",
    "computer_choice = 'scissors'\n",
    "\n",
    "match (choice, computer_choice):\n",
    "    case ('rock', 'scissors'):\n",
    "        print('You win!')"
   ]
  },
  {
   "cell_type": "markdown",
   "id": "c5bd5a64-ae47-49f7-a46f-0c6d383a2823",
   "metadata": {},
   "source": [
    "# Or statement within case?"
   ]
  },
  {
   "cell_type": "code",
   "execution_count": 12,
   "id": "3b8196dc-993b-4a80-893f-1b5e6953a5c5",
   "metadata": {},
   "outputs": [
    {
     "name": "stdout",
     "output_type": "stream",
     "text": [
      "You win!\n"
     ]
    }
   ],
   "source": [
    "# choice = 'rock'; computer_choice = 'scissors'\n",
    "# choice = ''\n",
    "choice = 'paper'; computer_choice = 'rock'\n",
    "\n",
    "\n",
    "\n",
    "match (choice, computer_choice):\n",
    "    case ('rock', 'scissors') | ('paper','rock'):\n",
    "        print('You win!')\n",
    "    case _:\n",
    "        print('Something has gone terribly wrong')"
   ]
  }
 ],
 "metadata": {
  "kernelspec": {
   "display_name": "Python 3 (ipykernel)",
   "language": "python",
   "name": "python3"
  },
  "language_info": {
   "codemirror_mode": {
    "name": "ipython",
    "version": 3
   },
   "file_extension": ".py",
   "mimetype": "text/x-python",
   "name": "python",
   "nbconvert_exporter": "python",
   "pygments_lexer": "ipython3",
   "version": "3.10.12"
  }
 },
 "nbformat": 4,
 "nbformat_minor": 5
}
