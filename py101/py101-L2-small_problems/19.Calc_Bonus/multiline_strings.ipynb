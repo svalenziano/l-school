{
 "cells": [
  {
   "cell_type": "markdown",
   "id": "931d8e0d-6b7b-4669-b463-f07bbecf2aed",
   "metadata": {},
   "source": [
    "# Parentheses"
   ]
  },
  {
   "cell_type": "code",
   "execution_count": 2,
   "id": "ed659229-089e-4b2c-b717-f8cb858f83bb",
   "metadata": {},
   "outputs": [
    {
     "name": "stdout",
     "output_type": "stream",
     "text": [
      "This is a long string. It's actually very long. It spans multiple lines. Are you getting tired of this? So am I.\n"
     ]
    }
   ],
   "source": [
    "x =    (\"This is a long string. \"\n",
    "        \"It's actually very long. \"\n",
    "        \"It spans multiple lines. \"\n",
    "        \"Are you getting tired of this? \"\n",
    "        \"So am I.\")\n",
    "print (x)"
   ]
  },
  {
   "cell_type": "markdown",
   "id": "5b95cbe7-86dc-4bfa-8c82-7482e24927c1",
   "metadata": {},
   "source": [
    "# Triple-quoted strings"
   ]
  },
  {
   "cell_type": "code",
   "execution_count": 3,
   "id": "294dfc31-f2b0-422d-a854-b685b0339e50",
   "metadata": {},
   "outputs": [
    {
     "name": "stdout",
     "output_type": "stream",
     "text": [
      "\n",
      "    This is a long string.\n",
      "    It's actually very long.\n",
      "    It spans multiple lines.\n",
      "    Are you getting tired of this?\n",
      "    So am I.\n",
      "\n"
     ]
    }
   ],
   "source": [
    "x =  \"\"\"\n",
    "    This is a long string.\n",
    "    It's actually very long.\n",
    "    It spans multiple lines.\n",
    "    Are you getting tired of this?\n",
    "    So am I.\n",
    "\"\"\"\n",
    "print(x)"
   ]
  },
  {
   "cell_type": "code",
   "execution_count": 11,
   "id": "bef99b15-fb89-4d0a-a4c0-a013d28c8f1e",
   "metadata": {},
   "outputs": [
    {
     "name": "stdout",
     "output_type": "stream",
     "text": [
      "This is a long string.\n",
      "It's actually very long.\n",
      "It spans multiple lines.\n",
      "Are you getting tired of this?\n",
      "So am I.\n",
      "\n"
     ]
    }
   ],
   "source": [
    "# Backslashes still work within triple-quote strings \n",
    "# as escape characters\n",
    "x =  \"\"\"\\\n",
    "This is a long string.\n",
    "It's actually very long.\n",
    "It spans multiple lines.\n",
    "Are you getting tired of this?\n",
    "So am I.\n",
    "\"\"\"\n",
    "print(x)"
   ]
  },
  {
   "cell_type": "markdown",
   "id": "6f96de74-47e2-4e59-a481-a4819ce56991",
   "metadata": {},
   "source": [
    "# Backslashes\n",
    "- preserve whitespace\n",
    "- omit newlines"
   ]
  },
  {
   "cell_type": "code",
   "execution_count": 7,
   "id": "2ec61dfd-23a5-489b-88a5-ff92be0878b1",
   "metadata": {},
   "outputs": [
    {
     "name": "stdout",
     "output_type": "stream",
     "text": [
      "This is a long string. It's actually very long. It spans multiple lines. Are you getting tired of this? So am I.\n"
     ]
    }
   ],
   "source": [
    "x =  \\\n",
    "\"\\\n",
    "This is a long string. \\\n",
    "It's actually very long. \\\n",
    "It spans multiple lines. \\\n",
    "Are you getting tired of this? \\\n",
    "So am I.\\\n",
    "\"\n",
    "print(x)"
   ]
  },
  {
   "cell_type": "code",
   "execution_count": 4,
   "id": "bd33d4be-a763-412b-9116-99474a0d7493",
   "metadata": {},
   "outputs": [
    {
     "name": "stdout",
     "output_type": "stream",
     "text": [
      "    This is a long string.    It's actually very long.    It spans multiple lines.    Are you getting tired of this?    So am I.    \n"
     ]
    }
   ],
   "source": [
    "x =  \"\\\n",
    "    This is a long string.\\\n",
    "    It's actually very long.\\\n",
    "    It spans multiple lines.\\\n",
    "    Are you getting tired of this?\\\n",
    "    So am I.\\\n",
    "    \"\n",
    "print(x)"
   ]
  }
 ],
 "metadata": {
  "kernelspec": {
   "display_name": "Python 3 (ipykernel)",
   "language": "python",
   "name": "python3"
  },
  "language_info": {
   "codemirror_mode": {
    "name": "ipython",
    "version": 3
   },
   "file_extension": ".py",
   "mimetype": "text/x-python",
   "name": "python",
   "nbconvert_exporter": "python",
   "pygments_lexer": "ipython3",
   "version": "3.10.12"
  }
 },
 "nbformat": 4,
 "nbformat_minor": 5
}
