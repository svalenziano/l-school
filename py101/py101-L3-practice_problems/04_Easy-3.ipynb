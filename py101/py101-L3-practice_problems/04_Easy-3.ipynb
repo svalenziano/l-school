{
 "cells": [
  {
   "cell_type": "markdown",
   "id": "d4de2de2-3c69-4226-bbe5-5151db8050d3",
   "metadata": {},
   "source": [
    "# Practice Problems: Easy 3"
   ]
  },
  {
   "cell_type": "markdown",
   "id": "ee82ab82-5efb-4f4a-9989-abbad6d4c981",
   "metadata": {},
   "source": [
    "## Q1 ⚠️\n",
    "\n",
    "Had trouble coming up with a second method.\n",
    "\n",
    "Need to practice `while numbers` method"
   ]
  },
  {
   "cell_type": "code",
   "execution_count": 9,
   "id": "25c09f6f-2292-44c8-bf70-c007e45e96b4",
   "metadata": {},
   "outputs": [
    {
     "name": "stdout",
     "output_type": "stream",
     "text": [
      "# METHOD 1\n",
      "[]\n",
      "# METHOD 2\n",
      "4\n",
      "3\n",
      "2\n",
      "1\n",
      "[]\n",
      "# METHOD 3\n",
      "[]\n",
      "# METHOD 4\n",
      "[2, 4]\n"
     ]
    }
   ],
   "source": [
    "print(\"# METHOD 1\")\n",
    "numbers = [1, 2, 3, 4]\n",
    "\n",
    "numbers.clear()\n",
    "print(numbers)\n",
    "\n",
    "print(\"# METHOD 2\")\n",
    "numbers = [1, 2, 3, 4]\n",
    "while numbers:\n",
    "    print(numbers.pop())  # Note the difference when you use \"0\" or nothing for the argument of pop()\n",
    "print(numbers)\n",
    "        \n",
    "\n",
    "print(\"# METHOD 3\")\n",
    "# Note that the following solution will set numbers to an empty list, \n",
    "# but it doesn't clear the original list. That's fine if you know \n",
    "# there are no other references to the list.\n",
    "numbers = [1, 2, 3, 4]\n",
    "numbers = []\n",
    "print(numbers)\n",
    "\n",
    "print(\"# METHOD 4\")\n",
    "# THIS DOESN'T WORK BECAUSE YOU'RE MUTATING WHILE ITERATING ☹️\n",
    "numbers = [1, 2, 3, 4]\n",
    "# print(list(enumerate(numbers)))\n",
    "for index,_ in enumerate(numbers):\n",
    "    numbers.pop(index)\n",
    "print(numbers)\n",
    "    \n"
   ]
  },
  {
   "cell_type": "code",
   "execution_count": 9,
   "id": "5aa4e1c0-c635-45d0-aa1a-44e5818cd6ca",
   "metadata": {},
   "outputs": [
    {
     "name": "stdout",
     "output_type": "stream",
     "text": [
      "[2, 3, 4]\n"
     ]
    }
   ],
   "source": [
    "numbers = [1, 2, 3, 4]\n",
    "numbers.pop(0)\n",
    "print(numbers)"
   ]
  },
  {
   "cell_type": "markdown",
   "id": "a3062648-b509-40e5-8eba-9bbe0f4c8a30",
   "metadata": {},
   "source": [
    "## Q2"
   ]
  },
  {
   "cell_type": "code",
   "execution_count": 15,
   "id": "3200e8c1-1400-4c83-a5b1-21b224432ea5",
   "metadata": {},
   "outputs": [
    {
     "name": "stdout",
     "output_type": "stream",
     "text": [
      "[1, 2, 3, 4, 5]\n",
      "(1, 2, 3, 10, 11)\n",
      "☹️\n"
     ]
    }
   ],
   "source": [
    "print([1, 2, 3] + [4, 5])\n",
    "print((1,2,3) + (10,11))\n",
    "try:\n",
    "    print({1,2,3} + {1,2,4})\n",
    "except:\n",
    "    print('☹️')"
   ]
  },
  {
   "cell_type": "markdown",
   "id": "b5f40848-8562-40e0-ae2a-99493bf3f5d7",
   "metadata": {},
   "source": [
    "## Q3"
   ]
  },
  {
   "cell_type": "code",
   "execution_count": null,
   "id": "40c1e837-69f7-4936-9076-e509e3aa1801",
   "metadata": {},
   "outputs": [],
   "source": []
  },
  {
   "cell_type": "markdown",
   "id": "2d593579-3fbe-4d2d-a048-fd00fa1f5acf",
   "metadata": {},
   "source": [
    "## Q4"
   ]
  },
  {
   "cell_type": "code",
   "execution_count": null,
   "id": "5f4ca548-eade-4849-95a6-4dedb6866945",
   "metadata": {},
   "outputs": [],
   "source": []
  },
  {
   "cell_type": "markdown",
   "id": "cfb852e6-d428-45eb-936c-613ccda8706a",
   "metadata": {},
   "source": [
    "## Q5  ⚠️⚠️\n",
    "Had a decent amount of trouble with this one but I **did** figure it out without referrring to any documentation or answers.\n",
    "\n",
    "The thing I should have keyed into is that it's a **MEMBERSHIP TEST OPERATION**"
   ]
  },
  {
   "cell_type": "code",
   "execution_count": 27,
   "id": "9f87d981-a2e7-4cc1-ac0c-706f935cb09c",
   "metadata": {},
   "outputs": [
    {
     "name": "stdout",
     "output_type": "stream",
     "text": [
      "is_color_valid\n",
      "None\n",
      "True\n",
      "True\n",
      "None\n",
      "is_color_valid2\n",
      "False\n",
      "True\n",
      "True\n",
      "False\n",
      "is_color_valid3\n",
      "False\n",
      "True\n",
      "True\n",
      "False\n",
      "is_color_valid4\n",
      "False\n",
      "True\n",
      "True\n",
      "False\n"
     ]
    }
   ],
   "source": [
    "# Doesn't work... returns None instead of False\n",
    "def is_color_valid(color):\n",
    "    if color == \"blue\" or color == \"green\":\n",
    "        return bool(color)\n",
    "\n",
    "# SOLUTION 1\n",
    "# Works, but is not concise\n",
    "def is_color_valid2(color):\n",
    "    valid = ['blue', 'green']\n",
    "    check = color in valid\n",
    "    return check\n",
    "\n",
    "# Perfect !?!?!?\n",
    "def is_color_valid3(color):\n",
    "    return color in ['blue', 'green']\n",
    "\n",
    "# SOLUTION 2\n",
    "def is_color_valid4(color):\n",
    "    return (color == 'blue') or (color == 'green')\n",
    "\n",
    "# TEST\n",
    "for function in [is_color_valid, is_color_valid2, is_color_valid3,is_color_valid4]:\n",
    "    print(str(function).split(' ')[1])\n",
    "    for test_color in ['chartruesse', 'blue', 'green', 'vermillion']:\n",
    "        print(function(test_color))"
   ]
  },
  {
   "cell_type": "markdown",
   "id": "362380ce-90f4-40cd-a5c2-dcc8fd2460c8",
   "metadata": {},
   "source": [
    "## Q6"
   ]
  },
  {
   "cell_type": "code",
   "execution_count": null,
   "id": "ea82b597-c89b-46c4-a329-01c82d358f9e",
   "metadata": {},
   "outputs": [],
   "source": []
  },
  {
   "cell_type": "markdown",
   "id": "f1eeb0ab-20c7-4129-896e-17fd5a6c67b1",
   "metadata": {},
   "source": [
    "## Q7"
   ]
  },
  {
   "cell_type": "code",
   "execution_count": null,
   "id": "c208790d-c062-485d-9f56-55db5a5ca70d",
   "metadata": {},
   "outputs": [],
   "source": []
  },
  {
   "cell_type": "markdown",
   "id": "3522a70e-3f2f-4d1e-bc0d-dd0343d18270",
   "metadata": {},
   "source": [
    "## Q8"
   ]
  },
  {
   "cell_type": "code",
   "execution_count": null,
   "id": "0201af8a-48fe-41df-9242-4c6facae09d1",
   "metadata": {},
   "outputs": [],
   "source": []
  },
  {
   "cell_type": "markdown",
   "id": "9840352d-be93-4e8c-98c6-1fd715515d36",
   "metadata": {},
   "source": [
    "## Q9"
   ]
  },
  {
   "cell_type": "code",
   "execution_count": null,
   "id": "fa7381cd-22a8-409f-91ef-35f1d8cad0e7",
   "metadata": {},
   "outputs": [],
   "source": []
  },
  {
   "cell_type": "markdown",
   "id": "db762e41-66bc-4bcf-9db2-33bb085cf8e9",
   "metadata": {},
   "source": [
    "# Q10"
   ]
  },
  {
   "cell_type": "code",
   "execution_count": null,
   "id": "fe60d9e5-bbff-4617-b6ee-5bf55b66fd33",
   "metadata": {},
   "outputs": [],
   "source": []
  }
 ],
 "metadata": {
  "kernelspec": {
   "display_name": "Python 3 (ipykernel)",
   "language": "python",
   "name": "python3"
  },
  "language_info": {
   "codemirror_mode": {
    "name": "ipython",
    "version": 3
   },
   "file_extension": ".py",
   "mimetype": "text/x-python",
   "name": "python",
   "nbconvert_exporter": "python",
   "pygments_lexer": "ipython3",
   "version": "3.10.12"
  }
 },
 "nbformat": 4,
 "nbformat_minor": 5
}
