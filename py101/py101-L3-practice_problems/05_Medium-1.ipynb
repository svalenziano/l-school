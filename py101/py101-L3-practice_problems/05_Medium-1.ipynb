{
 "cells": [
  {
   "cell_type": "markdown",
   "id": "ee82ab82-5efb-4f4a-9989-abbad6d4c981",
   "metadata": {},
   "source": [
    "## Q1"
   ]
  },
  {
   "cell_type": "code",
   "execution_count": 6,
   "id": "25c09f6f-2292-44c8-bf70-c007e45e96b4",
   "metadata": {},
   "outputs": [
    {
     "name": "stdout",
     "output_type": "stream",
     "text": [
      "- The Flinstones Rock!\n",
      "-- The Flinstones Rock!\n",
      "--- The Flinstones Rock!\n",
      "---- The Flinstones Rock!\n",
      "----- The Flinstones Rock!\n",
      "------ The Flinstones Rock!\n",
      "------- The Flinstones Rock!\n",
      "-------- The Flinstones Rock!\n",
      "--------- The Flinstones Rock!\n",
      "---------- The Flinstones Rock!\n"
     ]
    }
   ],
   "source": [
    "text = 'The Flinstones Rock!'\n",
    "for padding in range(1, 10+1):\n",
    "    print('-'*padding, text)"
   ]
  },
  {
   "cell_type": "markdown",
   "id": "a3062648-b509-40e5-8eba-9bbe0f4c8a30",
   "metadata": {},
   "source": [
    "## Q2"
   ]
  },
  {
   "cell_type": "code",
   "execution_count": 21,
   "id": "3200e8c1-1400-4c83-a5b1-21b224432ea5",
   "metadata": {},
   "outputs": [
    {
     "name": "stdout",
     "output_type": "stream",
     "text": [
      "[1, 3, 19, 57]\n",
      "[]\n"
     ]
    }
   ],
   "source": [
    "def factors(number):\n",
    "    divisor = number\n",
    "    result = []\n",
    "    while divisor > 0:\n",
    "        if number % divisor == 0:\n",
    "            result.append(number // divisor)\n",
    "        divisor -= 1\n",
    "    return result\n",
    "\n",
    "print(factors(57))\n",
    "print(factors(-1))"
   ]
  },
  {
   "cell_type": "markdown",
   "id": "b5f40848-8562-40e0-ae2a-99493bf3f5d7",
   "metadata": {},
   "source": [
    "## Q3\n",
    "\n",
    "the second function creates a new object, which will probably come with a performance penalty (?)"
   ]
  },
  {
   "cell_type": "code",
   "execution_count": null,
   "id": "40c1e837-69f7-4936-9076-e509e3aa1801",
   "metadata": {},
   "outputs": [],
   "source": [
    "def add_to_rolling_buffer1(buffer, max_buffer_size, new_element):\n",
    "    buffer.append(new_element)   # mutates the existing buffer\n",
    "    if len(buffer) > max_buffer_size:\n",
    "        buffer.pop(0)\n",
    "    return buffer\n",
    "\n",
    "def add_to_rolling_buffer2(buffer, max_buffer_size, new_element):\n",
    "    buffer = buffer + [new_element]   # reassigns the buffer (creates a new object)\n",
    "    if len(buffer) > max_buffer_size:\n",
    "        buffer.pop(0)\n",
    "    return buffer"
   ]
  },
  {
   "cell_type": "markdown",
   "id": "2d593579-3fbe-4d2d-a048-fd00fa1f5acf",
   "metadata": {},
   "source": [
    "## Q4  ⚠️⚠️\n",
    "My guess:\n",
    "0.9, and\n",
    "True, because the + is evaluated before the =="
   ]
  },
  {
   "cell_type": "code",
   "execution_count": 22,
   "id": "3573c44a-8440-4b6c-81e8-afc6d2df633c",
   "metadata": {},
   "outputs": [
    {
     "name": "stdout",
     "output_type": "stream",
     "text": [
      "0.8999999999999999\n",
      "False\n"
     ]
    }
   ],
   "source": [
    "print(0.3 + 0.6)\n",
    "print(0.3 + 0.6 == 0.9)"
   ]
  },
  {
   "cell_type": "markdown",
   "id": "791ad1eb-a56d-41da-b19b-ac31da5483c7",
   "metadata": {},
   "source": [
    "Arrrgh, vanquished by the imprecision of floats!"
   ]
  },
  {
   "cell_type": "code",
   "execution_count": 25,
   "id": "6bf0d159-14fd-43a1-9d65-91897aa463da",
   "metadata": {},
   "outputs": [
    {
     "name": "stdout",
     "output_type": "stream",
     "text": [
      "True\n"
     ]
    }
   ],
   "source": [
    "from math import isclose\n",
    "print(isclose(0.3 + 0.6, 0.9))"
   ]
  },
  {
   "cell_type": "markdown",
   "id": "cfb852e6-d428-45eb-936c-613ccda8706a",
   "metadata": {},
   "source": [
    "## Q5"
   ]
  },
  {
   "cell_type": "code",
   "execution_count": 31,
   "id": "9f87d981-a2e7-4cc1-ac0c-706f935cb09c",
   "metadata": {},
   "outputs": [
    {
     "name": "stdout",
     "output_type": "stream",
     "text": [
      "False\n",
      "False\n",
      "False\n",
      "True\n"
     ]
    }
   ],
   "source": [
    "nan_value = float(\"nan\")\n",
    "print(nan_value == float(\"nan\"))\n",
    "\n",
    "# my answer\n",
    "print(float('nan') == float('nan'))\n",
    "print(float('nan') is float('nan'))\n",
    "from math import isnan\n",
    "print(isnan(nan_value))"
   ]
  },
  {
   "cell_type": "markdown",
   "id": "362380ce-90f4-40cd-a5c2-dcc8fd2460c8",
   "metadata": {},
   "source": [
    "## Q6"
   ]
  },
  {
   "cell_type": "code",
   "execution_count": 32,
   "id": "ea82b597-c89b-46c4-a329-01c82d358f9e",
   "metadata": {},
   "outputs": [
    {
     "name": "stdout",
     "output_type": "stream",
     "text": [
      "34\n"
     ]
    }
   ],
   "source": [
    "answer = 42\n",
    "\n",
    "def mess_with_it(some_number):\n",
    "    return some_number + 8\n",
    "\n",
    "new_answer = mess_with_it(answer)\n",
    "\n",
    "print(answer - 8)"
   ]
  },
  {
   "cell_type": "markdown",
   "id": "f1eeb0ab-20c7-4129-896e-17fd5a6c67b1",
   "metadata": {},
   "source": [
    "## Q7  ⚠️⚠️⚠️"
   ]
  },
  {
   "cell_type": "code",
   "execution_count": 34,
   "id": "c208790d-c062-485d-9f56-55db5a5ca70d",
   "metadata": {},
   "outputs": [
    {
     "name": "stdout",
     "output_type": "stream",
     "text": [
      "{'Herman': {'age': 32, 'gender': 'male'}, 'Lily': {'age': 30, 'gender': 'female'}, 'Grandpa': {'age': 402, 'gender': 'male'}, 'Eddie': {'age': 10, 'gender': 'male'}, 'Marilyn': {'age': 23, 'gender': 'female'}}\n",
      "\n",
      "{'Herman': {'age': 74, 'gender': 'other'}, 'Lily': {'age': 72, 'gender': 'other'}, 'Grandpa': {'age': 444, 'gender': 'other'}, 'Eddie': {'age': 52, 'gender': 'other'}, 'Marilyn': {'age': 65, 'gender': 'other'}}\n"
     ]
    }
   ],
   "source": [
    "def mess_with_demographics(demo_dict):\n",
    "    for key, value in demo_dict.items():\n",
    "        value[\"age\"] += 42\n",
    "        value[\"gender\"] = \"other\"\n",
    "\n",
    "munsters = {\n",
    "    \"Herman\": {\"age\": 32, \"gender\": \"male\"},\n",
    "    \"Lily\": {\"age\": 30, \"gender\": \"female\"},\n",
    "    \"Grandpa\": {\"age\": 402, \"gender\": \"male\"},\n",
    "    \"Eddie\": {\"age\": 10, \"gender\": \"male\"},\n",
    "    \"Marilyn\": {\"age\": 23, \"gender\": \"female\"},\n",
    "}\n",
    "\n",
    "print(munsters)\n",
    "\n",
    "mess_with_demographics(munsters)\n",
    "\n",
    "print()  # for easier reading\n",
    "print(munsters)"
   ]
  },
  {
   "cell_type": "markdown",
   "id": "18da8602-8697-49e0-bb29-961f0be5bac7",
   "metadata": {},
   "source": [
    "#### Didn't work"
   ]
  },
  {
   "cell_type": "code",
   "execution_count": 41,
   "id": "1d1558f2-e5fe-4d61-8115-eae7991e874c",
   "metadata": {},
   "outputs": [
    {
     "name": "stdout",
     "output_type": "stream",
     "text": [
      "{'Steven': 1, 'Reyshan': 2, 'Raleigh': 3.0}\n",
      "\n",
      "{'Steven': 1, 'Reyshan': 2, 'Raleigh': 3.0}\n",
      "{'Steven': 1, 'Reyshan': 2, 'Raleigh': 3.0}\n"
     ]
    }
   ],
   "source": [
    "simple_dict = {\n",
    "    'Steven' : 1,\n",
    "    'Reyshan' : 2,\n",
    "    'Raleigh' : 3.\n",
    "    }\n",
    "\n",
    "def edit_with_dict_view(orig_dict):\n",
    "    for key, value in orig_dict.items():\n",
    "        # print(key)\n",
    "        key = 'Uh oh'\n",
    "        # print(key)\n",
    "        value = \"Oops\"\n",
    "    print(orig_dict)\n",
    "\n",
    "print(simple_dict)\n",
    "print()\n",
    "edit_with_dict_view(simple_dict)\n",
    "print(simple_dict)"
   ]
  },
  {
   "cell_type": "markdown",
   "id": "d28309c9-c933-470c-a45c-ac313aeac6e1",
   "metadata": {},
   "source": [
    "### Trying again: success w values, not sure how to mod keys"
   ]
  },
  {
   "cell_type": "code",
   "execution_count": 43,
   "id": "268b4a35-9feb-41fb-ad20-6113f0cc32f9",
   "metadata": {},
   "outputs": [
    {
     "name": "stdout",
     "output_type": "stream",
     "text": [
      "{'Steven': 1, 'Reyshan': 2, 'Raleigh': 3.0}\n",
      "\n",
      "{'Steven': 'Uh oh', 'Reyshan': 'Uh oh', 'Raleigh': 'Uh oh'}\n"
     ]
    }
   ],
   "source": [
    "simple_dict = {\n",
    "    'Steven' : 1,\n",
    "    'Reyshan' : 2,\n",
    "    'Raleigh' : 3.\n",
    "    }\n",
    "\n",
    "def edit_with_dict_view(orig_dict):\n",
    "    for key, value in orig_dict.items():\n",
    "        orig_dict[key] = 'Uh oh'\n",
    "\n",
    "print(simple_dict)\n",
    "print()\n",
    "edit_with_dict_view(simple_dict)\n",
    "print(simple_dict)"
   ]
  },
  {
   "cell_type": "markdown",
   "id": "9bbb0617-346e-4402-ba27-bdf641d920f1",
   "metadata": {},
   "source": [
    "### Oh duh, modifying keys isn't possible, you just make new ones!\n",
    "\n",
    "I tried the below example, and clearly my knowledge is very shaky :(\n",
    "\n",
    "Like LS told ya -- don't mutate during iteration?"
   ]
  },
  {
   "cell_type": "code",
   "execution_count": 48,
   "id": "ca9bbb7d-0157-4dee-9348-d5b7eabe24be",
   "metadata": {},
   "outputs": [
    {
     "name": "stdout",
     "output_type": "stream",
     "text": [
      "{'Steven': 1, 'Reyshan': 2, 'Raleigh': 3.0}\n",
      "\n"
     ]
    },
    {
     "ename": "RuntimeError",
     "evalue": "dictionary changed size during iteration",
     "output_type": "error",
     "traceback": [
      "\u001b[0;31m---------------------------------------------------------------------------\u001b[0m",
      "\u001b[0;31mRuntimeError\u001b[0m                              Traceback (most recent call last)",
      "Cell \u001b[0;32mIn[48], line 13\u001b[0m\n\u001b[1;32m     11\u001b[0m \u001b[38;5;28mprint\u001b[39m(simple_dict)\n\u001b[1;32m     12\u001b[0m \u001b[38;5;28mprint\u001b[39m()\n\u001b[0;32m---> 13\u001b[0m \u001b[43medit_with_dict_view\u001b[49m\u001b[43m(\u001b[49m\u001b[43msimple_dict\u001b[49m\u001b[43m)\u001b[49m\n\u001b[1;32m     14\u001b[0m \u001b[38;5;28mprint\u001b[39m(simple_dict)\n",
      "Cell \u001b[0;32mIn[48], line 8\u001b[0m, in \u001b[0;36medit_with_dict_view\u001b[0;34m(orig_dict)\u001b[0m\n\u001b[1;32m      7\u001b[0m \u001b[38;5;28;01mdef\u001b[39;00m \u001b[38;5;21medit_with_dict_view\u001b[39m(orig_dict):\n\u001b[0;32m----> 8\u001b[0m     \u001b[38;5;28;01mfor\u001b[39;00m key, value \u001b[38;5;129;01min\u001b[39;00m orig_dict\u001b[38;5;241m.\u001b[39mitems():\n\u001b[1;32m      9\u001b[0m         orig_dict[key \u001b[38;5;241m+\u001b[39m \u001b[38;5;124m\"\u001b[39m\u001b[38;5;124m_01\u001b[39m\u001b[38;5;124m\"\u001b[39m] \u001b[38;5;241m=\u001b[39m \u001b[38;5;124m\"\u001b[39m\u001b[38;5;124mjumbotron\u001b[39m\u001b[38;5;124m\"\u001b[39m\n",
      "\u001b[0;31mRuntimeError\u001b[0m: dictionary changed size during iteration"
     ]
    }
   ],
   "source": [
    "simple_dict = {\n",
    "    'Steven' : 1,\n",
    "    'Reyshan' : 2,\n",
    "    'Raleigh' : 3.\n",
    "    }\n",
    "\n",
    "def edit_with_dict_view(orig_dict):\n",
    "    for key, value in orig_dict.items():\n",
    "        orig_dict[key + \"_01\"] = \"jumbotron\"\n",
    "        \n",
    "print(simple_dict)\n",
    "print()\n",
    "edit_with_dict_view(simple_dict)\n",
    "print(simple_dict)"
   ]
  },
  {
   "cell_type": "markdown",
   "id": "53530965-aaef-4d97-b64a-3db7b0e27abd",
   "metadata": {},
   "source": [
    "### That makes sense, I guess you gotta create an entire new dict?"
   ]
  },
  {
   "cell_type": "code",
   "execution_count": 55,
   "id": "c2f31b85-ee2f-418d-8904-4bdfebf5244d",
   "metadata": {},
   "outputs": [
    {
     "name": "stdout",
     "output_type": "stream",
     "text": [
      "{'Steven': 1, 'Reyshan': 2, 'Raleigh': 3.0}\n",
      "\n",
      "{'Steven_01': 'Boop', 'Reyshan_01': 'Boop', 'Raleigh_01': 'Boop'}\n",
      "\n",
      "{'Steven': 1, 'Reyshan': 2, 'Raleigh': 3.0}\n"
     ]
    }
   ],
   "source": [
    "simple_dict = {\n",
    "    'Steven' : 1,\n",
    "    'Reyshan' : 2,\n",
    "    'Raleigh' : 3.\n",
    "    }\n",
    "\n",
    "def edit_with_dict_view(orig_dict):\n",
    "    new_dict = dict()\n",
    "    for key, value in orig_dict.items():\n",
    "        new_dict[key + \"_01\"] = \"Boop\"\n",
    "    return new_dict\n",
    "        \n",
    "print(simple_dict)\n",
    "print()\n",
    "\n",
    "dict_copy = edit_with_dict_view(simple_dict)\n",
    "print(dict_copy)\n",
    "print()\n",
    "\n",
    "print(simple_dict)"
   ]
  },
  {
   "cell_type": "markdown",
   "id": "3522a70e-3f2f-4d1e-bc0d-dd0343d18270",
   "metadata": {},
   "source": [
    "## Q8"
   ]
  },
  {
   "cell_type": "markdown",
   "id": "c3ce0c31-c54a-454f-8090-12680ea2d9c0",
   "metadata": {},
   "source": [
    "### Experimenting prior to answering the main question"
   ]
  },
  {
   "cell_type": "code",
   "execution_count": 56,
   "id": "1ce0e47d-3034-43a3-aa9d-fd6c380a6671",
   "metadata": {},
   "outputs": [],
   "source": [
    "def rps(fist1, fist2):\n",
    "    if fist1 == \"rock\":\n",
    "        return \"paper\" if fist2 == \"paper\" else \"rock\"\n",
    "    elif fist1 == \"paper\":\n",
    "        return \"scissors\" if fist2 == \"scissors\" else \"paper\"\n",
    "    else:\n",
    "        return \"rock\" if fist2 == \"rock\" else \"scissors\""
   ]
  },
  {
   "cell_type": "code",
   "execution_count": null,
   "id": "93094272-093b-4d9c-a99d-7a1811ef668f",
   "metadata": {},
   "outputs": [],
   "source": [
    "My expectations:\n",
    "\n",
    "fist 1 = rock\n",
    "fist 2 = rock\n",
    "return 'rock'\n",
    "\n",
    "fist 1 = rock\n",
    "fist 2 = scissors\n",
    "return 'rock'\n",
    "\n",
    "fist 1 = scissors\n",
    "fist 2 = paper\n",
    "return 'scissors'"
   ]
  },
  {
   "cell_type": "markdown",
   "id": "fb034938-572f-4a6d-b3fb-5e70fc72183c",
   "metadata": {},
   "source": [
    "### As expected:"
   ]
  },
  {
   "cell_type": "code",
   "execution_count": 1,
   "id": "dece954d-eee7-453c-bec4-f4fa6f6ebecc",
   "metadata": {},
   "outputs": [
    {
     "name": "stdout",
     "output_type": "stream",
     "text": [
      "rock\n",
      "rock\n",
      "scissors\n"
     ]
    }
   ],
   "source": [
    "def rps(fist1, fist2):\n",
    "    if fist1 == \"rock\":\n",
    "        return \"paper\" if fist2 == \"paper\" else \"rock\"\n",
    "    elif fist1 == \"paper\":\n",
    "        return \"scissors\" if fist2 == \"scissors\" else \"paper\"\n",
    "    else:\n",
    "        return \"rock\" if fist2 == \"rock\" else \"scissors\"\n",
    "\n",
    "print(rps('rock', 'rock'))\n",
    "print(rps('rock', 'scissors'))\n",
    "print(rps('scissors', 'paper'))"
   ]
  },
  {
   "cell_type": "markdown",
   "id": "8a8333bb-adb7-4123-889e-6bc4b3566147",
   "metadata": {},
   "source": [
    "### My expectations for the question"
   ]
  },
  {
   "cell_type": "code",
   "execution_count": 3,
   "id": "19bb388c-0364-4633-a810-d37f06432db8",
   "metadata": {},
   "outputs": [
    {
     "name": "stdout",
     "output_type": "stream",
     "text": [
      "paper\n"
     ]
    }
   ],
   "source": [
    "print(rps(rps(rps(\"rock\", \"paper\"), rps(\"rock\", \"scissors\")), \"rock\"))\n",
    "\n",
    "# My expectations:\n",
    "# rock, rock > rock\n",
    "# rock\n",
    "\n",
    "# OH CRAP, I BLANKED AND FORGOT THAT PAPER BEATS ROCK 😭\n"
   ]
  },
  {
   "cell_type": "markdown",
   "id": "9840352d-be93-4e8c-98c6-1fd715515d36",
   "metadata": {},
   "source": [
    "## Q9  ⚠️⚠️"
   ]
  },
  {
   "cell_type": "markdown",
   "id": "9592fe38-eaf0-45cf-a0ca-1f942668c3fb",
   "metadata": {},
   "source": [
    "TESTING:"
   ]
  },
  {
   "cell_type": "code",
   "execution_count": 5,
   "id": "29b022ec-791f-4b67-85fb-f6824d6658bb",
   "metadata": {},
   "outputs": [
    {
     "name": "stdout",
     "output_type": "stream",
     "text": [
      "No thanks\n",
      "Yes plz\n"
     ]
    }
   ],
   "source": [
    "def default_value(param = \"No thanks\"):\n",
    "    print(param)\n",
    "\n",
    "default_value()\n",
    "default_value('Yes plz')"
   ]
  },
  {
   "cell_type": "code",
   "execution_count": null,
   "id": "50955e4d-8d88-4d23-a876-599d4b75e2ab",
   "metadata": {},
   "outputs": [],
   "source": [
    "ANSWERING:\n",
    "\n",
    "Order of ops: equality, not, and, or\n",
    "param == 'no' evals to False, since foo() = 'yes'\n",
    "falsy and 'yes' evals to falsy\n",
    "falsy or 'no' evals to truthy (non-zero string)"
   ]
  },
  {
   "cell_type": "markdown",
   "id": "a0ca7e61-76da-4f6c-abae-5b0af1bb87d5",
   "metadata": {},
   "source": [
    "### This is the code I was evaluating"
   ]
  },
  {
   "cell_type": "code",
   "execution_count": 9,
   "id": "a8a95d22-073b-472c-ab4d-e86a79cae7fa",
   "metadata": {},
   "outputs": [
    {
     "data": {
      "text/plain": [
       "'no'"
      ]
     },
     "execution_count": 9,
     "metadata": {},
     "output_type": "execute_result"
    }
   ],
   "source": [
    "def foo(param=\"no\"):\n",
    "    return \"yes\"\n",
    "\n",
    "def bar(param=\"no\"):\n",
    "    return param == \"no\" and foo() or \"no\"\n",
    "\n",
    "bar(foo())"
   ]
  },
  {
   "cell_type": "markdown",
   "id": "e4cd163f-86b6-4ab0-a429-dee51fdf6d99",
   "metadata": {},
   "source": [
    "ARGH, I missed this one, need to practice this stuff.\n",
    "\n"
   ]
  },
  {
   "cell_type": "markdown",
   "id": "db762e41-66bc-4bcf-9db2-33bb085cf8e9",
   "metadata": {},
   "source": [
    "## Q10 ⚠️⚠️"
   ]
  },
  {
   "cell_type": "markdown",
   "id": "9a620334-0aca-4a8a-b923-0ef5e57e0c1e",
   "metadata": {},
   "source": [
    "My predictions:\n",
    "- id(a) != id(b)\n",
    "- id(b) == id(c) (due to interning)\n",
    "- the print statement prints 'False'"
   ]
  },
  {
   "cell_type": "markdown",
   "id": "fe56cb24-3743-4da9-9a41-7517dfa24a42",
   "metadata": {},
   "source": [
    "Result: YOU WERE WRONG!\n",
    "- Interning makes id(a) == id(b) !\n",
    "- c = a will result in identical ids, regardless of interning"
   ]
  },
  {
   "cell_type": "code",
   "execution_count": 19,
   "id": "3b7ed797-9c53-4f74-acfd-bd311838c814",
   "metadata": {},
   "outputs": [
    {
     "name": "stdout",
     "output_type": "stream",
     "text": [
      "True\n",
      "\n",
      "y = x should result in both variables\n",
      "pointing at the same object: \n",
      "True\n",
      "\n",
      "Even though x is indentical to z, \n",
      "they dont point to the same object: \n",
      "False\n",
      "False\n"
     ]
    }
   ],
   "source": [
    "a = 42\n",
    "b = 42\n",
    "c = a\n",
    "\n",
    "print(id(a) == id(b) == id(c))\n",
    "\n",
    "x = [1,2,3]\n",
    "y = x\n",
    "z = [1,2,3]\n",
    "print(\"\"\"\n",
    "y = x should result in both variables\n",
    "pointing at the same object: \"\"\"\n",
    "     )\n",
    "print(id(x) == id(y))\n",
    "\n",
    "print(\"\"\"\n",
    "Even though x is indentical to z, \n",
    "they dont point to the same object: \"\"\"\n",
    "     )\n",
    "print(id(x) == id(z))\n",
    "print(id(y) == id(z))"
   ]
  }
 ],
 "metadata": {
  "kernelspec": {
   "display_name": "Python 3 (ipykernel)",
   "language": "python",
   "name": "python3"
  },
  "language_info": {
   "codemirror_mode": {
    "name": "ipython",
    "version": 3
   },
   "file_extension": ".py",
   "mimetype": "text/x-python",
   "name": "python",
   "nbconvert_exporter": "python",
   "pygments_lexer": "ipython3",
   "version": "3.10.12"
  }
 },
 "nbformat": 4,
 "nbformat_minor": 5
}
