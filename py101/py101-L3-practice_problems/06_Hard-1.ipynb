{
 "cells": [
  {
   "cell_type": "markdown",
   "id": "d4de2de2-3c69-4226-bbe5-5151db8050d3",
   "metadata": {},
   "source": [
    "# Practice Problems\n",
    "HARD 01\n",
    "https://launchschool.com/lessons/106644d9/assignments/04602864"
   ]
  },
  {
   "cell_type": "markdown",
   "id": "ee82ab82-5efb-4f4a-9989-abbad6d4c981",
   "metadata": {},
   "source": [
    "## Q1  ⚠️⚠️\n",
    "**My answer**\n",
    "Both functions return an identical dictionary.  The whitespace is irrelevant since it outside of the key/value.\n",
    "`{'prop':'hi there'}`\n",
    "\n",
    "**Oops**\n",
    "That was incorrect because the return in `second` is on a separate line, returning None.  I keyed into the contents of the dictionary and was blind to that difference."
   ]
  },
  {
   "cell_type": "code",
   "execution_count": 1,
   "id": "25c09f6f-2292-44c8-bf70-c007e45e96b4",
   "metadata": {},
   "outputs": [
    {
     "name": "stdout",
     "output_type": "stream",
     "text": [
      "{'prop1': 'hi there'}\n",
      "None\n"
     ]
    }
   ],
   "source": [
    "def first():\n",
    "    return {\n",
    "        'prop1': \"hi there\",\n",
    "    }\n",
    "\n",
    "def second():\n",
    "    return\n",
    "    {\n",
    "        'prop1': \"hi there\",\n",
    "    }\n",
    "\n",
    "print(first())\n",
    "print(second())"
   ]
  },
  {
   "cell_type": "code",
   "execution_count": 5,
   "id": "709c95ee-d0bd-49ba-a0e1-4dae8e6c8134",
   "metadata": {},
   "outputs": [
    {
     "name": "stdout",
     "output_type": "stream",
     "text": [
      "{'prop1': 'hi there'}\n",
      "None\n",
      "{'prop1': 'hi there'}\n"
     ]
    }
   ],
   "source": [
    "# my test to ensure i understand things correctly\n",
    "def first():\n",
    "    return {\n",
    "        'prop1': \"hi there\",\n",
    "    }\n",
    "\n",
    "def second():\n",
    "    return\n",
    "    {\n",
    "        'prop1': \"hi there\",\n",
    "    }\n",
    "\n",
    "def third():\n",
    "    return {\n",
    "        \n",
    "        'prop1': 'hi there',\n",
    "    \n",
    "    }\n",
    "\n",
    "print(first())\n",
    "print(second())\n",
    "print(third())  # yes - as expected"
   ]
  },
  {
   "cell_type": "markdown",
   "id": "a3062648-b509-40e5-8eba-9bbe0f4c8a30",
   "metadata": {},
   "source": [
    "## Q2 ⚠️⚠️\n",
    "\n",
    "expected:\n",
    "the num_list variable is initialized with the value `[1]`\n",
    "num_list then becomes `[1, 2]`\n",
    "\n",
    "what will print?\n",
    "`[1, 2]`\n",
    "`{'first': [1]}`\n",
    "\n",
    "**oH NOOOO, I was wrong**"
   ]
  },
  {
   "cell_type": "code",
   "execution_count": 6,
   "id": "3200e8c1-1400-4c83-a5b1-21b224432ea5",
   "metadata": {},
   "outputs": [
    {
     "name": "stdout",
     "output_type": "stream",
     "text": [
      "[1, 2]\n",
      "{'first': [1, 2]}\n"
     ]
    }
   ],
   "source": [
    "# ORIGINAL CODE\n",
    "dictionary = {'first': [1]}\n",
    "num_list = dictionary['first']\n",
    "num_list.append(2)\n",
    "\n",
    "print(num_list)\n",
    "print(dictionary)"
   ]
  },
  {
   "cell_type": "code",
   "execution_count": 7,
   "id": "bf9e984c-c375-4e97-9c39-1c424b586dbf",
   "metadata": {},
   "outputs": [
    {
     "name": "stdout",
     "output_type": "stream",
     "text": [
      "[1, 2]\n",
      "{'first': [1]}\n"
     ]
    }
   ],
   "source": [
    "# MAKING IT WORK AS EXPECTED\n",
    "\n",
    "dictionary = {'first': [1]}\n",
    "num_list = dictionary['first'][:]\n",
    "num_list.append(2)\n",
    "\n",
    "print(num_list)\n",
    "print(dictionary)"
   ]
  },
  {
   "cell_type": "code",
   "execution_count": 10,
   "id": "083d957d-e73f-4156-b292-571c8d9b1cdf",
   "metadata": {},
   "outputs": [
    {
     "name": "stdout",
     "output_type": "stream",
     "text": [
      "[1, 2]\n",
      "{'first': [1]}\n"
     ]
    }
   ],
   "source": [
    "# THIS ALSO WORKS\n",
    "import copy\n",
    "\n",
    "dictionary = {'first': [1]}\n",
    "num_list = copy.deepcopy(dictionary['first'])\n",
    "num_list.append(2)\n",
    "\n",
    "print(num_list)\n",
    "print(dictionary)"
   ]
  },
  {
   "cell_type": "markdown",
   "id": "b5f40848-8562-40e0-ae2a-99493bf3f5d7",
   "metadata": {},
   "source": [
    "## Q3"
   ]
  },
  {
   "cell_type": "markdown",
   "id": "f8701b4d-dda8-4608-865f-cc63061eebd9",
   "metadata": {},
   "source": [
    "### A)"
   ]
  },
  {
   "cell_type": "code",
   "execution_count": 12,
   "id": "40c1e837-69f7-4936-9076-e509e3aa1801",
   "metadata": {},
   "outputs": [
    {
     "name": "stdout",
     "output_type": "stream",
     "text": [
      "one is: ['one']\n",
      "two is: ['two']\n",
      "three is: ['three']\n"
     ]
    }
   ],
   "source": [
    "def mess_with_vars(one, two, three):\n",
    "    one = two\n",
    "    two = three\n",
    "    three = one  # No return statement, reassignment will work only within function\n",
    "\n",
    "one = [\"one\"]\n",
    "two = [\"two\"]\n",
    "three = [\"three\"]\n",
    "\n",
    "mess_with_vars(one, two, three)\n",
    "\n",
    "# expect all variables to remain unchanged.  \n",
    "# You can mutate lists from within a function but you can't reassign them\n",
    "# Let's check and see...\n",
    "print(f\"one is: {one}\")\n",
    "print(f\"two is: {two}\")\n",
    "print(f\"three is: {three}\")"
   ]
  },
  {
   "cell_type": "markdown",
   "id": "d98707f4-570a-42a9-8c91-be276277c7ba",
   "metadata": {},
   "source": [
    "### B)"
   ]
  },
  {
   "cell_type": "code",
   "execution_count": 13,
   "id": "9973979d-96d7-4811-b79d-2d3d2d90f44e",
   "metadata": {},
   "outputs": [
    {
     "name": "stdout",
     "output_type": "stream",
     "text": [
      "one is: ['one']\n",
      "two is: ['two']\n",
      "three is: ['three']\n"
     ]
    }
   ],
   "source": [
    "def mess_with_vars(one, two, three):\n",
    "    one = [\"two\"]\n",
    "    two = [\"three\"]\n",
    "    three = [\"one\"]\n",
    "\n",
    "one = [\"one\"]\n",
    "two = [\"two\"]\n",
    "three = [\"three\"]\n",
    "\n",
    "mess_with_vars(one, two, three)\n",
    "\n",
    "# EXPECTATION:\n",
    "# Same as A) ... the vars are reassigned within the function, which means\n",
    "# They won't affect the global scope vars\n",
    "# Let's see...\n",
    "print(f\"one is: {one}\")\n",
    "print(f\"two is: {two}\")\n",
    "print(f\"three is: {three}\")"
   ]
  },
  {
   "cell_type": "markdown",
   "id": "cc3e6c13-6ccc-4078-bfd7-082ccd5697f2",
   "metadata": {},
   "source": [
    "### C)"
   ]
  },
  {
   "cell_type": "code",
   "execution_count": 14,
   "id": "4ff2c9f8-803b-4f22-aaff-b9a46f14c2aa",
   "metadata": {},
   "outputs": [
    {
     "name": "stdout",
     "output_type": "stream",
     "text": [
      "one is: ['two']\n",
      "two is: ['three']\n",
      "three is: ['one']\n"
     ]
    }
   ],
   "source": [
    "def mess_with_vars(one, two, three):\n",
    "    one[0] = \"two\"\n",
    "    two[0] = \"three\"\n",
    "    three[0] = \"one\"\n",
    "\n",
    "one = [\"one\"]\n",
    "two = [\"two\"]\n",
    "three = [\"three\"]\n",
    "\n",
    "mess_with_vars(one, two, three)\n",
    "\n",
    "'''\n",
    "MY EXPECTATIONS:\n",
    "The function will mutate the global scope vars\n",
    "will print\n",
    "two\n",
    "three\n",
    "one\n",
    "'''\n",
    "\n",
    "print(f\"one is: {one}\")\n",
    "print(f\"two is: {two}\")\n",
    "print(f\"three is: {three}\")"
   ]
  },
  {
   "cell_type": "markdown",
   "id": "2d593579-3fbe-4d2d-a048-fd00fa1f5acf",
   "metadata": {},
   "source": [
    "## Q4\n",
    "\n",
    "This felt very easy."
   ]
  },
  {
   "cell_type": "code",
   "execution_count": 3,
   "id": "5f4ca548-eade-4849-95a6-4dedb6866945",
   "metadata": {},
   "outputs": [
    {
     "name": "stdout",
     "output_type": "stream",
     "text": [
      "These are valid:\n",
      "True\n",
      "True\n",
      "True\n",
      "True\n",
      "True\n",
      "\n",
      " These aren't:\n",
      "False\n",
      "False\n",
      "False\n",
      "False\n",
      "False\n",
      "False\n",
      "False\n",
      "False\n"
     ]
    }
   ],
   "source": [
    "# ORIGINAL CODE\n",
    "\n",
    "def is_dot_separated_ip_address(input_string):\n",
    "    dot_separated_words = input_string.split(\".\")\n",
    "    while len(dot_separated_words) > 0:\n",
    "        word = dot_separated_words.pop()\n",
    "        if not is_an_ip_number(word):\n",
    "            break\n",
    "\n",
    "    return True\n",
    "\n",
    "\n",
    "# MY CODE STARTS HERE  *********************************************************\n",
    "\n",
    "VALID_IP_LENGTH = 4\n",
    "MIN_IP_VALUE = 0\n",
    "MAX_IP_VALUE = 255\n",
    "\n",
    "ip_word_tests = [0, '10', 10, '255', \n",
    "                 '256', '-1', 300, 4000, '25.5']\n",
    "\n",
    "valid_ip_list = [\n",
    "    '192.168.1.1', \n",
    "    '10.0.0.42',\n",
    "    '172.16.0.100',\n",
    "    '8.8.8.8',\n",
    "    '198.51.100.123'\n",
    "]\n",
    "\n",
    "invalid_ip_list = [\n",
    "    '192.168.1.1.9',  # 5 words\n",
    "    '10.0.0.256',     # 256\n",
    "    '172.16.0',       # 3 words\n",
    "    '8.-200.8.-1',    # negative values\n",
    "    '',\n",
    "    '2094387309489834',\n",
    "    'This is not an IP',\n",
    "    '🙂'\n",
    "]\n",
    "\n",
    "# tests if it's a string/number btw 0 and 255\n",
    "def is_an_ip_number(numeric_string):\n",
    "    try:\n",
    "        return int(numeric_string) in range(MIN_IP_VALUE, MAX_IP_VALUE + 1)\n",
    "    except:\n",
    "        return False\n",
    "\n",
    "def is_dot_separated_ip_address_v2(input_string):\n",
    "    dot_separated_words = input_string.split('.')\n",
    "    if len(dot_separated_words) != 4:\n",
    "        return False\n",
    "    # if each 'word' isn't btw 0 and 255 inclusive, return False\n",
    "    for word in dot_separated_words:\n",
    "        if not is_an_ip_number(word):\n",
    "            return False\n",
    "    return True\n",
    "\n",
    "# for i in ip_word_tests:\n",
    "#    print(is_an_ip_word(i))\n",
    "\n",
    "print(\"These are valid:\")\n",
    "for i in valid_ip_list:\n",
    "    print(is_dot_separated_ip_address_v2(i))\n",
    "\n",
    "print(\"\\n\", \"These aren't:\")\n",
    "for i in invalid_ip_list:\n",
    "    print(is_dot_separated_ip_address_v2(i))"
   ]
  },
  {
   "cell_type": "markdown",
   "id": "cfb852e6-d428-45eb-936c-613ccda8706a",
   "metadata": {},
   "source": [
    "## Q5"
   ]
  },
  {
   "cell_type": "code",
   "execution_count": null,
   "id": "9f87d981-a2e7-4cc1-ac0c-706f935cb09c",
   "metadata": {},
   "outputs": [],
   "source": []
  },
  {
   "cell_type": "markdown",
   "id": "362380ce-90f4-40cd-a5c2-dcc8fd2460c8",
   "metadata": {},
   "source": [
    "## Q6"
   ]
  },
  {
   "cell_type": "code",
   "execution_count": null,
   "id": "ea82b597-c89b-46c4-a329-01c82d358f9e",
   "metadata": {},
   "outputs": [],
   "source": []
  },
  {
   "cell_type": "markdown",
   "id": "f1eeb0ab-20c7-4129-896e-17fd5a6c67b1",
   "metadata": {},
   "source": [
    "## Q7"
   ]
  },
  {
   "cell_type": "code",
   "execution_count": null,
   "id": "c208790d-c062-485d-9f56-55db5a5ca70d",
   "metadata": {},
   "outputs": [],
   "source": []
  },
  {
   "cell_type": "markdown",
   "id": "3522a70e-3f2f-4d1e-bc0d-dd0343d18270",
   "metadata": {},
   "source": [
    "## Q8"
   ]
  },
  {
   "cell_type": "code",
   "execution_count": null,
   "id": "0201af8a-48fe-41df-9242-4c6facae09d1",
   "metadata": {},
   "outputs": [],
   "source": []
  },
  {
   "cell_type": "markdown",
   "id": "9840352d-be93-4e8c-98c6-1fd715515d36",
   "metadata": {},
   "source": [
    "## Q9"
   ]
  },
  {
   "cell_type": "code",
   "execution_count": null,
   "id": "fa7381cd-22a8-409f-91ef-35f1d8cad0e7",
   "metadata": {},
   "outputs": [],
   "source": []
  },
  {
   "cell_type": "markdown",
   "id": "db762e41-66bc-4bcf-9db2-33bb085cf8e9",
   "metadata": {},
   "source": [
    "## Q10"
   ]
  },
  {
   "cell_type": "code",
   "execution_count": null,
   "id": "fe60d9e5-bbff-4617-b6ee-5bf55b66fd33",
   "metadata": {},
   "outputs": [],
   "source": []
  }
 ],
 "metadata": {
  "kernelspec": {
   "display_name": "Python 3 (ipykernel)",
   "language": "python",
   "name": "python3"
  },
  "language_info": {
   "codemirror_mode": {
    "name": "ipython",
    "version": 3
   },
   "file_extension": ".py",
   "mimetype": "text/x-python",
   "name": "python",
   "nbconvert_exporter": "python",
   "pygments_lexer": "ipython3",
   "version": "3.10.12"
  }
 },
 "nbformat": 4,
 "nbformat_minor": 5
}
