{
 "cells": [
  {
   "cell_type": "markdown",
   "id": "e5d7689d-dc70-4d96-a804-342695e6491a",
   "metadata": {},
   "source": [
    "# MISC"
   ]
  },
  {
   "cell_type": "code",
   "execution_count": 2,
   "id": "935b79f6-72e3-46ad-b012-82e4c908554a",
   "metadata": {},
   "outputs": [
    {
     "name": "stdout",
     "output_type": "stream",
     "text": [
      "[2, 3, 4, 5]\n"
     ]
    }
   ],
   "source": [
    "numbers = [1, 2, 3, 4]\n",
    "for index, num in enumerate(numbers):\n",
    "    numbers[index] = num + 1\n",
    "\n",
    "print(numbers)"
   ]
  },
  {
   "cell_type": "markdown",
   "id": "1b18e182-04c1-4cd2-b627-c942d83e6123",
   "metadata": {},
   "source": [
    "# dicts"
   ]
  },
  {
   "cell_type": "markdown",
   "id": "36764b1c-5a52-427a-be55-0e3edcde7304",
   "metadata": {},
   "source": [
    "POP QUIZ"
   ]
  },
  {
   "cell_type": "code",
   "execution_count": 3,
   "id": "c871f982-73fe-4d51-b792-f0268f4697a6",
   "metadata": {},
   "outputs": [
    {
     "name": "stdout",
     "output_type": "stream",
     "text": [
      "{'apple': 'Produce', 'carrot': 'Produce', 'pear': 'Fruit', 'broccoli': 'Vegetable'}\n"
     ]
    }
   ],
   "source": [
    "dict1 = {\n",
    "...     'apple': 'Produce',\n",
    "...     'carrot': 'Produce',\n",
    "...     'pear': 'Produce',\n",
    "...     'broccoli': 'Produce',\n",
    "... }\n",
    "\n",
    "dict1['pear'] = 'Fruit'\n",
    "dict1['broccoli'] = 'Vegetable'\n",
    "\n",
    "print(dict1)"
   ]
  },
  {
   "cell_type": "markdown",
   "id": "97187370-6050-415d-ab51-a88f417c29fa",
   "metadata": {},
   "source": [
    "## sets"
   ]
  },
  {
   "cell_type": "code",
   "execution_count": 9,
   "id": "c8aac70c-2222-47e8-8e3d-8a032f4ef5d9",
   "metadata": {},
   "outputs": [
    {
     "name": "stdout",
     "output_type": "stream",
     "text": [
      "{'banana', 'apple', 'cherry', 'lychee'}\n"
     ]
    }
   ],
   "source": [
    "fruits = {'apple', 'banana', 'cherry'}\n",
    "fruits.add('lychee')\n",
    "fruits.union({'cherry', 'peach'})\n",
    "print(fruits)"
   ]
  },
  {
   "cell_type": "markdown",
   "id": "da54bba1-b7c8-49a3-80cc-1107251756f1",
   "metadata": {},
   "source": [
    "## Using `clear` on a frozenset"
   ]
  },
  {
   "cell_type": "code",
   "execution_count": 10,
   "id": "3f975453-fc4e-4692-a573-c28fb063e6b6",
   "metadata": {},
   "outputs": [
    {
     "name": "stdout",
     "output_type": "stream",
     "text": [
      "frozenset({1, 2, 3, 4})\n"
     ]
    },
    {
     "ename": "AttributeError",
     "evalue": "'frozenset' object has no attribute 'clear'",
     "output_type": "error",
     "traceback": [
      "\u001b[0;31m---------------------------------------------------------------------------\u001b[0m",
      "\u001b[0;31mAttributeError\u001b[0m                            Traceback (most recent call last)",
      "Cell \u001b[0;32mIn[10], line 3\u001b[0m\n\u001b[1;32m      1\u001b[0m x \u001b[38;5;241m=\u001b[39m \u001b[38;5;28mfrozenset\u001b[39m({\u001b[38;5;241m1\u001b[39m,\u001b[38;5;241m2\u001b[39m,\u001b[38;5;241m3\u001b[39m,\u001b[38;5;241m4\u001b[39m})\n\u001b[1;32m      2\u001b[0m \u001b[38;5;28mprint\u001b[39m(x)\n\u001b[0;32m----> 3\u001b[0m \u001b[43mx\u001b[49m\u001b[38;5;241;43m.\u001b[39;49m\u001b[43mclear\u001b[49m()\n\u001b[1;32m      4\u001b[0m \u001b[38;5;28mprint\u001b[39m(x)\n",
      "\u001b[0;31mAttributeError\u001b[0m: 'frozenset' object has no attribute 'clear'"
     ]
    }
   ],
   "source": [
    "x = frozenset({1,2,3,4})\n",
    "print(x)\n",
    "x.clear()\n",
    "print(x)"
   ]
  },
  {
   "cell_type": "markdown",
   "id": "65a91f6b-269d-4195-8f7c-9640757af330",
   "metadata": {},
   "source": [
    "# Tuple unpacking\n",
    "a mini SV ADD exploration"
   ]
  },
  {
   "cell_type": "code",
   "execution_count": 113,
   "id": "cedb2944-f52b-4042-833d-e8be4db71bd0",
   "metadata": {},
   "outputs": [
    {
     "name": "stdout",
     "output_type": "stream",
     "text": [
      "1\n"
     ]
    }
   ],
   "source": [
    "print([1,2,3][0])"
   ]
  },
  {
   "cell_type": "code",
   "execution_count": 27,
   "id": "01e48a77-27f8-476d-a6b2-c589b393df5b",
   "metadata": {},
   "outputs": [
    {
     "data": {
      "text/plain": [
       "'gnirts'"
      ]
     },
     "execution_count": 27,
     "metadata": {},
     "output_type": "execute_result"
    }
   ],
   "source": [
    "'string'[::-1]"
   ]
  }
 ],
 "metadata": {
  "kernelspec": {
   "display_name": "Python 3 (ipykernel)",
   "language": "python",
   "name": "python3"
  },
  "language_info": {
   "codemirror_mode": {
    "name": "ipython",
    "version": 3
   },
   "file_extension": ".py",
   "mimetype": "text/x-python",
   "name": "python",
   "nbconvert_exporter": "python",
   "pygments_lexer": "ipython3",
   "version": "3.10.12"
  }
 },
 "nbformat": 4,
 "nbformat_minor": 5
}
