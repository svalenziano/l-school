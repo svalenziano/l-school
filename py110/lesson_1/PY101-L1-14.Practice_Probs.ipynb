{
 "cells": [
  {
   "cell_type": "markdown",
   "id": "41564e96-5d68-40c2-8847-56232700328a",
   "metadata": {},
   "source": [
    "# PY110.1.14 (Dump Notes)\n",
    "\n",
    "https://launchschool.com/lessons/1b66cd61/assignments/4e60c439"
   ]
  },
  {
   "cell_type": "markdown",
   "id": "94b1ea23-6577-4cda-a0f8-735f3d213c70",
   "metadata": {},
   "source": [
    "# 1 🟢"
   ]
  },
  {
   "cell_type": "code",
   "execution_count": 4,
   "id": "2a08ff86-c695-453c-b48d-f73031098bc0",
   "metadata": {},
   "outputs": [
    {
     "name": "stdout",
     "output_type": "stream",
     "text": [
      "5\n"
     ]
    }
   ],
   "source": [
    "numbers = {1, 2, 3, 4, 5, 5, 4, 3}\n",
    "print(len(numbers))"
   ]
  },
  {
   "cell_type": "markdown",
   "id": "2a8dbb40-a981-4602-b2ea-4abdaed815f8",
   "metadata": {},
   "source": [
    "# 2 🟢"
   ]
  },
  {
   "cell_type": "code",
   "execution_count": 5,
   "id": "8b286601-77c8-4ff1-815d-ea8802638de1",
   "metadata": {},
   "outputs": [
    {
     "name": "stdout",
     "output_type": "stream",
     "text": [
      "5\n"
     ]
    }
   ],
   "source": [
    "numbers = {1, 2, 3, 4, 5, 5, 4, 3}\n",
    "# set will equal = {1, 2, 3, 4, 5}, length = 5\n",
    "\n",
    "print(len(numbers))"
   ]
  },
  {
   "cell_type": "markdown",
   "id": "e4d5fa1e-6672-4d36-81b8-0219a0f77c56",
   "metadata": {},
   "source": [
    "# 3 🟡"
   ]
  },
  {
   "cell_type": "code",
   "execution_count": 7,
   "id": "08fc40bd-1a29-4163-b014-c025565986a6",
   "metadata": {},
   "outputs": [
    {
     "name": "stdout",
     "output_type": "stream",
     "text": [
      "{1, 2, 3, 4, 5, 6}\n"
     ]
    }
   ],
   "source": [
    "a = {1, 2, 3, 4}\n",
    "b = {3, 4, 5, 6}\n",
    "\n",
    "c = a.union(b)\n",
    "print(c)"
   ]
  },
  {
   "cell_type": "markdown",
   "id": "8303626f-c41f-4e24-88b8-54b24395d810",
   "metadata": {},
   "source": [
    "# 4  🟢\n",
    "Good, though at first I thought that name_positions was initialized as an empty set, not a dict 😬"
   ]
  },
  {
   "cell_type": "code",
   "execution_count": 8,
   "id": "8283feee-4717-493a-9bc5-50c2ebebbd49",
   "metadata": {},
   "outputs": [
    {
     "name": "stdout",
     "output_type": "stream",
     "text": [
      "{'Fred': 0, 'Barney': 1, 'Wilma': 2, 'Betty': 3, 'Pebbles': 4, 'Bambam': 5}\n"
     ]
    }
   ],
   "source": [
    "names = [\"Fred\", \"Barney\", \"Wilma\", \"Betty\", \"Pebbles\", \"Bambam\"]\n",
    "name_positions = {}\n",
    "for index, name in enumerate(names):\n",
    "    name_positions[name] = index   \n",
    "print(name_positions)"
   ]
  },
  {
   "cell_type": "markdown",
   "id": "ba367d95-6d22-4fbe-9776-ce492148733c",
   "metadata": {},
   "source": [
    "# 5 🔴\n",
    "\n",
    "\"Calculate the total age given the following dictionary:\""
   ]
  },
  {
   "cell_type": "code",
   "execution_count": 11,
   "id": "61043571-ad09-4671-9273-faa9ad0c37a7",
   "metadata": {},
   "outputs": [
    {
     "name": "stdout",
     "output_type": "stream",
     "text": [
      "6174\n",
      "6174\n"
     ]
    }
   ],
   "source": [
    "ages = {\n",
    "    \"Herman\": 32,\n",
    "    \"Lily\": 30,\n",
    "    \"Grandpa\": 5843,\n",
    "    \"Eddie\": 10,\n",
    "    \"Marilyn\": 22,\n",
    "    \"Spot\": 237,\n",
    "}\n",
    "\n",
    "# My solution\n",
    "just_ages = [age for name, age in ages.items()]\n",
    "print(sum(just_ages))\n",
    "\n",
    "# Launch School Solution 🔴\n",
    "# duh, .values() is a much simpler way to do this.  Should do some practice on this concept.\n",
    "ages = sum(ages.values())\n",
    "print(ages)"
   ]
  },
  {
   "cell_type": "markdown",
   "id": "271bc0ef-c22d-4771-ad34-fbf6b95b306b",
   "metadata": {},
   "source": [
    "# 6 🟢\n",
    "\n",
    "Determine the minimum age from the above ages dictionary."
   ]
  },
  {
   "cell_type": "code",
   "execution_count": 12,
   "id": "d99d1c5d-5a09-4de6-8075-ff089fd9c3c4",
   "metadata": {},
   "outputs": [
    {
     "name": "stdout",
     "output_type": "stream",
     "text": [
      "10\n"
     ]
    }
   ],
   "source": [
    "ages = {\n",
    "    \"Herman\": 32,\n",
    "    \"Lily\": 30,\n",
    "    \"Grandpa\": 5843,\n",
    "    \"Eddie\": 10,\n",
    "    \"Marilyn\": 22,\n",
    "    \"Spot\": 237,\n",
    "}\n",
    "\n",
    "print(min(ages.values()))"
   ]
  },
  {
   "cell_type": "markdown",
   "id": "d59284e6-9013-493c-9e02-2528cf8dcdf0",
   "metadata": {},
   "source": [
    "# 7 🟢\n",
    "What outputs?"
   ]
  },
  {
   "cell_type": "code",
   "execution_count": 13,
   "id": "59392729-9ced-4fe0-acb8-1d3a59c6612c",
   "metadata": {},
   "outputs": [
    {
     "name": "stdout",
     "output_type": "stream",
     "text": [
      "['bear']\n"
     ]
    }
   ],
   "source": [
    "words = ['ant', 'bear', 'cat']\n",
    "selected_words = []\n",
    "for word in words:\n",
    "    if len(word) > 3:\n",
    "        selected_words.append(word)\n",
    "\n",
    "print(selected_words)"
   ]
  },
  {
   "cell_type": "markdown",
   "id": "b997cdd5-1b82-43bb-a64f-602fabaab8a3",
   "metadata": {},
   "source": [
    "# 8 🟡\n",
    "\n",
    "Had trouble w/ `key = lower` vs `key = str.lower`"
   ]
  },
  {
   "cell_type": "code",
   "execution_count": 20,
   "id": "969d65c6-30e1-42c4-ae22-11a3719a949d",
   "metadata": {},
   "outputs": [
    {
     "name": "stdout",
     "output_type": "stream",
     "text": [
      "{'c': 1, 'e': 2, 'F': 1, 'h': 1, 'i': 1, 'k': 1, 'l': 1, 'n': 2, 'o': 2, 'R': 1, 's': 2, 'T': 1, 't': 2}\n"
     ]
    }
   ],
   "source": [
    "statement = \"The Flintstones Rock\"\n",
    "\n",
    "# pseudocode\n",
    "# set\n",
    "# sort\n",
    "# create dict w comprehension\n",
    "# print dict\n",
    "\n",
    "unique = sorted(list(set(statement)), key = str.lower)\n",
    "char_count = {char : statement.count(char) for char in unique if char != ' '}\n",
    "print(char_count)\n"
   ]
  },
  {
   "cell_type": "markdown",
   "id": "9a5361a5-69c6-4ec8-a1bf-d90f860f6f5e",
   "metadata": {},
   "source": [
    "# 9 🟢\n",
    "Super easy"
   ]
  },
  {
   "cell_type": "markdown",
   "id": "a86037ac-193b-4605-81fc-1757d25f9b6c",
   "metadata": {},
   "source": [
    "# 10 🟡\n",
    "\n",
    "Forgot that `.popitem` removes and returns the LAST dict item, and not the FIRST"
   ]
  },
  {
   "cell_type": "code",
   "execution_count": 21,
   "id": "d4241c60-e50b-44e9-85dd-9a1b4627fb67",
   "metadata": {},
   "outputs": [
    {
     "name": "stdout",
     "output_type": "stream",
     "text": [
      "('b', 'bear')\n"
     ]
    }
   ],
   "source": [
    "dictionary = {'a': 'ant', 'b': 'bear'}\n",
    "print(dictionary.popitem())"
   ]
  },
  {
   "cell_type": "markdown",
   "id": "cf274af0-2126-463a-8070-acb2e261af79",
   "metadata": {},
   "source": [
    "# ETC...  🟢\n",
    "\n",
    "The rest of the problems were v easy"
   ]
  }
 ],
 "metadata": {
  "kernelspec": {
   "display_name": "Python 3 (ipykernel)",
   "language": "python",
   "name": "python3"
  },
  "language_info": {
   "codemirror_mode": {
    "name": "ipython",
    "version": 3
   },
   "file_extension": ".py",
   "mimetype": "text/x-python",
   "name": "python",
   "nbconvert_exporter": "python",
   "pygments_lexer": "ipython3",
   "version": "3.10.12"
  }
 },
 "nbformat": 4,
 "nbformat_minor": 5
}
