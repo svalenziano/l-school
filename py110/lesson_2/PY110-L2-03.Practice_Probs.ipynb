{
 "cells": [
  {
   "cell_type": "markdown",
   "id": "88b3fccc-221f-497b-9ec2-1fa541058ba4",
   "metadata": {},
   "source": [
    "# PY110-L2-03.Practice_Probs\n",
    "\n",
    "https://launchschool.com/lessons/76ecb255/assignments/f20855d8"
   ]
  },
  {
   "cell_type": "markdown",
   "id": "5e3e82da-b2f3-419c-8ccf-70a48e0e23c4",
   "metadata": {},
   "source": [
    "# 1"
   ]
  },
  {
   "cell_type": "code",
   "execution_count": 2,
   "id": "0e757480-4c15-41b5-b0db-eac24d4a4653",
   "metadata": {},
   "outputs": [
    {
     "name": "stdout",
     "output_type": "stream",
     "text": [
      "[-16, -6, 7, 8, 9, 10, 11, 50]\n",
      "[50, 11, 10, 9, 8, 7, -6, -16]\n"
     ]
    }
   ],
   "source": [
    "lst = [10, 9, -6, 11, 7, -16, 50, 8]\n",
    "\n",
    "print(sorted(lst))\n",
    "print(sorted(lst, reverse = True))"
   ]
  },
  {
   "cell_type": "markdown",
   "id": "2a94f098-5d81-4f4a-9f14-72dcbd403339",
   "metadata": {},
   "source": [
    "# 2"
   ]
  },
  {
   "cell_type": "code",
   "execution_count": 5,
   "id": "917ccf37-a630-4afb-bc20-94d521d8cc35",
   "metadata": {},
   "outputs": [
    {
     "name": "stdout",
     "output_type": "stream",
     "text": [
      "[-16, -6, 7, 8, 9, 10, 11, 50]\n",
      "[50, 11, 10, 9, 8, 7, -6, -16]\n"
     ]
    }
   ],
   "source": [
    "lst = [10, 9, -6, 11, 7, -16, 50, 8]\n",
    "\n",
    "lst.sort()\n",
    "print(lst)\n",
    "\n",
    "lst.sort(reverse = True)\n",
    "print(lst)"
   ]
  },
  {
   "cell_type": "markdown",
   "id": "a004e198-819b-4a77-9e44-efd71a332780",
   "metadata": {},
   "source": [
    "# 3"
   ]
  },
  {
   "cell_type": "code",
   "execution_count": 6,
   "id": "f284a423-ffdc-4f8e-9877-33941405c5ee",
   "metadata": {},
   "outputs": [
    {
     "name": "stdout",
     "output_type": "stream",
     "text": [
      "[-16, -6, 10, 11, 50, 7, 8, 9]\n",
      "[9, 8, 7, 50, 11, 10, -6, -16]\n"
     ]
    }
   ],
   "source": [
    "lst = [10, 9, -6, 11, 7, -16, 50, 8]\n",
    "\n",
    "lst.sort(key = str)\n",
    "print(lst)\n",
    "\n",
    "lst.sort(key = str, reverse = True)\n",
    "print(lst)"
   ]
  },
  {
   "cell_type": "markdown",
   "id": "105398e7-bd8a-4f9d-88a6-09e546d430f4",
   "metadata": {},
   "source": [
    "# 4"
   ]
  },
  {
   "cell_type": "markdown",
   "id": "1997ada6-80f9-444f-9f24-e4556a808a40",
   "metadata": {},
   "source": [
    "Sort by year of publication, oldest to newest."
   ]
  },
  {
   "cell_type": "code",
   "execution_count": 11,
   "id": "aac7fdd4-0c76-4339-b770-24f1c62d5b74",
   "metadata": {},
   "outputs": [
    {
     "name": "stdout",
     "output_type": "stream",
     "text": [
      "[{'title': 'The Book of Kells', 'author': 'Multiple Authors', 'published': '800'}, {'title': 'War and Peace', 'author': 'Leo Tolstoy', 'published': '1869'}, {'title': 'One Hundred Years of Solitude', 'author': 'Gabriel Garcia Marquez', 'published': '1967'}]\n"
     ]
    }
   ],
   "source": [
    "books = [\n",
    "    {\n",
    "        'title': 'One Hundred Years of Solitude',\n",
    "        'author': 'Gabriel Garcia Marquez',\n",
    "        'published': '1967',\n",
    "    },\n",
    "    {\n",
    "        'title': 'The Book of Kells',\n",
    "        'author': 'Multiple Authors',\n",
    "        'published': '800',\n",
    "    },\n",
    "    {\n",
    "        'title': 'War and Peace',\n",
    "        'author': 'Leo Tolstoy',\n",
    "        'published': '1869',\n",
    "    },\n",
    "]\n",
    "\n",
    "def return_pub_date(book):\n",
    "    '''\n",
    "    Expects single book as dict ==> {'title': 'One Hundred Years of Solitude', 'author': 'Gabriel Garcia Marquez', 'published': '1967'}\n",
    "    '''\n",
    "    return int(book['published'])\n",
    "\n",
    "\n",
    "books.sort(key = return_pub_date)\n",
    "print(books)"
   ]
  },
  {
   "cell_type": "markdown",
   "id": "a79951f6-9087-4785-aa30-a26000897771",
   "metadata": {},
   "source": [
    "# 5"
   ]
  },
  {
   "cell_type": "markdown",
   "id": "e9c65873-dae1-4d23-8883-590c4269e1cf",
   "metadata": {},
   "source": [
    "# 6"
   ]
  },
  {
   "cell_type": "markdown",
   "id": "4f09d08e-ae98-4370-b1e0-d17a65a72a24",
   "metadata": {},
   "source": [
    "# 7"
   ]
  },
  {
   "cell_type": "markdown",
   "id": "4abc600d-8ed4-4a84-87f6-154cd451497b",
   "metadata": {},
   "source": [
    "# 8"
   ]
  },
  {
   "cell_type": "markdown",
   "id": "e7d6b13a-3778-42d7-8a5d-6a4ec0add685",
   "metadata": {},
   "source": [
    "# 9"
   ]
  },
  {
   "cell_type": "markdown",
   "id": "7879b14b-3550-4ce3-aab7-46f91348144e",
   "metadata": {},
   "source": [
    "# 10"
   ]
  }
 ],
 "metadata": {
  "kernelspec": {
   "display_name": "Python 3 (ipykernel)",
   "language": "python",
   "name": "python3"
  },
  "language_info": {
   "codemirror_mode": {
    "name": "ipython",
    "version": 3
   },
   "file_extension": ".py",
   "mimetype": "text/x-python",
   "name": "python",
   "nbconvert_exporter": "python",
   "pygments_lexer": "ipython3",
   "version": "3.10.12"
  }
 },
 "nbformat": 4,
 "nbformat_minor": 5
}
