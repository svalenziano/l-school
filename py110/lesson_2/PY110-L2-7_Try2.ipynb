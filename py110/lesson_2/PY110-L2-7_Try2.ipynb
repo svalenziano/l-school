{
 "cells": [
  {
   "cell_type": "markdown",
   "id": "88b3fccc-221f-497b-9ec2-1fa541058ba4",
   "metadata": {},
   "source": [
    "# Try 2\n",
    "https://launchschool.com/lessons/76ecb255/assignments/12259fac\n",
    "\n"
   ]
  },
  {
   "cell_type": "markdown",
   "id": "5e3e82da-b2f3-419c-8ccf-70a48e0e23c4",
   "metadata": {},
   "source": [
    "# 1"
   ]
  },
  {
   "cell_type": "code",
   "execution_count": 2,
   "id": "0e757480-4c15-41b5-b0db-eac24d4a4653",
   "metadata": {},
   "outputs": [
    {
     "name": "stdout",
     "output_type": "stream",
     "text": [
      "444\n"
     ]
    }
   ],
   "source": [
    "munsters = {\n",
    "    'Herman':  {'age': 32,  'gender': 'male'},\n",
    "    'Lily':    {'age': 30,  'gender': 'female'},\n",
    "    'Grandpa': {'age': 402, 'gender': 'male'},\n",
    "    'Eddie':   {'age': 10,  'gender': 'male'},\n",
    "    'Marilyn': {'age': 23,  'gender': 'female'},\n",
    "}\n",
    "\n",
    "ages = [info['age'] \n",
    "        for info in munsters.values() \n",
    "        if info['gender'] == 'male']\n",
    "\n",
    "print(sum(ages))"
   ]
  },
  {
   "cell_type": "markdown",
   "id": "2a94f098-5d81-4f4a-9f14-72dcbd403339",
   "metadata": {},
   "source": [
    "# 2"
   ]
  },
  {
   "cell_type": "code",
   "execution_count": 3,
   "id": "7e1e3b5e-5626-4b56-bb39-54d954ae2796",
   "metadata": {},
   "outputs": [
    {
     "name": "stdout",
     "output_type": "stream",
     "text": [
      "[['a', 'b', 'c'], [-3, 2, 11], ['black', 'blue', 'green']]\n"
     ]
    }
   ],
   "source": [
    "'''\n",
    "P\n",
    "    INput = list\n",
    "    output = new list, values in each sublist in ascending order\n",
    "E\n",
    "D\n",
    "A\n",
    "C\n",
    "'''\n",
    "lst = [['b', 'c', 'a'], [2, 11, -3], ['blue', 'black', 'green']]\n",
    "\n",
    "new_lst = [sorted(sublist)\n",
    "           for sublist in lst]\n",
    "print(new_lst)"
   ]
  },
  {
   "cell_type": "markdown",
   "id": "a004e198-819b-4a77-9e44-efd71a332780",
   "metadata": {},
   "source": [
    "# 3"
   ]
  },
  {
   "cell_type": "code",
   "execution_count": 5,
   "id": "44696263-156d-4186-bb1b-6995a83531fc",
   "metadata": {},
   "outputs": [
    {
     "name": "stdout",
     "output_type": "stream",
     "text": [
      "[['a', 'b', 'c'], [-3, 11, 2], ['black', 'blue', 'green']]\n"
     ]
    }
   ],
   "source": [
    "lst = [['b', 'c', 'a'], [2, 11, -3], ['blue', 'black', 'green']]\n",
    "\n",
    "new_lst = [sorted(sub, key=str)\n",
    "           for sub in lst]\n",
    "print(new_lst)"
   ]
  },
  {
   "cell_type": "markdown",
   "id": "105398e7-bd8a-4f9d-88a6-09e546d430f4",
   "metadata": {},
   "source": [
    "# 4 🟡\n",
    "I had trouble with this one.\n",
    "\n",
    "I tried this solution and I'm still not sure why it didn't work out:\n",
    "```python\n",
    "new = [[key, value]\n",
    "       for sublist in lst\n",
    "       for key, value in sublist ]\n",
    "```"
   ]
  },
  {
   "cell_type": "code",
   "execution_count": 14,
   "id": "740e5bca-1a10-4cc4-afd1-ae401eb71864",
   "metadata": {},
   "outputs": [
    {
     "name": "stdout",
     "output_type": "stream",
     "text": [
      "{'a': 1, 'b': 'two', 'sea': {'c': 3}, 'D': ['a', 'b', 'c']}\n"
     ]
    }
   ],
   "source": [
    "'''\n",
    "Input = dict.  Key = first item in each sublist, value is the second item\n",
    "Output = nested list, see below\n",
    "'''\n",
    "\n",
    "lst = [\n",
    "    ['a', 1],\n",
    "    ['b', 'two'],\n",
    "    ['sea', {'c': 3}],\n",
    "    ['D', ['a', 'b', 'c']]\n",
    "]\n",
    "\n",
    "\n",
    "\n",
    "new = {sublist[0]: sublist[1]\n",
    "       for sublist in lst}\n",
    "\n",
    "print(new)"
   ]
  },
  {
   "cell_type": "markdown",
   "id": "98290550-50eb-4074-bead-cb24c0f3b98a",
   "metadata": {},
   "source": [
    "### Goz's test code"
   ]
  },
  {
   "cell_type": "code",
   "execution_count": 41,
   "id": "ccaf095d-e786-42a0-bb4c-fb6b34cdd395",
   "metadata": {},
   "outputs": [
    {
     "name": "stdout",
     "output_type": "stream",
     "text": [
      "{'a': 1, 'b': 'two'}\n"
     ]
    }
   ],
   "source": [
    "lst = [\n",
    "    ['a', 1],\n",
    "    ['b', 'two'],\n",
    "]\n",
    "\n",
    "new = {first: second\n",
    "       for first, second in lst}\n",
    "\n",
    "print(new)"
   ]
  },
  {
   "cell_type": "code",
   "execution_count": 39,
   "id": "64dc3af2-5e8a-45b3-b575-309ee7eee009",
   "metadata": {},
   "outputs": [
    {
     "name": "stdout",
     "output_type": "stream",
     "text": [
      "1\n",
      "2\n"
     ]
    }
   ],
   "source": [
    "lst = [1, 2]\n",
    "first, second = lst\n",
    "print(first)\n",
    "print(second)"
   ]
  },
  {
   "cell_type": "markdown",
   "id": "e371f513-320a-4ce3-b668-b4c3a28e6ffa",
   "metadata": {},
   "source": [
    "### argh I think I get it!\n",
    "```python\n",
    "new = {first: second\n",
    "       for first, second in lst}\n",
    "```\n",
    "With each iteration of the for loop (while iterating over lst), the lst item is unpacked."
   ]
  },
  {
   "cell_type": "code",
   "execution_count": 40,
   "id": "b5c512d4-82f5-4f7d-9ee3-bc7d14ed434c",
   "metadata": {},
   "outputs": [
    {
     "name": "stdout",
     "output_type": "stream",
     "text": [
      "1\n",
      "2\n",
      "3\n",
      "4\n",
      "5\n",
      "6\n"
     ]
    }
   ],
   "source": [
    "some_tuples = [\n",
    "    (1, 2),\n",
    "    (3, 4),\n",
    "    (5, 6)\n",
    "]\n",
    "\n",
    "for first, second in some_tuples:\n",
    "    print(first)\n",
    "    print(second)"
   ]
  },
  {
   "cell_type": "code",
   "execution_count": 48,
   "id": "c9615c02-8c28-4e52-a72c-93a33faa7a21",
   "metadata": {},
   "outputs": [
    {
     "name": "stdout",
     "output_type": "stream",
     "text": [
      "['a', 1]\n",
      "['b', 'two']\n",
      "['c', 3]\n",
      "a ==> 1\n",
      "b ==> two\n",
      "c ==> 3\n",
      "['a', 1] ==> ['b', 'two'] ==> ['c', 3]\n"
     ]
    }
   ],
   "source": [
    "lst = [\n",
    "    ['a', 1],\n",
    "    ['b', 'two'],\n",
    "    ['c', 3],\n",
    "]\n",
    "\n",
    "# no unpacking, yes loop\n",
    "for item in lst:\n",
    "    print(item)\n",
    "\n",
    "# unpack inside loop!\n",
    "for first, second in lst:\n",
    "    print(f\"{first} ==> {second}\")\n",
    "\n",
    "# unpacking without a loop:\n",
    "first, second, third = lst\n",
    "print(f\"{first} ==> {second} ==> {third}\")"
   ]
  },
  {
   "cell_type": "markdown",
   "id": "a79951f6-9087-4785-aa30-a26000897771",
   "metadata": {},
   "source": [
    "# 5"
   ]
  },
  {
   "cell_type": "code",
   "execution_count": 25,
   "id": "9120dc8c-4675-4415-a646-a826a0fa4ca4",
   "metadata": {},
   "outputs": [
    {
     "name": "stdout",
     "output_type": "stream",
     "text": [
      "[[1, 8, 3], [1, 6, 7], [1, 5, 3]]\n"
     ]
    }
   ],
   "source": [
    "'''\n",
    "input = list of lists\n",
    "output = NEW list, sorted by the sum of odd numbers in each sublist.  Don't mutate.\n",
    "'''\n",
    "lst = [[1, 6, 7], [1, 5, 3], [1, 8, 3]]\n",
    "\n",
    "def sum_odds(lst):\n",
    "    odds = [num for num in lst if num % 2 == 1]\n",
    "    return sum(odds)\n",
    "\n",
    "new = sorted(lst, key=sum_odds)\n",
    "print(new)"
   ]
  },
  {
   "cell_type": "markdown",
   "id": "e9c65873-dae1-4d23-8883-590c4269e1cf",
   "metadata": {},
   "source": [
    "# 6"
   ]
  },
  {
   "cell_type": "code",
   "execution_count": 28,
   "id": "cc9306d2-f81c-4a20-9184-d3cde3eb9503",
   "metadata": {},
   "outputs": [
    {
     "name": "stdout",
     "output_type": "stream",
     "text": [
      "[{'a': 2}, {'b': 3, 'c': 4}, {'d': 5, 'e': 6, 'f': 7}]\n"
     ]
    }
   ],
   "source": [
    "'''\n",
    "input = list of dicts\n",
    "output = new list of dicts, each number incremented by 1\n",
    "\n",
    "Alg:\n",
    "    - create copy of dict\n",
    "    - increment each value\n",
    "'''\n",
    "\n",
    "lst = [{'a': 1}, {'b': 2, 'c': 3}, {'d': 4, 'e': 5, 'f': 6}]\n",
    "\n",
    "def increment_value(my_dict):\n",
    "    return {key: value + 1\n",
    "            for key, value in my_dict.items()}\n",
    "\n",
    "new_lst = [increment_value(nested_dict)\n",
    "           for nested_dict in lst]\n",
    "\n",
    "print(new_lst)"
   ]
  },
  {
   "cell_type": "markdown",
   "id": "65e30e75-bf70-4407-bd53-b0e805b6b380",
   "metadata": {},
   "source": [
    "### Using a nested comprehension?"
   ]
  },
  {
   "cell_type": "code",
   "execution_count": 32,
   "id": "293a7e7f-0de4-48a5-8cf4-b088df05c819",
   "metadata": {},
   "outputs": [
    {
     "name": "stdout",
     "output_type": "stream",
     "text": [
      "[{'a': 2}, {'b': 3, 'c': 4}, {'d': 5, 'e': 6, 'f': 7}]\n"
     ]
    }
   ],
   "source": [
    "lst = [{'a': 1}, {'b': 2, 'c': 3}, {'d': 4, 'e': 5, 'f': 6}]\n",
    "\n",
    "new_lst = [{key: value + 1 for key, value in my_dict.items()}\n",
    "           for my_dict in lst]\n",
    "print(new_lst)"
   ]
  },
  {
   "cell_type": "markdown",
   "id": "4f09d08e-ae98-4370-b1e0-d17a65a72a24",
   "metadata": {},
   "source": [
    "# 7"
   ]
  },
  {
   "cell_type": "code",
   "execution_count": 34,
   "id": "f275e828-a6a4-4f5a-a31f-bb9573bedef8",
   "metadata": {},
   "outputs": [
    {
     "name": "stdout",
     "output_type": "stream",
     "text": [
      "[[], [3, 12], [9], [15, 18]]\n"
     ]
    }
   ],
   "source": [
    "'''\n",
    "    INPUT = nested list\n",
    "    OUTPUT = new list, identical in structure but containing only number that are multiples of 3\n",
    "'''\n",
    "lst = [[2], [3, 5, 7, 12], [9], [11, 15, 18]]\n",
    "\n",
    "new_lst = [[num for num in inner_list if num % 3 == 0]\n",
    "           for inner_list in lst]\n",
    "\n",
    "print(new_lst)"
   ]
  },
  {
   "cell_type": "markdown",
   "id": "4abc600d-8ed4-4a84-87f6-154cd451497b",
   "metadata": {},
   "source": [
    "# 8"
   ]
  },
  {
   "cell_type": "code",
   "execution_count": 51,
   "id": "226ef4d6-e28b-4fd7-a49c-57c555242d60",
   "metadata": {},
   "outputs": [
    {
     "name": "stdout",
     "output_type": "stream",
     "text": [
      "[['Red', 'Green'], 'MEDIUM', ['Orange'], 'LARGE']\n"
     ]
    }
   ],
   "source": [
    "\n",
    "dict1 = {\n",
    "    'grape': {\n",
    "        'type': 'fruit',\n",
    "        'colors': ['red', 'green'],\n",
    "        'size': 'small',\n",
    "    },\n",
    "    'carrot': {\n",
    "        'type': 'vegetable',\n",
    "        'colors': ['orange'],\n",
    "        'size': 'medium',\n",
    "    },\n",
    "    'apricot': {\n",
    "        'type': 'fruit',\n",
    "        'colors': ['orange'],\n",
    "        'size': 'medium',\n",
    "    },\n",
    "    'marrow': {\n",
    "        'type': 'vegetable',\n",
    "        'colors': ['green'],\n",
    "        'size': 'large',\n",
    "    },\n",
    "}\n",
    "\n",
    "'''\n",
    "    INPUT = nested dict\n",
    "    OUTPUT = nested list of dict values, colors of fruits and sizes of veg:\n",
    "        - colors of fruits are capitalized\n",
    "        - sizes of vegetables are uppercase\n",
    "    EXPECTED: [[\"Red\", \"Green\"], \"MEDIUM\", [\"Orange\"], \"LARGE\"]\n",
    "\n",
    "    DS:\n",
    "        - list\n",
    "    ALG:\n",
    "        v1\n",
    "            - get values() (keys are irellevant)\n",
    "            - if fruit, append color, capitalize() each element\n",
    "            - if veg:\n",
    "                - append size, uppercase\n",
    "        v2\n",
    "            - get values() (keys are irellevant)\n",
    "            - if fruit, \n",
    "                append the result of a comprehension: [ color.capitalize() for color in color list]\n",
    "            - if veg:\n",
    "                - append size, uppercase\n",
    "'''\n",
    "\n",
    "result = []\n",
    "for info in dict1.values():\n",
    "    if info['type'] == 'fruit':\n",
    "        result.append([color.capitalize() for color in info['colors']])\n",
    "    if info['type'] == 'vegetable':\n",
    "        result.append(info['size'].upper())\n",
    "print(result)"
   ]
  },
  {
   "cell_type": "markdown",
   "id": "428abb50-649b-416b-8f2a-41958d6bac5f",
   "metadata": {},
   "source": [
    "### Trying again using a comprehension and a helper function"
   ]
  },
  {
   "cell_type": "code",
   "execution_count": null,
   "id": "30dac70f-60a1-4c30-b91a-f90e08970226",
   "metadata": {},
   "outputs": [],
   "source": [
    "# tktk"
   ]
  },
  {
   "cell_type": "markdown",
   "id": "e7d6b13a-3778-42d7-8a5d-6a4ec0add685",
   "metadata": {},
   "source": [
    "# 9  🟡\n",
    "solved in 13 mins, but still, kinda tricky!"
   ]
  },
  {
   "cell_type": "code",
   "execution_count": 63,
   "id": "4fdb82b7-a561-439e-83ce-98e3ccaaf72a",
   "metadata": {},
   "outputs": [
    {
     "name": "stdout",
     "output_type": "stream",
     "text": [
      "[{'e': [8], 'f': [6, 10]}]\n"
     ]
    }
   ],
   "source": [
    "'''\n",
    "    P\n",
    "        INPUT = list of dicts\n",
    "        OUTPUT = list of dicts.  Contains only dicts where all numbers are even\n",
    "\n",
    "    E\n",
    "        EXPECTED RESULT\n",
    "        [{e: [8], f: [6, 10]}]\n",
    "    A\n",
    "        - dict_values_are_even [HELPER]\n",
    "            - INPUT = dict\n",
    "            - OUTPUT = True, if all values are even, otherwise False\n",
    "            - Alg\n",
    "                - Iterate through values\n",
    "                - If an odd value is found, return False\n",
    "                - Otherwise, return True\n",
    "        - comprehension to create list of dicts\n",
    "            - FILTER = dict_values_are_even\n",
    "'''\n",
    "\n",
    "lst = [\n",
    "    {'a': [1, 2, 3]},\n",
    "    {'b': [2, 4, 6], 'c': [3, 6], 'd': [4]},\n",
    "    {'e': [8], 'f': [6, 10]},\n",
    "]\n",
    "\n",
    "def dict_values_are_even(dict_):\n",
    "    for list_of_nums in dict_.values():\n",
    "        for number in list_of_nums:\n",
    "            if number % 2 != 0:\n",
    "                return False\n",
    "    return True\n",
    "\n",
    "# print(dict_values_are_even({'b': [2, 4, 6], 'c': [3, 6], 'd': [4]}))\n",
    "\n",
    "result = [dict_ for dict_ in lst if dict_values_are_even(dict_)]\n",
    "print(result)\n"
   ]
  },
  {
   "cell_type": "markdown",
   "id": "7879b14b-3550-4ce3-aab7-46f91348144e",
   "metadata": {},
   "source": [
    "# 10"
   ]
  },
  {
   "cell_type": "code",
   "execution_count": 88,
   "id": "a74db5b8-df83-465b-a7d7-7a070e472ecd",
   "metadata": {},
   "outputs": [
    {
     "name": "stdout",
     "output_type": "stream",
     "text": [
      "596f5843-48c8-aa94-8e78-bfdb550037c0\n",
      "08ace019-8d7a-3435-d54c-3818fcaa1a63\n",
      "faa828e1-9287-24a8-79e4-6826c546aa68\n"
     ]
    }
   ],
   "source": [
    "'''\n",
    "P\n",
    "    INPUT = NONE\n",
    "    OUTPUT = string: UUID IN AN 8-4-4-4-12 pattern\n",
    "\n",
    "E\n",
    "    f65c57f6-a6aa-17a8-faa1-a67f2dc9fa91\n",
    "D\n",
    "    ?\n",
    "A\n",
    "    \n",
    "    UUID word [HELPER]\n",
    "        INPUT = length\n",
    "        OUTPUT = UUID word\n",
    "        TESTS\n",
    "            Test w various lengths incl 1, 2, 5\n",
    "        ALG\n",
    "            list comprehension: random character for index in range that's `length` long\n",
    "            join into a string\n",
    "            return\n",
    "    [MAIN FUNCTION]\n",
    "        INPUT = no args\n",
    "        OUTPUT = final UUID\n",
    "        ALG\n",
    "            list comprehension: UUID word for length in LENGTHS\n",
    "            join into string w '-' as delimiter\n",
    "            return string\n",
    "            \n",
    "            \n",
    "'''\n",
    "import random\n",
    "\n",
    "\n",
    "CHARACTERS = list('0123456789abcdef')\n",
    "\n",
    "def uuid_word(length):\n",
    "    result = [random.choice(CHARACTERS) for index in range(length)]\n",
    "    return ''.join(result)\n",
    "\n",
    "def uuid():\n",
    "    LENGTHS = [8, 4, 4, 4, 12]\n",
    "    result = [uuid_word(length) for length in LENGTHS]\n",
    "    return '-'.join(result)\n",
    "\n",
    "print(uuid())\n",
    "print(uuid())\n",
    "print(uuid())"
   ]
  },
  {
   "cell_type": "markdown",
   "id": "27e62c15-9a8f-4f62-bc85-7923ce37468c",
   "metadata": {},
   "source": [
    "# 11 🟢\n",
    "This was quite easy using nested comprehensions.  I guess my studying has been paying off 🥲"
   ]
  },
  {
   "cell_type": "code",
   "execution_count": 92,
   "id": "012d40fb-f83a-4f7f-bfd0-f9d119956eb4",
   "metadata": {},
   "outputs": [
    {
     "name": "stdout",
     "output_type": "stream",
     "text": [
      "['e', 'u', 'i', 'o', 'o', 'u', 'e', 'o', 'e', 'e', 'a', 'o']\n"
     ]
    }
   ],
   "source": [
    "'''\n",
    "P\n",
    "    INPUT: dict with values that contain strings\n",
    "    OUTPUT: LIST OF EVERY VOWEL THAT APPEARS IN THE CONTAINED STRINGS\n",
    "    REQS\n",
    "        Exp:\n",
    "            Flattened list\n",
    "    E\n",
    "    DS\n",
    "    Alg\n",
    "        - \n",
    "'''\n",
    "\n",
    "dict1 = {\n",
    "    'first':  ['the', 'quick'],\n",
    "    'second': ['brown', 'fox'],\n",
    "    'third':  ['jumped'],\n",
    "    'fourth': ['over', 'the', 'lazy', 'dog'],\n",
    "}\n",
    "\n",
    "# Your code goes here\n",
    "list_of_vowels = [char\n",
    "                  for list_of_words in dict1.values()\n",
    "                  for word in list_of_words\n",
    "                  for char in word\n",
    "                  if char in 'aeiou'\n",
    "                 ]\n",
    "\n",
    "\n",
    "print(list_of_vowels)\n",
    "# ['e', 'u', 'i', 'o', 'o', 'u', 'e', 'o', 'e', 'e', 'a', 'o']"
   ]
  },
  {
   "cell_type": "code",
   "execution_count": null,
   "id": "95091e24-4e7e-43b3-b81e-250949cd59f3",
   "metadata": {},
   "outputs": [],
   "source": []
  },
  {
   "cell_type": "code",
   "execution_count": null,
   "id": "b8405f61-cada-4109-b8a0-9c574591847b",
   "metadata": {},
   "outputs": [],
   "source": []
  }
 ],
 "metadata": {
  "kernelspec": {
   "display_name": "Python 3 (ipykernel)",
   "language": "python",
   "name": "python3"
  },
  "language_info": {
   "codemirror_mode": {
    "name": "ipython",
    "version": 3
   },
   "file_extension": ".py",
   "mimetype": "text/x-python",
   "name": "python",
   "nbconvert_exporter": "python",
   "pygments_lexer": "ipython3",
   "version": "3.10.12"
  }
 },
 "nbformat": 4,
 "nbformat_minor": 5
}
