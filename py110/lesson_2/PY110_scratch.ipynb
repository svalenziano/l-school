{
 "cells": [
  {
   "cell_type": "code",
   "execution_count": null,
   "id": "cf0a4d0c-2c53-4d68-95dd-b87bde52952e",
   "metadata": {},
   "outputs": [],
   "source": []
  },
  {
   "cell_type": "code",
   "execution_count": 5,
   "id": "3f356bb5-85fd-40af-954d-369ef2905848",
   "metadata": {},
   "outputs": [
    {
     "name": "stdout",
     "output_type": "stream",
     "text": [
      "{'a': {0, 1, 2, 3, 4, 8, 9, 'cool'}, 'b': {4, 5, 6, 7}}\n",
      "{'a': {0, 1, 2, 3, 4, 8, 9, 10, 11, 12, 'cool'}, 'b': {4, 5, 6, 7}}\n",
      "{'a': {0, 1, 2, 3, 4, 5, 6, 7, 8, 9, 10, 11, 12, 'cool'}, 'b': {4, 5, 6, 7}}\n"
     ]
    }
   ],
   "source": [
    "my_dict = {\n",
    "    'a' : {1, 2, 3, 4},\n",
    "    'b' : {4, 5, 6, 7},\n",
    "}\n",
    "\n",
    "my_dict['a'] |= {8,9,0, 'cool'}\n",
    "print(my_dict)\n",
    "\n",
    "\n",
    "# probably the cleanest way:\n",
    "my_dict['a'] |= {10, 11, 12}; print(my_dict)\n",
    "\n",
    "# this works too\n",
    "my_dict['a'] = my_dict['a'] | my_dict['b']; print(my_dict)"
   ]
  }
 ],
 "metadata": {
  "kernelspec": {
   "display_name": "Python 3 (ipykernel)",
   "language": "python",
   "name": "python3"
  },
  "language_info": {
   "codemirror_mode": {
    "name": "ipython",
    "version": 3
   },
   "file_extension": ".py",
   "mimetype": "text/x-python",
   "name": "python",
   "nbconvert_exporter": "python",
   "pygments_lexer": "ipython3",
   "version": "3.10.12"
  }
 },
 "nbformat": 4,
 "nbformat_minor": 5
}
