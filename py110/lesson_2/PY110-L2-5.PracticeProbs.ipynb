{
 "cells": [
  {
   "cell_type": "markdown",
   "id": "88b3fccc-221f-497b-9ec2-1fa541058ba4",
   "metadata": {},
   "source": [
    "# Section 5\n",
    "https://launchschool.com/lessons/76ecb255/assignments/c28a3c63"
   ]
  },
  {
   "cell_type": "code",
   "execution_count": 3,
   "id": "6fb2c113-45a4-4be2-b1f5-4ca6a295794a",
   "metadata": {},
   "outputs": [
    {
     "name": "stdout",
     "output_type": "stream",
     "text": [
      "3\n"
     ]
    }
   ],
   "source": [
    "lst = [[1, [2, [3, 4]]], 5]\n",
    "print( lst[0][1][1][0] )"
   ]
  },
  {
   "cell_type": "markdown",
   "id": "5e3e82da-b2f3-419c-8ccf-70a48e0e23c4",
   "metadata": {},
   "source": [
    "# 1  🟡"
   ]
  },
  {
   "cell_type": "code",
   "execution_count": 14,
   "id": "0e757480-4c15-41b5-b0db-eac24d4a4653",
   "metadata": {},
   "outputs": [
    {
     "name": "stdout",
     "output_type": "stream",
     "text": [
      "g\n",
      "g\n",
      "g\n",
      "g\n",
      "g\n"
     ]
    },
    {
     "ename": "KeyError",
     "evalue": "0",
     "output_type": "error",
     "traceback": [
      "\u001b[0;31m---------------------------------------------------------------------------\u001b[0m",
      "\u001b[0;31mKeyError\u001b[0m                                  Traceback (most recent call last)",
      "Cell \u001b[0;32mIn[14], line 31\u001b[0m\n\u001b[1;32m     28\u001b[0m \u001b[38;5;28mprint\u001b[39m(\u001b[38;5;28mlist\u001b[39m(dict2[\u001b[38;5;124m'\u001b[39m\u001b[38;5;124m3rd\u001b[39m\u001b[38;5;124m'\u001b[39m]\u001b[38;5;241m.\u001b[39mkeys())[\u001b[38;5;241m0\u001b[39m])\n\u001b[1;32m     30\u001b[0m \u001b[38;5;66;03m# I also tried this, and it should be obvious why this doesn't work!\u001b[39;00m\n\u001b[0;32m---> 31\u001b[0m \u001b[38;5;28mprint\u001b[39m(\u001b[43mdict2\u001b[49m\u001b[43m[\u001b[49m\u001b[38;5;124;43m'\u001b[39;49m\u001b[38;5;124;43m3rd\u001b[39;49m\u001b[38;5;124;43m'\u001b[39;49m\u001b[43m]\u001b[49m\u001b[43m[\u001b[49m\u001b[38;5;241;43m0\u001b[39;49m\u001b[43m]\u001b[49m)\n",
      "\u001b[0;31mKeyError\u001b[0m: 0"
     ]
    }
   ],
   "source": [
    "lst1 = ['a', 'b', ['c', ['d', 'e', 'f', 'g']]]\n",
    "\n",
    "lst2 = [\n",
    "    {\n",
    "        'first': ['a', 'b', 'c'],\n",
    "        'second': ['d', 'e', 'f']\n",
    "    },\n",
    "    {\n",
    "        'third': ['g', 'h', 'i']\n",
    "    }\n",
    "]\n",
    "\n",
    "lst3 = [['abc'], ['def'], {'third': ['ghi']}]\n",
    "\n",
    "dict1 = {'a': ['d', 'e'], 'b': ['f', 'g'], 'c': ['h', 'i']}\n",
    "\n",
    "# This one is much more challenging than it looks! Try it, but don't\n",
    "# stress about it. If you don't solve it in 10 minutes, you can look\n",
    "# at the answer.\n",
    "dict2 = {'1st': {'d': 3}, '2nd': {'e': 2, 'f': 1}, '3rd': {'g': 0}}\n",
    "\n",
    "\n",
    "# MY SOLUTION\n",
    "print(lst1[2][1][3])\n",
    "print(lst2[1]['third'][0])  # oops, used index 1 at end\n",
    "print(lst3[2]['third'][0][0])\n",
    "print(dict1['b'][1])\n",
    "print(list(dict2['3rd'].keys())[0])\n",
    "\n",
    "# I also tried this, and it should be obvious why this doesn't work!\n",
    "print(dict2['3rd'][0])"
   ]
  },
  {
   "cell_type": "markdown",
   "id": "2a94f098-5d81-4f4a-9f14-72dcbd403339",
   "metadata": {},
   "source": [
    "# 2  🟢"
   ]
  },
  {
   "cell_type": "code",
   "execution_count": 22,
   "id": "c47f1134-44aa-4901-8246-96dc25e41eb4",
   "metadata": {},
   "outputs": [
    {
     "name": "stdout",
     "output_type": "stream",
     "text": [
      "4\n",
      "4\n",
      "4\n",
      "4\n"
     ]
    }
   ],
   "source": [
    "lst1 = [1, [2, 3], 4]\n",
    "\n",
    "lst2 = [{'a': 1}, {'b': 2, 'c': [7, 6, 5], 'd': 4}, 3]\n",
    "\n",
    "dict1 = {'first': [1, 2, [3]]}\n",
    "\n",
    "dict2 = {'a': {'a': ['1', 'two', 3], 'b': 4}, 'b': 5}\n",
    "\n",
    "# MY SOLUTION\n",
    "references = [\n",
    "    lst1[1][1],\n",
    "    lst2[2],\n",
    "    dict1['first'][2][0],\n",
    "    dict2['a']['a'][2],\n",
    "]\n",
    "\n",
    "for i in references:\n",
    "    i = 4\n",
    "    print(i)"
   ]
  },
  {
   "cell_type": "markdown",
   "id": "a004e198-819b-4a77-9e44-efd71a332780",
   "metadata": {},
   "source": [
    "# 3  🔴"
   ]
  },
  {
   "cell_type": "code",
   "execution_count": null,
   "id": "fd0e6d94-82a1-4eef-b094-623b5d5706c4",
   "metadata": {},
   "outputs": [],
   "source": [
    "a = 2 \n",
    "b = [5, 8]\n",
    "lst = [a, b]   # [2, [5,8]]\n",
    "\n",
    "lst[0] += 2    # [4, [5,8]] \n",
    "lst[1][0] -= a  # [4, [1, 8]]\n",
    "\n",
    "# a = 2\n",
    "# b = [1, 8]"
   ]
  },
  {
   "cell_type": "markdown",
   "id": "105398e7-bd8a-4f9d-88a6-09e546d430f4",
   "metadata": {},
   "source": [
    "# 4 🟡\n",
    "My solution worked, though theirs was only one line!  Uses `.items()` and tuple unpacking."
   ]
  },
  {
   "cell_type": "code",
   "execution_count": 23,
   "id": "bd9f0f8c-3388-442e-baf2-12857f388e96",
   "metadata": {},
   "outputs": [
    {
     "name": "stdout",
     "output_type": "stream",
     "text": [
      "Herman is a 32-year-old male.\n",
      "Lily is a 30-year-old female.\n",
      "Grandpa is a 402-year-old male.\n",
      "Eddie is a 10-year-old male.\n",
      "Marilyn is a 23-year-old female.\n"
     ]
    }
   ],
   "source": [
    "munsters = {\n",
    "    'Herman':  {'age': 32,  'gender': 'male'},\n",
    "    'Lily':    {'age': 30,  'gender': 'female'},\n",
    "    'Grandpa': {'age': 402, 'gender': 'male'},\n",
    "    'Eddie':   {'age': 10,  'gender': 'male'},\n",
    "    'Marilyn': {'age': 23,  'gender': 'female'},\n",
    "}\n",
    "\n",
    "for munster in munsters:\n",
    "    name = munster\n",
    "    age = munsters[munster]['age']\n",
    "    gender = munsters[munster]['gender']\n",
    "    print(f\"{name} is a {age}-year-old {gender}.\")\n",
    "\n",
    "    "
   ]
  },
  {
   "cell_type": "markdown",
   "id": "a79951f6-9087-4785-aa30-a26000897771",
   "metadata": {},
   "source": [
    "# 5"
   ]
  },
  {
   "cell_type": "markdown",
   "id": "e9c65873-dae1-4d23-8883-590c4269e1cf",
   "metadata": {},
   "source": [
    "# 6"
   ]
  },
  {
   "cell_type": "markdown",
   "id": "4f09d08e-ae98-4370-b1e0-d17a65a72a24",
   "metadata": {},
   "source": [
    "# 7"
   ]
  },
  {
   "cell_type": "markdown",
   "id": "4abc600d-8ed4-4a84-87f6-154cd451497b",
   "metadata": {},
   "source": [
    "# 8"
   ]
  },
  {
   "cell_type": "markdown",
   "id": "e7d6b13a-3778-42d7-8a5d-6a4ec0add685",
   "metadata": {},
   "source": [
    "# 9"
   ]
  },
  {
   "cell_type": "markdown",
   "id": "7879b14b-3550-4ce3-aab7-46f91348144e",
   "metadata": {},
   "source": [
    "# 10"
   ]
  }
 ],
 "metadata": {
  "kernelspec": {
   "display_name": "Python 3 (ipykernel)",
   "language": "python",
   "name": "python3"
  },
  "language_info": {
   "codemirror_mode": {
    "name": "ipython",
    "version": 3
   },
   "file_extension": ".py",
   "mimetype": "text/x-python",
   "name": "python",
   "nbconvert_exporter": "python",
   "pygments_lexer": "ipython3",
   "version": "3.10.12"
  }
 },
 "nbformat": 4,
 "nbformat_minor": 5
}
