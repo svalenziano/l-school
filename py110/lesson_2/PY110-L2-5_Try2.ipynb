{
 "cells": [
  {
   "cell_type": "markdown",
   "id": "88b3fccc-221f-497b-9ec2-1fa541058ba4",
   "metadata": {},
   "source": [
    "# Try 2\n",
    "https://launchschool.com/lessons/76ecb255/assignments/c28a3c63\n",
    "\n"
   ]
  },
  {
   "cell_type": "markdown",
   "id": "5e3e82da-b2f3-419c-8ccf-70a48e0e23c4",
   "metadata": {},
   "source": [
    "# 1"
   ]
  },
  {
   "cell_type": "code",
   "execution_count": 9,
   "id": "0e757480-4c15-41b5-b0db-eac24d4a4653",
   "metadata": {},
   "outputs": [
    {
     "name": "stdout",
     "output_type": "stream",
     "text": [
      "g\n",
      "g\n",
      "g\n",
      "g\n",
      "g\n"
     ]
    }
   ],
   "source": [
    "lst1 = ['a', 'b', ['c', ['d', 'e', 'f', 'g']]]\n",
    "print(lst1[2][1][3])\n",
    "\n",
    "lst2 = [\n",
    "    {\n",
    "        'first': ['a', 'b', 'c'],\n",
    "        'second': ['d', 'e', 'f']\n",
    "    },\n",
    "    {\n",
    "        'third': ['g', 'h', 'i']\n",
    "    }\n",
    "]\n",
    "print(lst2[1]['third'][0])\n",
    "\n",
    "lst3 = [['abc'], ['def'], {'third': ['ghi']}]\n",
    "print(lst3[2]['third'][0][0])\n",
    "\n",
    "dict1 = {'a': ['d', 'e'], 'b': ['f', 'g'], 'c': ['h', 'i']}\n",
    "print(dict1['b'][1])\n",
    "\n",
    "# This one is much more challenging than it looks! Try it, but don't\n",
    "# stress about it. If you don't solve it in 10 minutes, you can look\n",
    "# at the answer.\n",
    "dict2 = {'1st': {'d': 3}, '2nd': {'e': 2, 'f': 1}, '3rd': {'g': 0}}\n",
    "print(list(dict2['3rd'].keys())[0])"
   ]
  },
  {
   "cell_type": "markdown",
   "id": "2a94f098-5d81-4f4a-9f14-72dcbd403339",
   "metadata": {},
   "source": [
    "# 2"
   ]
  },
  {
   "cell_type": "code",
   "execution_count": 16,
   "id": "ef562878-766e-499d-bb7d-6c45f4a9c289",
   "metadata": {},
   "outputs": [
    {
     "name": "stdout",
     "output_type": "stream",
     "text": [
      "[1, [2, 4], 4]\n",
      "[{'a': 1}, {'b': 2, 'c': [7, 6, 5], 'd': 4}, 4]\n",
      "{'first': [1, 2, [4]]}\n",
      "{'a': {'a': ['1', 'two', 4], 'b': 4}, 'b': 5}\n"
     ]
    }
   ],
   "source": [
    "lst1 = [1, [2, 3], 4]\n",
    "lst1[1][1] = 4; print(lst1)\n",
    "\n",
    "lst2 = [{'a': 1}, {'b': 2, 'c': [7, 6, 5], 'd': 4}, 3]\n",
    "lst2[2] = 4; print(lst2)\n",
    "\n",
    "dict1 = {'first': [1, 2, [3]]}\n",
    "dict1['first'][2][0] = 4; print(dict1)\n",
    "\n",
    "dict2 = {'a': {'a': ['1', 'two', 3], 'b': 4}, 'b': 5}\n",
    "dict2['a']['a'][2] = 4; print(dict2)"
   ]
  },
  {
   "cell_type": "markdown",
   "id": "a004e198-819b-4a77-9e44-efd71a332780",
   "metadata": {},
   "source": [
    "# 3"
   ]
  },
  {
   "cell_type": "code",
   "execution_count": null,
   "id": "bd9e11d2-6560-40d4-a9e2-eee64db87550",
   "metadata": {},
   "outputs": [],
   "source": [
    "a = 2\n",
    "b = [5, 8]\n",
    "lst = [a, b]\n",
    "\n",
    "lst[0] += 2  # lst[0] now equals [4, b] , a still equals 2\n",
    "lst[1][0] -= a # subtract 2 from 5, now lst equals [4, [3, 8]]\n"
   ]
  },
  {
   "cell_type": "markdown",
   "id": "105398e7-bd8a-4f9d-88a6-09e546d430f4",
   "metadata": {},
   "source": [
    "# 4"
   ]
  },
  {
   "cell_type": "code",
   "execution_count": 18,
   "id": "39db7be7-c3ff-4551-adf7-d437055aaf4b",
   "metadata": {},
   "outputs": [
    {
     "name": "stdout",
     "output_type": "stream",
     "text": [
      "Herman is a 32-year-old male\n",
      "Lily is a 30-year-old female\n",
      "Grandpa is a 402-year-old male\n",
      "Eddie is a 10-year-old male\n",
      "Marilyn is a 23-year-old female\n"
     ]
    }
   ],
   "source": [
    "munsters = {\n",
    "    'Herman':  {'age': 32,  'gender': 'male'},\n",
    "    'Lily':    {'age': 30,  'gender': 'female'},\n",
    "    'Grandpa': {'age': 402, 'gender': 'male'},\n",
    "    'Eddie':   {'age': 10,  'gender': 'male'},\n",
    "    'Marilyn': {'age': 23,  'gender': 'female'},\n",
    "}\n",
    "\n",
    "for key, value in munsters.items():\n",
    "    print(f\"{key} is a {value['age']}-year-old {value['gender']}\")"
   ]
  },
  {
   "cell_type": "markdown",
   "id": "a79951f6-9087-4785-aa30-a26000897771",
   "metadata": {},
   "source": [
    "# 5"
   ]
  },
  {
   "cell_type": "markdown",
   "id": "e9c65873-dae1-4d23-8883-590c4269e1cf",
   "metadata": {},
   "source": [
    "# 6"
   ]
  },
  {
   "cell_type": "markdown",
   "id": "4f09d08e-ae98-4370-b1e0-d17a65a72a24",
   "metadata": {},
   "source": [
    "# 7"
   ]
  },
  {
   "cell_type": "markdown",
   "id": "4abc600d-8ed4-4a84-87f6-154cd451497b",
   "metadata": {},
   "source": [
    "# 8"
   ]
  },
  {
   "cell_type": "markdown",
   "id": "e7d6b13a-3778-42d7-8a5d-6a4ec0add685",
   "metadata": {},
   "source": [
    "# 9"
   ]
  },
  {
   "cell_type": "markdown",
   "id": "7879b14b-3550-4ce3-aab7-46f91348144e",
   "metadata": {},
   "source": [
    "# 10"
   ]
  },
  {
   "cell_type": "code",
   "execution_count": 7,
   "id": "a74db5b8-df83-465b-a7d7-7a070e472ecd",
   "metadata": {},
   "outputs": [
    {
     "name": "stdout",
     "output_type": "stream",
     "text": [
      "apple is in the dict!\n",
      "orange is in the dict!\n",
      "apple is in the dict!\n",
      "orange is in the dict!\n",
      "mango is in the dict!\n"
     ]
    }
   ],
   "source": [
    "fruits = {\n",
    "    'apple' : 'pantry',\n",
    "    'orange' : 'store',\n",
    "    'mango' : None,\n",
    "}\n",
    "\n",
    "# What if we use '.get' to test for membership?\n",
    "for fruit in fruits:\n",
    "    if fruits.get(fruit):  # <===\n",
    "        print(f\"{fruit} is in the dict!\")\n",
    "'''\n",
    "PRINTS:\n",
    "apple is in the dict!\n",
    "orange is in the dict!\n",
    "'''\n",
    "\n",
    "# A better way to do it:\n",
    "for fruit in fruits:\n",
    "    if fruit in fruits:   # <===\n",
    "        print(f\"{fruit} is in the dict!\")\n",
    "'''\n",
    "PRINTS:\n",
    "apple is in the dict!\n",
    "orange is in the dict!\n",
    "mango is in the dict!\n",
    "'''"
   ]
  }
 ],
 "metadata": {
  "kernelspec": {
   "display_name": "Python 3 (ipykernel)",
   "language": "python",
   "name": "python3"
  },
  "language_info": {
   "codemirror_mode": {
    "name": "ipython",
    "version": 3
   },
   "file_extension": ".py",
   "mimetype": "text/x-python",
   "name": "python",
   "nbconvert_exporter": "python",
   "pygments_lexer": "ipython3",
   "version": "3.10.12"
  }
 },
 "nbformat": 4,
 "nbformat_minor": 5
}
