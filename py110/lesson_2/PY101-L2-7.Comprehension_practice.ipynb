{
 "cells": [
  {
   "cell_type": "markdown",
   "id": "88b3fccc-221f-497b-9ec2-1fa541058ba4",
   "metadata": {},
   "source": [
    "# 7. Comprehension Practice\n",
    "https://launchschool.com/lessons/76ecb255/assignments/12259fac\n",
    "\n"
   ]
  },
  {
   "cell_type": "markdown",
   "id": "5e3e82da-b2f3-419c-8ccf-70a48e0e23c4",
   "metadata": {},
   "source": [
    "# 1 🔴\n",
    "\n",
    "This was NOT smooth!  Mostly because of a Jupyter indiosynchrasy: I'd mistakenly initialized a variable with the name 'sum', therefore shadowing the built-in sum() function and throwing a strange error message.  But also because I wasn't understanding dict index access within the context of the comprehension!"
   ]
  },
  {
   "cell_type": "code",
   "execution_count": 7,
   "id": "0e757480-4c15-41b5-b0db-eac24d4a4653",
   "metadata": {},
   "outputs": [
    {
     "name": "stdout",
     "output_type": "stream",
     "text": [
      "dict_values([{'age': 32, 'gender': 'male'}, {'age': 30, 'gender': 'female'}, {'age': 402, 'gender': 'male'}, {'age': 10, 'gender': 'male'}, {'age': 23, 'gender': 'female'}])\n",
      "444\n",
      "444\n",
      "444\n"
     ]
    }
   ],
   "source": [
    "munsters = {\n",
    "    'Herman':  {'age': 32,  'gender': 'male'},\n",
    "    'Lily':    {'age': 30,  'gender': 'female'},\n",
    "    'Grandpa': {'age': 402, 'gender': 'male'},\n",
    "    'Eddie':   {'age': 10,  'gender': 'male'},\n",
    "    'Marilyn': {'age': 23,  'gender': 'female'},\n",
    "}\n",
    "\n",
    "# Making sure I understand '.values' properly\n",
    "# {'age' : 32, 'gender', 'male'}, {...\n",
    "print(munsters.values())\n",
    "\n",
    "# Standard for-loop\n",
    "total = 0\n",
    "for item in munsters.values():\n",
    "    if item['gender'] == 'male':\n",
    "        total += item['age']\n",
    "print(total)\n",
    "\n",
    "# Comp\n",
    "ages = sum([ value['age'] for value in munsters.values() \n",
    "        if value['gender'] == 'male' ])\n",
    "print(ages)\n",
    "\n",
    "# It's dirtier when you don't use .values()\n",
    "ages2 = sum([munsters[member]['age'] for member in munsters\n",
    "              if munsters[member]['gender'] == 'male'])\n",
    "print(ages2)"
   ]
  },
  {
   "cell_type": "code",
   "execution_count": null,
   "id": "74363116-6a87-4009-9439-a8a51f150845",
   "metadata": {},
   "outputs": [],
   "source": []
  },
  {
   "cell_type": "markdown",
   "id": "2a94f098-5d81-4f4a-9f14-72dcbd403339",
   "metadata": {},
   "source": [
    "# 2  🟡\n",
    "\n",
    "Not hard, but not fluent either"
   ]
  },
  {
   "cell_type": "code",
   "execution_count": 9,
   "id": "b23fb23e-1521-4d9e-86a1-d0098dfb55fd",
   "metadata": {},
   "outputs": [
    {
     "name": "stdout",
     "output_type": "stream",
     "text": [
      "[['a', 'b', 'c'], [-3, 2, 11], ['black', 'blue', 'green']]\n"
     ]
    }
   ],
   "source": [
    "lst = [['b', 'c', 'a'], [2, 11, -3], ['blue', 'black', 'green']]\n",
    "\n",
    "print( [sorted(inner_list) for inner_list in lst] )"
   ]
  },
  {
   "cell_type": "markdown",
   "id": "a004e198-819b-4a77-9e44-efd71a332780",
   "metadata": {},
   "source": [
    "# 3 🔴\n",
    "\n",
    "Wow, had trouble with this one before I wrote it as a nested for loop 😅"
   ]
  },
  {
   "cell_type": "code",
   "execution_count": 16,
   "id": "e454740f-57e1-4d19-b2e9-49b6378c6df3",
   "metadata": {},
   "outputs": [
    {
     "name": "stdout",
     "output_type": "stream",
     "text": [
      "[['a', 'b', 'c'], [-3, 11, 2], ['black', 'blue', 'green']]\n",
      "[['a', 'b', 'c'], [-3, 11, 2], ['black', 'blue', 'green']]\n"
     ]
    }
   ],
   "source": [
    "lst = [['b', 'c', 'a'], [2, 11, -3], ['blue', 'black', 'green']]\n",
    "\n",
    "# convert each element to str()\n",
    "# sort\n",
    "\n",
    "# for loop\n",
    "new_lst = []\n",
    "for sublist in lst:\n",
    "    new_sublist = []\n",
    "    for element in sublist:\n",
    "        new_sublist.append(element)\n",
    "    new_lst.append(sorted(new_sublist, key = str))\n",
    "print(new_lst)\n",
    "\n",
    "# nested comprehension\n",
    "print([sorted(sublist, key = str) for sublist in lst])"
   ]
  },
  {
   "cell_type": "markdown",
   "id": "105398e7-bd8a-4f9d-88a6-09e546d430f4",
   "metadata": {},
   "source": [
    "# 4 🟢"
   ]
  },
  {
   "cell_type": "code",
   "execution_count": 17,
   "id": "c36050cd-55b4-4509-84c4-9f7c834a74fe",
   "metadata": {},
   "outputs": [
    {
     "name": "stdout",
     "output_type": "stream",
     "text": [
      "{'a': 1, 'b': 'two', 'sea': {'c': 3}, 'D': ['a', 'b', 'c']}\n"
     ]
    }
   ],
   "source": [
    "lst = [\n",
    "    ['a', 1],\n",
    "    ['b', 'two'],\n",
    "    ['sea', {'c': 3}],\n",
    "    ['D', ['a', 'b', 'c']]\n",
    "]\n",
    "\n",
    "print( {item[0] : item[1] for item in lst} )"
   ]
  },
  {
   "cell_type": "markdown",
   "id": "a79951f6-9087-4785-aa30-a26000897771",
   "metadata": {},
   "source": [
    "# 5 🔴\n"
   ]
  },
  {
   "cell_type": "markdown",
   "id": "d7f867df-c217-4fd3-b128-f75f505a1763",
   "metadata": {},
   "source": [
    "Well this didn't work :("
   ]
  },
  {
   "cell_type": "code",
   "execution_count": 19,
   "id": "a91e88d3-b7a7-4c2c-87db-fea1f522db31",
   "metadata": {},
   "outputs": [
    {
     "name": "stdout",
     "output_type": "stream",
     "text": [
      "[[1, 5, 3], [1, 5, 3], [1, 5, 3], [1, 8, 3], [1, 8, 3], [1, 6, 7], [1, 6, 7]]\n"
     ]
    }
   ],
   "source": [
    "lst = [[1, 6, 7], [1, 5, 3], [1, 8, 3]]\n",
    "\n",
    "# order based on the sum of odd numbers\n",
    "\n",
    "# NESTED: sum if odd\n",
    "\n",
    "# OUTER: sort\n",
    "\n",
    "'''\n",
    "x = [expression for sublist in lst\n",
    "                if condition1\n",
    "                for item in sublist\n",
    "                if condition2]\n",
    "'''\n",
    "\n",
    "x = sorted( [sublist for sublist in lst\n",
    "            for item in sublist\n",
    "            if item % 2 != 0],\n",
    "            key = sum\n",
    ")\n",
    "print(x)"
   ]
  },
  {
   "cell_type": "markdown",
   "id": "469fd3ab-c6c9-46bc-9d67-50b3f784b321",
   "metadata": {},
   "source": [
    "This didn't work either!  `sublist` is not defined:"
   ]
  },
  {
   "cell_type": "code",
   "execution_count": 20,
   "id": "f265afe0-e9ea-4817-a2e4-28d0f5fede99",
   "metadata": {},
   "outputs": [
    {
     "ename": "TypeError",
     "evalue": "not all arguments converted during string formatting",
     "output_type": "error",
     "traceback": [
      "\u001b[0;31m---------------------------------------------------------------------------\u001b[0m",
      "\u001b[0;31mTypeError\u001b[0m                                 Traceback (most recent call last)",
      "Cell \u001b[0;32mIn[20], line 3\u001b[0m\n\u001b[1;32m      1\u001b[0m lst \u001b[38;5;241m=\u001b[39m [[\u001b[38;5;241m1\u001b[39m, \u001b[38;5;241m6\u001b[39m, \u001b[38;5;241m7\u001b[39m], [\u001b[38;5;241m1\u001b[39m, \u001b[38;5;241m5\u001b[39m, \u001b[38;5;241m3\u001b[39m], [\u001b[38;5;241m1\u001b[39m, \u001b[38;5;241m8\u001b[39m, \u001b[38;5;241m3\u001b[39m]]\n\u001b[0;32m----> 3\u001b[0m new_lst \u001b[38;5;241m=\u001b[39m [item \u001b[38;5;28;01mfor\u001b[39;00m item \u001b[38;5;129;01min\u001b[39;00m sublist\n\u001b[1;32m      4\u001b[0m             \u001b[38;5;28;01mif\u001b[39;00m item \u001b[38;5;241m%\u001b[39m \u001b[38;5;241m2\u001b[39m \u001b[38;5;241m!=\u001b[39m \u001b[38;5;241m0\u001b[39m\n\u001b[1;32m      5\u001b[0m             \u001b[38;5;28;01mfor\u001b[39;00m sublist \u001b[38;5;129;01min\u001b[39;00m lst]\n\u001b[1;32m      7\u001b[0m new_list\u001b[38;5;241m.\u001b[39msort(key \u001b[38;5;241m=\u001b[39m \u001b[38;5;28msum\u001b[39m)\n\u001b[1;32m      9\u001b[0m \u001b[38;5;28mprint\u001b[39m(new_list)\n",
      "Cell \u001b[0;32mIn[20], line 4\u001b[0m, in \u001b[0;36m<listcomp>\u001b[0;34m(.0)\u001b[0m\n\u001b[1;32m      1\u001b[0m lst \u001b[38;5;241m=\u001b[39m [[\u001b[38;5;241m1\u001b[39m, \u001b[38;5;241m6\u001b[39m, \u001b[38;5;241m7\u001b[39m], [\u001b[38;5;241m1\u001b[39m, \u001b[38;5;241m5\u001b[39m, \u001b[38;5;241m3\u001b[39m], [\u001b[38;5;241m1\u001b[39m, \u001b[38;5;241m8\u001b[39m, \u001b[38;5;241m3\u001b[39m]]\n\u001b[1;32m      3\u001b[0m new_lst \u001b[38;5;241m=\u001b[39m [item \u001b[38;5;28;01mfor\u001b[39;00m item \u001b[38;5;129;01min\u001b[39;00m sublist\n\u001b[0;32m----> 4\u001b[0m             \u001b[38;5;28;01mif\u001b[39;00m \u001b[43mitem\u001b[49m\u001b[43m \u001b[49m\u001b[38;5;241;43m%\u001b[39;49m\u001b[43m \u001b[49m\u001b[38;5;241;43m2\u001b[39;49m \u001b[38;5;241m!=\u001b[39m \u001b[38;5;241m0\u001b[39m\n\u001b[1;32m      5\u001b[0m             \u001b[38;5;28;01mfor\u001b[39;00m sublist \u001b[38;5;129;01min\u001b[39;00m lst]\n\u001b[1;32m      7\u001b[0m new_list\u001b[38;5;241m.\u001b[39msort(key \u001b[38;5;241m=\u001b[39m \u001b[38;5;28msum\u001b[39m)\n\u001b[1;32m      9\u001b[0m \u001b[38;5;28mprint\u001b[39m(new_list)\n",
      "\u001b[0;31mTypeError\u001b[0m: not all arguments converted during string formatting"
     ]
    }
   ],
   "source": [
    "lst = [[1, 6, 7], [1, 5, 3], [1, 8, 3]]\n",
    "\n",
    "new_lst = [item for item in sublist\n",
    "            if item % 2 != 0\n",
    "            for sublist in lst]\n",
    "\n",
    "new_list.sort(key = sum)\n",
    "\n",
    "print(new_list)"
   ]
  },
  {
   "cell_type": "markdown",
   "id": "b2881dde-b7a3-429a-a39a-aab80a4dd19b",
   "metadata": {},
   "source": [
    "Here we go!  I was forcing the use of a nested comprehension on a problem that wasn't suited for it."
   ]
  },
  {
   "cell_type": "code",
   "execution_count": 21,
   "id": "fb216203-a4d1-47f3-9367-be755aa18eed",
   "metadata": {},
   "outputs": [
    {
     "name": "stdout",
     "output_type": "stream",
     "text": [
      "[[1, 8, 3], [1, 6, 7], [1, 5, 3]]\n"
     ]
    }
   ],
   "source": [
    "lst = [[1, 6, 7], [1, 5, 3], [1, 8, 3]]\n",
    "\n",
    "def sum_odds(list_):\n",
    "    return sum([i for i in list_ if i % 2 != 0])\n",
    "\n",
    "new_lst = sorted( lst, key = sum_odds)\n",
    "print(new_lst)"
   ]
  },
  {
   "cell_type": "markdown",
   "id": "e9c65873-dae1-4d23-8883-590c4269e1cf",
   "metadata": {},
   "source": [
    "# 6 🟡"
   ]
  },
  {
   "cell_type": "markdown",
   "id": "69ac8df4-4423-4c01-84ec-f1d1405bfa64",
   "metadata": {},
   "source": [
    "🟢 My first solution.  Worked fine, and [LS uses this syntax in one of their problems](https://launchschool.com/lessons/76ecb255/assignments/12259fac#:~:text=Were%20you%20perhaps%20wondering%20whether%20we%20can%20combine%20these%20two%20comprehensions%20into%20a%20single%20comprehension%3F%20The%20answer%20is%20of%20course%2C%20yes.)"
   ]
  },
  {
   "cell_type": "code",
   "execution_count": 23,
   "id": "60c45f38-bc9f-471f-b5cf-8d1e3f728cca",
   "metadata": {},
   "outputs": [
    {
     "name": "stdout",
     "output_type": "stream",
     "text": [
      "[{'a': 2}, {'b': 4, 'c': 6}, {'d': 8, 'e': 10, 'f': 12}]\n"
     ]
    }
   ],
   "source": [
    "lst = [{'a': 1}, {'b': 2, 'c': 3}, {'d': 4, 'e': 5, 'f': 6}]\n",
    "\n",
    "new_lst = [ {key : value*2 for key, value in i.items()}\n",
    "             for i in lst]\n",
    "\n",
    "print(new_lst)"
   ]
  },
  {
   "cell_type": "markdown",
   "id": "1ec63eb4-468f-4feb-a548-aed8b8cbec1f",
   "metadata": {},
   "source": [
    "Try 2, after glancing at solution"
   ]
  },
  {
   "cell_type": "code",
   "execution_count": 26,
   "id": "d0d42f63-663e-44ac-9544-a9b1852f1aaa",
   "metadata": {},
   "outputs": [
    {
     "name": "stdout",
     "output_type": "stream",
     "text": [
      "[{'a': 2}, {'b': 3, 'c': 4}, {'d': 5, 'e': 6, 'f': 7}]\n"
     ]
    }
   ],
   "source": [
    "lst = [{'a': 1}, {'b': 2, 'c': 3}, {'d': 4, 'e': 5, 'f': 6}]\n",
    "\n",
    "def increment_value(dict_):\n",
    "    return {key : value + 1 for key, value in dict_.items()}\n",
    "    \n",
    "\n",
    "new_lst = [increment_value(i) for i in lst]\n",
    "print(new_lst)"
   ]
  },
  {
   "cell_type": "markdown",
   "id": "3253675c-cbdf-48ae-af64-e9e5747d1755",
   "metadata": {},
   "source": [
    "**Combine into a nested comprehension!?**\n",
    "This kinda works but result in incorrect data structure"
   ]
  },
  {
   "cell_type": "code",
   "execution_count": 30,
   "id": "f4211c71-f02f-457f-aa22-c64fbc15ea14",
   "metadata": {},
   "outputs": [
    {
     "name": "stdout",
     "output_type": "stream",
     "text": [
      "{'a': 2, 'b': 3, 'c': 4, 'd': 5, 'e': 6, 'f': 7}\n"
     ]
    }
   ],
   "source": [
    "#  OOPS LOL, THE CORRECT SYNTAX IS IDENTICAL TO MY FIRST ATTEMPT\n",
    "lst = [{'a': 1}, {'b': 2, 'c': 3}, {'d': 4, 'e': 5, 'f': 6}]\n",
    "\n",
    "new_lst = {key: value + 1 for sublist in lst\n",
    "                          for key, value in sublist.items()}\n",
    "\n",
    "print(new_lst)"
   ]
  },
  {
   "cell_type": "markdown",
   "id": "4f09d08e-ae98-4370-b1e0-d17a65a72a24",
   "metadata": {},
   "source": [
    "# 7 🟢\n",
    "\n",
    "Finally, one that I had any easy time with 🥲"
   ]
  },
  {
   "cell_type": "code",
   "execution_count": 31,
   "id": "6d745b18-4b37-4596-9759-55752b7e5283",
   "metadata": {},
   "outputs": [
    {
     "name": "stdout",
     "output_type": "stream",
     "text": [
      "[[], [3, 12], [9], [15, 18]]\n"
     ]
    }
   ],
   "source": [
    "lst = [[2], [3, 5, 7, 12], [9], [11, 15, 18]]\n",
    "\n",
    "new_lst = [ [i for i in sublist if i % 3 == 0]\n",
    "               for sublist in lst ]\n",
    "\n",
    "print(new_lst)"
   ]
  },
  {
   "cell_type": "markdown",
   "id": "4abc600d-8ed4-4a84-87f6-154cd451497b",
   "metadata": {},
   "source": [
    "# 8 🟡"
   ]
  },
  {
   "cell_type": "markdown",
   "id": "3225a542-77d8-4f33-aa0d-700139d49dff",
   "metadata": {},
   "source": [
    "My first attempt worked quite well, though I wasn't fluent.\n",
    "\n",
    "**Next time** --> write a 'Transform' function and implement it inside a comprehension."
   ]
  },
  {
   "cell_type": "code",
   "execution_count": 36,
   "id": "69c62ec1-d829-4157-81f8-3390a16b5fd6",
   "metadata": {},
   "outputs": [],
   "source": [
    "# PSEUDOCODE\n",
    "\n",
    "# colors of the fruits, UPPERCASE\n",
    "# sizes of the vegetables, Capitalized\n",
    "\n",
    "# for each item in dict\n",
    "\n",
    "# if item is fruit --> COLOR (uppercase)\n",
    "\n",
    "# if item is veg --> Size (cap)"
   ]
  },
  {
   "cell_type": "code",
   "execution_count": 34,
   "id": "f6d44caf-cde9-4789-adcb-7185caa7e244",
   "metadata": {},
   "outputs": [
    {
     "name": "stdout",
     "output_type": "stream",
     "text": [
      "[['Red', 'Green'], 'MEDIUM', ['Orange'], 'LARGE']\n"
     ]
    }
   ],
   "source": [
    "dict1 = {\n",
    "    'grape': {\n",
    "        'type': 'fruit',\n",
    "        'colors': ['red', 'green'],\n",
    "        'size': 'small',\n",
    "    },\n",
    "    'carrot': {\n",
    "        'type': 'vegetable',\n",
    "        'colors': ['orange'],\n",
    "        'size': 'medium',\n",
    "    },\n",
    "    'apricot': {\n",
    "        'type': 'fruit',\n",
    "        'colors': ['orange'],\n",
    "        'size': 'medium',\n",
    "    },\n",
    "    'marrow': {\n",
    "        'type': 'vegetable',\n",
    "        'colors': ['green'],\n",
    "        'size': 'large',\n",
    "    },\n",
    "}\n",
    "\n",
    "new_lst = []\n",
    "for food in dict1.values():\n",
    "    if food['type'] == 'fruit':\n",
    "        new_lst.append( [color.capitalize() for color in food['colors']])\n",
    "    else:\n",
    "        new_lst.append(food['size'].upper())\n",
    "\n",
    "print(new_lst)"
   ]
  },
  {
   "cell_type": "markdown",
   "id": "e7d6b13a-3778-42d7-8a5d-6a4ec0add685",
   "metadata": {},
   "source": [
    "# 9 🟢\n",
    "\n",
    "LS: \"may prove challenging... don't spend more than 20 minutes on it\"\n",
    "\n",
    "I actually found it pretty easy, spent ~10 mins on it :)"
   ]
  },
  {
   "cell_type": "code",
   "execution_count": 50,
   "id": "8e62e761-8ac1-424f-8bbb-22ff5542b6c1",
   "metadata": {},
   "outputs": [
    {
     "name": "stdout",
     "output_type": "stream",
     "text": [
      "[{'e': [8], 'f': [6, 10]}]\n"
     ]
    }
   ],
   "source": [
    "lst = [\n",
    "    {'a': [1, 2, 3]},\n",
    "    {'b': [2, 4, 6], 'c': [3, 6], 'd': [4]},\n",
    "    {'e': [8], 'f': [6, 10]},\n",
    "]\n",
    "\n",
    "def all_numbers_even(dict_):\n",
    "    flattened = [i for lst in dict_.values()\n",
    "                   for i in lst]\n",
    "    even = [i % 2 == 0 for i in flattened]\n",
    "    return all(even)\n",
    "\n",
    "evens_lst = [i for i in lst if all_numbers_even(i)]\n",
    "print(evens_lst)"
   ]
  },
  {
   "cell_type": "markdown",
   "id": "7879b14b-3550-4ce3-aab7-46f91348144e",
   "metadata": {},
   "source": [
    "# 10 🟢\n",
    "Took a while, but not hard."
   ]
  },
  {
   "cell_type": "markdown",
   "id": "55e65df3-1d6d-482f-bef8-3f7c56e70520",
   "metadata": {},
   "source": [
    "PSEUDOCODE (drafted in Obsidian)\n",
    "\n",
    "HELPER: `gen_hex_string()`\n",
    "- Input: integer `x`\n",
    "- Output: string consisting of `x` characters\n",
    "- Algorithm:\n",
    "\t- choices = [0, 1, 2, 3, 4, 5, 6, 7, 8, 9, 'a', 'b', 'c', 'd', 'e', 'f']\n",
    "\t- `str` = ''\n",
    "\t- for i in range(0,x+1)\n",
    "\t\t- append random choice to str\n",
    "\t- return str\n",
    "\n",
    "`gen_uuid()`\n",
    "- Input: no arguments\n",
    "- Output: UUID\n",
    "- Algorithm\n",
    "\t- `uuid` = empty list \n",
    "\t- `format` = list containing 8, 4, 4, 4, 12\n",
    "\t- for length in `format`:\n",
    "\t\t- append `gen_hex_string(length)` to uuid\n",
    "\t- return `'-'.join(uuid)`"
   ]
  },
  {
   "cell_type": "code",
   "execution_count": 65,
   "id": "298950c8-6ce1-4615-834d-00d08393844a",
   "metadata": {},
   "outputs": [
    {
     "name": "stdout",
     "output_type": "stream",
     "text": [
      "[[1, 5, 3], [1, 5, 3], [1, 5, 3], [1, 8, 3], [1, 8, 3], [1, 6, 7], [1, 6, 7]]\n",
      "[[1, 5, 3], [1, 5, 3], [1, 5, 3], [1, 8, 3], [1, 8, 3], [1, 6, 7], [1, 6, 7]]\n",
      "[[1, 5, 3], [1, 5, 3], [1, 5, 3], [1, 8, 3], [1, 8, 3], [1, 6, 7], [1, 6, 7]]\n",
      "[[1, 5, 3], [1, 5, 3], [1, 5, 3], [1, 8, 3], [1, 8, 3], [1, 6, 7], [1, 6, 7]]\n",
      "[[1, 5, 3], [1, 5, 3], [1, 5, 3], [1, 8, 3], [1, 8, 3], [1, 6, 7], [1, 6, 7]]\n",
      "[[1, 5, 3], [1, 5, 3], [1, 5, 3], [1, 8, 3], [1, 8, 3], [1, 6, 7], [1, 6, 7]]\n",
      "\n"
     ]
    }
   ],
   "source": [
    "from random import choice\n",
    "\n",
    "def gen_hex_string(length):\n",
    "    choices = [str(i) for i in range(0, 10)] + list('abcdef')\n",
    "    string = ''\n",
    "    for i in range(0, length + 1):\n",
    "        string += choice(choices)\n",
    "    return string\n",
    "\n",
    "def gen_uuid():\n",
    "    format = [8, 4, 4, 4, 12]\n",
    "    uuid = [gen_hex_string(i) for i in format]\n",
    "    return '-'.join(uuid)\n",
    "\n",
    "# print(gen_hex_string(5))\n",
    "for _ in range(0,10):\n",
    "    print(gen_uuid())"
   ]
  },
  {
   "cell_type": "markdown",
   "id": "eb29425e-1b11-47e1-8d65-2721a11cc672",
   "metadata": {},
   "source": [
    "# 11  🟡\n",
    "\n",
    "Figured it out with a little head-scratching.\n",
    "\n",
    "Would be good to practice this "
   ]
  },
  {
   "cell_type": "code",
   "execution_count": 97,
   "id": "18a0db0a-26ba-45fb-95d1-7a2d5cf91d6f",
   "metadata": {},
   "outputs": [
    {
     "name": "stdout",
     "output_type": "stream",
     "text": [
      "[(0, 0), (0, 1), (0, 2)]\n",
      "[(1, 0), (1, 1), (1, 2)]\n",
      "[(2, 0), (2, 1), (2, 2)]\n",
      "[(0, 0), (1, 0), (2, 0)]\n",
      "[(0, 1), (1, 1), (2, 1)]\n",
      "[(0, 2), (1, 2), (2, 2)]\n",
      "[(0, 0), (1, 1), (2, 2)]\n",
      "[(2, 0), (1, 1), (0, 2)]\n",
      "[[(0, 0), (0, 1), (0, 2)], [(1, 0), (1, 1), (1, 2)], [(2, 0), (2, 1), (2, 2)], [(0, 0), (1, 0), (2, 0)], [(0, 1), (1, 1), (2, 1)], [(0, 2), (1, 2), (2, 2)], [(0, 0), (1, 1), (2, 2)], [(2, 0), (1, 1), (0, 2)]]\n",
      "\n"
     ]
    }
   ],
   "source": [
    "WINNING_BOARDS = [\n",
    "    [\n",
    "        ['X', ' ', ' '],\n",
    "        ['X', ' ', ' '],\n",
    "        ['X', ' ', ' '],\n",
    "    ],\n",
    "    [\n",
    "        [' ', 'X', ' '],\n",
    "        [' ', 'X', ' '],\n",
    "        [' ', 'X', ' '],\n",
    "    ],\n",
    "    [\n",
    "        [' ', ' ', 'X'],\n",
    "        [' ', ' ', 'X'],\n",
    "        [' ', ' ', 'X'],\n",
    "    ],\n",
    "    [\n",
    "        ['X', 'X', 'X'],\n",
    "        [' ', ' ', ' '],\n",
    "        [' ', ' ', ' '],\n",
    "    ],\n",
    "    [\n",
    "        [' ', ' ', ' '],\n",
    "        ['X', 'X', 'X'],\n",
    "        [' ', ' ', ' '],\n",
    "    ],\n",
    "    [\n",
    "        [' ', ' ', ' '],\n",
    "        [' ', ' ', ' '],\n",
    "        ['X', 'X', 'X'],\n",
    "    ],\n",
    "    [\n",
    "        ['X', ' ', ' '],\n",
    "        [' ', 'X', ' '],\n",
    "        [' ', ' ', 'X'],\n",
    "    ],\n",
    "    [\n",
    "        [' ', ' ', 'X'],\n",
    "        [' ', 'X', ' '],\n",
    "        ['X', ' ', ' '],\n",
    "    ],\n",
    "]\n",
    "'''\n",
    "Input: winning boards\n",
    "Output: [\n",
    "    [(0,0), (0,1), (0,2)],\n",
    "    [(1,0), (1,1), (1,2)],\n",
    "    ...\n",
    "\n",
    "'''\n",
    "winning_coordinates = []\n",
    "for board in WINNING_BOARDS:\n",
    "    new_board = []\n",
    "    for row_num, row in enumerate(board):\n",
    "        for col_num, cell in enumerate(row):\n",
    "            if cell == 'X':\n",
    "                new_board.append((col_num, row_num))\n",
    "    print(new_board)\n",
    "    winning_coordinates.append(new_board)\n",
    "print(winning_coordinates)\n",
    "print()"
   ]
  }
 ],
 "metadata": {
  "kernelspec": {
   "display_name": "Python 3 (ipykernel)",
   "language": "python",
   "name": "python3"
  },
  "language_info": {
   "codemirror_mode": {
    "name": "ipython",
    "version": 3
   },
   "file_extension": ".py",
   "mimetype": "text/x-python",
   "name": "python",
   "nbconvert_exporter": "python",
   "pygments_lexer": "ipython3",
   "version": "3.10.12"
  }
 },
 "nbformat": 4,
 "nbformat_minor": 5
}
