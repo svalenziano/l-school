{
 "cells": [
  {
   "cell_type": "markdown",
   "id": "1a058f90-c45d-4d69-a04f-759a041da555",
   "metadata": {},
   "source": [
    "# Mutating a gobal list from within a function?"
   ]
  },
  {
   "cell_type": "code",
   "execution_count": 1,
   "id": "b6cc81d7-8c40-47ed-bd98-318b403b8fc8",
   "metadata": {},
   "outputs": [
    {
     "name": "stdout",
     "output_type": "stream",
     "text": [
      "[10, 2, 3]\n",
      "********************\n",
      "[6, 6, 6]\n",
      "[10, 2, 3]\n"
     ]
    }
   ],
   "source": [
    "b = [1 , 2, 3]\n",
    "\n",
    "def myfunc():\n",
    "    b[0] = 10\n",
    "\n",
    "myfunc()  # yep, works!\n",
    "print(b)\n",
    "print(\"*\"*20)\n",
    "\n",
    "# Don't think this'l work\n",
    "def myfunc2():\n",
    "    b = [6, 6, 6]\n",
    "    print(b)\n",
    "myfunc2()\n",
    "print(b)\n",
    "# ok good (phew)... also DUH - IT CREATES A NEW, TOTALLY UN-RELATED VARIABLE"
   ]
  }
 ],
 "metadata": {
  "kernelspec": {
   "display_name": "Python 3 (ipykernel)",
   "language": "python",
   "name": "python3"
  },
  "language_info": {
   "codemirror_mode": {
    "name": "ipython",
    "version": 3
   },
   "file_extension": ".py",
   "mimetype": "text/x-python",
   "name": "python",
   "nbconvert_exporter": "python",
   "pygments_lexer": "ipython3",
   "version": "3.10.12"
  }
 },
 "nbformat": 4,
 "nbformat_minor": 5
}
