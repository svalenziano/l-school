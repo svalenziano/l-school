{
 "cells": [
  {
   "cell_type": "markdown",
   "id": "1a058f90-c45d-4d69-a04f-759a041da555",
   "metadata": {},
   "source": [
    "# Mutating a gobal list from within a function?"
   ]
  },
  {
   "cell_type": "code",
   "execution_count": 1,
   "id": "b6cc81d7-8c40-47ed-bd98-318b403b8fc8",
   "metadata": {},
   "outputs": [
    {
     "name": "stdout",
     "output_type": "stream",
     "text": [
      "[10, 2, 3]\n",
      "********************\n",
      "[6, 6, 6]\n",
      "[10, 2, 3]\n"
     ]
    }
   ],
   "source": [
    "b = [1 , 2, 3]\n",
    "\n",
    "def myfunc():\n",
    "    b[0] = 10\n",
    "\n",
    "myfunc()  # yep, works!\n",
    "print(b)\n",
    "print(\"*\"*20)\n",
    "\n",
    "# Don't think this'l work\n",
    "def myfunc2():\n",
    "    b = [6, 6, 6]\n",
    "    print(b)\n",
    "myfunc2()\n",
    "print(b)\n",
    "# ok good (phew)... also DUH - IT CREATES A NEW, TOTALLY UN-RELATED VARIABLE"
   ]
  },
  {
   "cell_type": "markdown",
   "id": "226eaf27-15a3-4cf2-a4ed-29821bbff011",
   "metadata": {},
   "source": [
    "# Anki Flashcard sesh"
   ]
  },
  {
   "cell_type": "code",
   "execution_count": 4,
   "id": "712eb499-ac88-44c7-98a5-1b9d9fc2a4e3",
   "metadata": {},
   "outputs": [
    {
     "data": {
      "text/plain": [
       "3"
      ]
     },
     "execution_count": 4,
     "metadata": {},
     "output_type": "execute_result"
    }
   ],
   "source": [
    "fruits = [4,5,6,'steven', 1,2,3]\n",
    "fruits.index('steven') if 'steven' in fruits else -1"
   ]
  },
  {
   "cell_type": "code",
   "execution_count": 7,
   "id": "6c93306e-ed73-4cdf-ace7-d517795de137",
   "metadata": {},
   "outputs": [
    {
     "name": "stdout",
     "output_type": "stream",
     "text": [
      "None\n",
      "[1, 'abc123', 3, 1]\n",
      "abc123\n",
      "[1, 3, 1]\n"
     ]
    }
   ],
   "source": [
    "seq = [1,'abc123',3,1,66]\n",
    "\n",
    "print(seq.remove(66))  #removes the first instance found\n",
    "print(seq)\n",
    "\n",
    "print(seq.pop(1))  #removes and returns based on index\n",
    "print(seq)\n",
    "\n",
    "seq.clear()"
   ]
  },
  {
   "cell_type": "code",
   "execution_count": 12,
   "id": "a0d9fda7-f5e5-4172-b82f-72c5340bd84d",
   "metadata": {},
   "outputs": [
    {
     "name": "stdout",
     "output_type": "stream",
     "text": [
      "1\n"
     ]
    }
   ],
   "source": [
    "lst = [1,2,3,4,5]\n",
    "#lst = []\n",
    "\n",
    "print(lst[0] if lst else None)\n",
    "#lst[0]\n"
   ]
  },
  {
   "cell_type": "code",
   "execution_count": 20,
   "id": "78c14184-c3c7-4230-b85e-03ee3e1b1c30",
   "metadata": {},
   "outputs": [
    {
     "name": "stdout",
     "output_type": "stream",
     "text": [
      "[1, 2, 3, 4, 6, 7, 8, 9]\n",
      "[[1, 2, 3, 4], [6, 7, 8, 9]]\n"
     ]
    },
    {
     "ename": "TypeError",
     "evalue": "sum() takes at most 2 arguments (3 given)",
     "output_type": "error",
     "traceback": [
      "\u001b[0;31m---------------------------------------------------------------------------\u001b[0m",
      "\u001b[0;31mTypeError\u001b[0m                                 Traceback (most recent call last)",
      "Cell \u001b[0;32mIn[20], line 5\u001b[0m\n\u001b[1;32m      3\u001b[0m \u001b[38;5;28mprint\u001b[39m(\u001b[38;5;28msum\u001b[39m(a,[]))\n\u001b[1;32m      4\u001b[0m \u001b[38;5;28mprint\u001b[39m(\u001b[38;5;28msum\u001b[39m([],a))\n\u001b[0;32m----> 5\u001b[0m \u001b[38;5;28mprint\u001b[39m(\u001b[38;5;28;43msum\u001b[39;49m\u001b[43m(\u001b[49m\u001b[43m[\u001b[49m\u001b[43m]\u001b[49m\u001b[43m,\u001b[49m\u001b[43ma\u001b[49m\u001b[43m,\u001b[49m\u001b[43m[\u001b[49m\u001b[43m]\u001b[49m\u001b[43m)\u001b[49m)\n",
      "\u001b[0;31mTypeError\u001b[0m: sum() takes at most 2 arguments (3 given)"
     ]
    }
   ],
   "source": [
    "a = [[1,2,3,4,], [6,7,8,9]]\n",
    "\n",
    "print(sum(a,[]))\n",
    "print(sum([],a))\n",
    "print(sum([],a,[]))  #throws error\n",
    "\n"
   ]
  },
  {
   "cell_type": "code",
   "execution_count": 28,
   "id": "209e9573-75f4-40a3-b832-af3036635c13",
   "metadata": {},
   "outputs": [
    {
     "ename": "ValueError",
     "evalue": "invalid literal for int() with base 10: 'inf'",
     "output_type": "error",
     "traceback": [
      "\u001b[0;31m---------------------------------------------------------------------------\u001b[0m",
      "\u001b[0;31mValueError\u001b[0m                                Traceback (most recent call last)",
      "Cell \u001b[0;32mIn[28], line 1\u001b[0m\n\u001b[0;32m----> 1\u001b[0m x \u001b[38;5;241m=\u001b[39m \u001b[38;5;28;43mint\u001b[39;49m\u001b[43m(\u001b[49m\u001b[38;5;124;43m'\u001b[39;49m\u001b[38;5;124;43minf\u001b[39;49m\u001b[38;5;124;43m'\u001b[39;49m\u001b[43m)\u001b[49m \u001b[38;5;241m*\u001b[39m \u001b[38;5;241m-\u001b[39m\u001b[38;5;241m1\u001b[39m\n\u001b[1;32m      2\u001b[0m \u001b[38;5;28mprint\u001b[39m(x)\n",
      "\u001b[0;31mValueError\u001b[0m: invalid literal for int() with base 10: 'inf'"
     ]
    }
   ],
   "source": [
    "x = float('inf') * -1\n",
    "print(x)"
   ]
  }
 ],
 "metadata": {
  "kernelspec": {
   "display_name": "Python 3 (ipykernel)",
   "language": "python",
   "name": "python3"
  },
  "language_info": {
   "codemirror_mode": {
    "name": "ipython",
    "version": 3
   },
   "file_extension": ".py",
   "mimetype": "text/x-python",
   "name": "python",
   "nbconvert_exporter": "python",
   "pygments_lexer": "ipython3",
   "version": "3.10.12"
  }
 },
 "nbformat": 4,
 "nbformat_minor": 5
}
