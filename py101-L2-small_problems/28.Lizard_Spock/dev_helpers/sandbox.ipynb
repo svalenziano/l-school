{
 "cells": [
  {
   "cell_type": "markdown",
   "id": "86bde90a-9ecd-4d0b-bf31-84ccf4065782",
   "metadata": {},
   "source": [
    "DOESN'T WORK: 'or' statement within case"
   ]
  },
  {
   "cell_type": "code",
   "execution_count": 1,
   "id": "c6920941-6f75-4e33-9c91-f8e8bc4d8fc8",
   "metadata": {},
   "outputs": [
    {
     "ename": "SyntaxError",
     "evalue": "invalid syntax (3115453198.py, line 4)",
     "output_type": "error",
     "traceback": [
      "\u001b[0;36m  Cell \u001b[0;32mIn[1], line 4\u001b[0;36m\u001b[0m\n\u001b[0;31m    case ('scissors', 'paper' or 'lizard'):\u001b[0m\n\u001b[0m                              ^\u001b[0m\n\u001b[0;31mSyntaxError\u001b[0m\u001b[0;31m:\u001b[0m invalid syntax\n"
     ]
    }
   ],
   "source": [
    "def print_winner(human_choice, computer_choice):\n",
    "    match (human_choice, computer_choice):\n",
    "        # scissors cuts paper, decapitates lizard\n",
    "        case ('scissors', 'paper' or 'lizard'):\n",
    "            print('You Win!')\n"
   ]
  },
  {
   "cell_type": "markdown",
   "id": "0530d53a-1b65-4f9b-a8a3-87c494c430cd",
   "metadata": {},
   "source": [
    "What about creating a tuple with the human and computer choices and comparing them to winning tuples?\n",
    "\n",
    "- Tie: hands are equal\n",
    "- Winning: *in* winning hands\n",
    "- Lose: everything else"
   ]
  },
  {
   "cell_type": "code",
   "execution_count": 55,
   "id": "aa9d25ba-d5dd-400d-9a45-1734d2275c7c",
   "metadata": {},
   "outputs": [
    {
     "name": "stdout",
     "output_type": "stream",
     "text": [
      "('rock', 'scissors')\n",
      "Human Wins\n"
     ]
    }
   ],
   "source": [
    "import random\n",
    "\n",
    "WINNING_HANDS = [\n",
    "    # scissors cuts paper, decapitates lizard\n",
    "    ('scissors', 'paper'), ('scissors', 'lizard'),\n",
    "    # paper covers rock, disproves spock\n",
    "    ('paper', 'rock'), ('paper', 'spock'),\n",
    "    # rock crushes lizard, crushes scissors\n",
    "    ('rock', 'lizard'), ('rock', 'scissors'),\n",
    "    # lizard poisons spock, eats Paper\n",
    "    ('lizard', 'spock'), ('lizard', 'paper'),\n",
    "    # spock smashes scissors, vaporizes rock\n",
    "    ('spock', 'scissors'), ('spock', 'rock'),\n",
    "    ]\n",
    "\n",
    "human_choice = 'rock'\n",
    "computer_choice = random.choice(['rock', 'paper', 'scissors',\n",
    "                                 'lizard','spock'])\n",
    "\n",
    "choice_tuple = (human_choice, computer_choice)\n",
    "print(choice_tuple)\n",
    "\n",
    "def return_winner(human_choice, computer_choice):\n",
    "    if human_choice == computer_choice:\n",
    "        return 'Tie'\n",
    "    elif (human_choice, computer_choice) in WINNING_HANDS:\n",
    "        return 'Human Wins'\n",
    "    else:\n",
    "        return 'Computer Wins'\n",
    "\n",
    "print(return_winner(human_choice, computer_choice))\n",
    "                                "
   ]
  },
  {
   "cell_type": "markdown",
   "id": "70774614-6d06-45c7-b936-3c7eb15bd4b9",
   "metadata": {},
   "source": [
    "# Understanding the LS solution"
   ]
  },
  {
   "cell_type": "code",
   "execution_count": 74,
   "id": "3fab4d82-bfbb-4806-897b-e1b373aba10b",
   "metadata": {},
   "outputs": [
    {
     "name": "stdout",
     "output_type": "stream",
     "text": [
      "scissors rock\n",
      "False\n"
     ]
    }
   ],
   "source": [
    "WINNING_COMBOS = {\n",
    "    'rock':     ['scissors', 'lizard'],\n",
    "    'paper':    ['rock',     'spock'],\n",
    "    'scissors': ['paper',    'lizard'],\n",
    "    'lizard':   ['paper',    'spock'],\n",
    "    'spock':    ['rock',     'scissors'],\n",
    "}\n",
    "\n",
    "\n",
    "\n",
    "def player_wins(player_choice, computer_choice):\n",
    "    return computer_choice in WINNING_COMBOS[player_choice]\n",
    "\n",
    "player_choice = random.choice(['rock', 'paper', 'scissors',\n",
    "                                 'lizard','spock'])\n",
    "\n",
    "computer_choice = random.choice(['rock', 'paper', 'scissors',\n",
    "                                 'lizard','spock'])\n",
    "\n",
    "print(player_choice, computer_choice)\n",
    "print(player_wins(player_choice, computer_choice))"
   ]
  }
 ],
 "metadata": {
  "kernelspec": {
   "display_name": "Python 3 (ipykernel)",
   "language": "python",
   "name": "python3"
  },
  "language_info": {
   "codemirror_mode": {
    "name": "ipython",
    "version": 3
   },
   "file_extension": ".py",
   "mimetype": "text/x-python",
   "name": "python",
   "nbconvert_exporter": "python",
   "pygments_lexer": "ipython3",
   "version": "3.10.12"
  }
 },
 "nbformat": 4,
 "nbformat_minor": 5
}
