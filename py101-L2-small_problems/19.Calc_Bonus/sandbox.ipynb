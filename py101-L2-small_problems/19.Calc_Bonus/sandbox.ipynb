{
 "cells": [
  {
   "cell_type": "markdown",
   "id": "d96dbf46-20e3-4316-9c25-e120b2d3d864",
   "metadata": {},
   "source": [
    "# JSON Testing"
   ]
  },
  {
   "cell_type": "code",
   "execution_count": 10,
   "id": "834e84d8-5b34-4526-a9fd-c1472492ff39",
   "metadata": {},
   "outputs": [
    {
     "name": "stdout",
     "output_type": "stream",
     "text": [
      "{'first': \"What's the first number?\", 'second': \"What's the second number?\", 'invalid_no': \"Hmmm... that doesn't look like a valid number\", 'operation': 'What operation would you like to perform?'}\n",
      "\n",
      "dict_keys(['first', 'second', 'invalid_no', 'operation'])\n",
      "\n",
      "dict_values([\"What's the first number?\", \"What's the second number?\", \"Hmmm... that doesn't look like a valid number\", 'What operation would you like to perform?'])\n",
      "\n",
      "dict_items([('first', \"What's the first number?\"), ('second', \"What's the second number?\"), ('invalid_no', \"Hmmm... that doesn't look like a valid number\"), ('operation', 'What operation would you like to perform?')])\n",
      "\n",
      "What's the first number?\n"
     ]
    }
   ],
   "source": [
    "import json\n",
    "\n",
    "with open('2.json' , 'r') as file:\n",
    "    data = json.load(file)\n",
    "\n",
    "print(data)\n",
    "print()\n",
    "print(data.keys())\n",
    "print()\n",
    "print(data.values())\n",
    "print()\n",
    "print(data.items())\n",
    "print()\n",
    "print(data.get('first'))"
   ]
  },
  {
   "cell_type": "markdown",
   "id": "e42799e4-6a10-4f42-a409-6bc84a8606fd",
   "metadata": {},
   "source": [
    "# Truthy and Falsy sandbox"
   ]
  },
  {
   "cell_type": "code",
   "execution_count": 13,
   "id": "17eb8eed-5c54-4d05-9a71-6421c9a1b8b5",
   "metadata": {},
   "outputs": [
    {
     "name": "stdout",
     "output_type": "stream",
     "text": [
      "Truthy\n",
      "Fasly\n"
     ]
    }
   ],
   "source": [
    "x = -1\n",
    "if x:\n",
    "    print('Truthy')\n",
    "\n",
    "x = 0\n",
    "if not x:\n",
    "    print('Fasly')"
   ]
  },
  {
   "cell_type": "code",
   "execution_count": 20,
   "id": "6a9ddec7-b59e-4e7a-8323-255b5ae2dc21",
   "metadata": {},
   "outputs": [
    {
     "name": "stdout",
     "output_type": "stream",
     "text": [
      "Steven is a person, dangit\n"
     ]
    }
   ],
   "source": [
    "fruits = [1,2,3, 'banana', 'steven']\n",
    "x = (fruits.index('steven') if ('steven' in fruits) else None)\n",
    "\n",
    "if x:\n",
    "    print(\"Steven is a person, dangit\")\n",
    "else:\n",
    "    print(\"Sally forth\")\n",
    "\n",
    "          "
   ]
  },
  {
   "cell_type": "markdown",
   "id": "e343a444-4b2b-446c-b2b5-9ac306f9b5b5",
   "metadata": {},
   "source": [
    "# Lazy sequences"
   ]
  },
  {
   "cell_type": "code",
   "execution_count": 23,
   "id": "54cf37d5-02e8-4607-ab1b-c651a85d18df",
   "metadata": {},
   "outputs": [
    {
     "name": "stdout",
     "output_type": "stream",
     "text": [
      "range(0, 10)\n",
      "range(0, 10, 2)\n",
      "[0, 2, 4, 6, 8]\n"
     ]
    }
   ],
   "source": [
    "x = range(0,10,1)\n",
    "print(x)\n",
    "x = range(0,10,2)\n",
    "print(x)\n",
    "print(list(x))"
   ]
  },
  {
   "cell_type": "markdown",
   "id": "6f175316-06ed-4101-807e-49055fa999f9",
   "metadata": {},
   "source": [
    "# Broken method chain?"
   ]
  },
  {
   "cell_type": "code",
   "execution_count": 26,
   "id": "cbcf7a98-8615-46f0-b1aa-e0a6fe7f6576",
   "metadata": {},
   "outputs": [
    {
     "ename": "TypeError",
     "evalue": "str.join() takes exactly one argument (0 given)",
     "output_type": "error",
     "traceback": [
      "\u001b[0;31m---------------------------------------------------------------------------\u001b[0m",
      "\u001b[0;31mTypeError\u001b[0m                                 Traceback (most recent call last)",
      "Cell \u001b[0;32mIn[26], line 2\u001b[0m\n\u001b[1;32m      1\u001b[0m \u001b[38;5;124m'\u001b[39m\u001b[38;5;124mstRIng\u001b[39m\u001b[38;5;124m'\u001b[39m\u001b[38;5;241m.\u001b[39mcapitalize()\u001b[38;5;241m.\u001b[39mcasefold()\n\u001b[0;32m----> 2\u001b[0m result \u001b[38;5;241m=\u001b[39m \u001b[38;5;124;43m'\u001b[39;49m\u001b[38;5;124;43mthis is a string\u001b[39;49m\u001b[38;5;124;43m'\u001b[39;49m\u001b[38;5;241;43m.\u001b[39;49m\u001b[43mreplace\u001b[49m\u001b[43m(\u001b[49m\u001b[38;5;124;43m'\u001b[39;49m\u001b[38;5;124;43m \u001b[39;49m\u001b[38;5;124;43m'\u001b[39;49m\u001b[43m,\u001b[49m\u001b[43m \u001b[49m\u001b[38;5;124;43m'\u001b[39;49m\u001b[38;5;124;43m-\u001b[39;49m\u001b[38;5;124;43m'\u001b[39;49m\u001b[43m)\u001b[49m\u001b[38;5;241;43m.\u001b[39;49m\u001b[43mjoin\u001b[49m\u001b[43m(\u001b[49m\u001b[43m)\u001b[49m\u001b[38;5;241m.\u001b[39mtitle()\n",
      "\u001b[0;31mTypeError\u001b[0m: str.join() takes exactly one argument (0 given)"
     ]
    }
   ],
   "source": [
    "'stRIng'.capitalize().casefold()\n",
    "result = 'this is a string'.replace(' ', '-').join().title()"
   ]
  },
  {
   "cell_type": "code",
   "execution_count": 27,
   "id": "1cec2052-cbfd-4e3d-b2a4-be333ec8abb8",
   "metadata": {},
   "outputs": [
    {
     "ename": "AttributeError",
     "evalue": "'list' object has no attribute 'replace'",
     "output_type": "error",
     "traceback": [
      "\u001b[0;31m---------------------------------------------------------------------------\u001b[0m",
      "\u001b[0;31mAttributeError\u001b[0m                            Traceback (most recent call last)",
      "Cell \u001b[0;32mIn[27], line 1\u001b[0m\n\u001b[0;32m----> 1\u001b[0m result \u001b[38;5;241m=\u001b[39m \u001b[38;5;124;43m'\u001b[39;49m\u001b[38;5;124;43mthis is a string\u001b[39;49m\u001b[38;5;124;43m'\u001b[39;49m\u001b[38;5;241;43m.\u001b[39;49m\u001b[43msplit\u001b[49m\u001b[43m(\u001b[49m\u001b[43m)\u001b[49m\u001b[38;5;241;43m.\u001b[39;49m\u001b[43mreplace\u001b[49m(\u001b[38;5;124m'\u001b[39m\u001b[38;5;124m \u001b[39m\u001b[38;5;124m'\u001b[39m, \u001b[38;5;124m'\u001b[39m\u001b[38;5;124m_\u001b[39m\u001b[38;5;124m'\u001b[39m)\u001b[38;5;241m.\u001b[39mjoin(\u001b[38;5;124m'\u001b[39m\u001b[38;5;124m-\u001b[39m\u001b[38;5;124m'\u001b[39m)\n",
      "\u001b[0;31mAttributeError\u001b[0m: 'list' object has no attribute 'replace'"
     ]
    }
   ],
   "source": [
    "result = 'this is a string'.split().replace(' ', '_').join('-')"
   ]
  },
  {
   "cell_type": "markdown",
   "id": "4f0a0eb6-2428-4386-ba0b-53e502a012ce",
   "metadata": {},
   "source": [
    "# Empty lists?"
   ]
  },
  {
   "cell_type": "code",
   "execution_count": 32,
   "id": "82fa4281-c991-4ee1-86ae-9d92b361f147",
   "metadata": {},
   "outputs": [
    {
     "name": "stdout",
     "output_type": "stream",
     "text": [
      "None\n",
      "1\n"
     ]
    }
   ],
   "source": [
    "x = []\n",
    "y = [1 , 2, 3]\n",
    "# print(x[0])   # Throws IndexError\n",
    "def first(lst):\n",
    "    return lst[0] if lst else None\n",
    "\n",
    "print(first(x))\n",
    "print(first(y))"
   ]
  },
  {
   "cell_type": "code",
   "execution_count": 44,
   "id": "cd464137-d4d9-4668-a1cd-db133fee847c",
   "metadata": {},
   "outputs": [
    {
     "name": "stdout",
     "output_type": "stream",
     "text": [
      "1\n",
      "None\n",
      "None\n"
     ]
    }
   ],
   "source": [
    "# Adding some more data validation\n",
    "\n",
    "def first(lst):\n",
    "    if lst and type(lst)==list:\n",
    "        return lst[0]\n",
    "\n",
    "x = [1,2,3,4]\n",
    "print(first(x))\n",
    "x = []\n",
    "print(first(x))\n",
    "x = 5\n",
    "print(first(x))"
   ]
  },
  {
   "cell_type": "markdown",
   "id": "95b94127-d64e-4ae2-9c5e-45a4e7974c2d",
   "metadata": {},
   "source": [
    "# Flatening a nested list"
   ]
  },
  {
   "cell_type": "code",
   "execution_count": 38,
   "id": "4e762ce5-bfff-4b2a-bd0c-167d6b89da7e",
   "metadata": {},
   "outputs": [
    {
     "name": "stdout",
     "output_type": "stream",
     "text": [
      "[1, 2, 3, 'x', 'y', 'z', 'steven', 'billybob']\n"
     ]
    }
   ],
   "source": [
    "x = [[1, 2, 3] , ['x', 'y', 'z'], ['steven', 'billybob']]\n",
    "\n",
    "print(sum(x, [])) # This works\n",
    "\n",
    "# print(sum(x)) # This doesn't work"
   ]
  },
  {
   "cell_type": "code",
   "execution_count": null,
   "id": "038156a8-eeac-4f44-9cbd-33f0b6f0f940",
   "metadata": {},
   "outputs": [],
   "source": [
    "match (<var name>, <var name 2>):\n",
    "    case (<value>, <var 2 value>):\n",
    "        # logic\n",
    "    case <value2>:\n",
    "        # logic\n",
    "    case _: # all other cases\n",
    "        # "
   ]
  },
  {
   "cell_type": "markdown",
   "id": "0871a291-d767-4414-837e-d4b619405001",
   "metadata": {},
   "source": [
    "# Check if a variable is a list or tuple"
   ]
  },
  {
   "cell_type": "code",
   "execution_count": 61,
   "id": "2bfa7762-9291-4a51-8b7b-4e0cb59906d1",
   "metadata": {},
   "outputs": [
    {
     "name": "stdout",
     "output_type": "stream",
     "text": [
      "39\n",
      "(39, 36, 33, 30, 27, 24, 21, 18, 15, 12, 9, 6, 3, 0)\n",
      "()\n"
     ]
    }
   ],
   "source": [
    "x = [1, 2, 3, 4,]\n",
    "x = tuple(range(0,40,3))\n",
    "# x = {1,2,3,4}\n",
    "\n",
    "if isinstance(x, (list, tuple)):\n",
    "    print(x[-1])\n",
    "    print(x[: : -1])\n",
    "    print(x[0:-1:-1])\n",
    "else:\n",
    "    print(\"Oh my\")\n",
    "\n"
   ]
  },
  {
   "cell_type": "markdown",
   "id": "a6606b11-a7f4-4f17-bdcd-097816ad08c4",
   "metadata": {},
   "source": [
    "# Reversing a string"
   ]
  },
  {
   "cell_type": "code",
   "execution_count": 62,
   "id": "265d9bd1-9c2f-4bea-8bc8-9f5c2300ae8f",
   "metadata": {},
   "outputs": [
    {
     "name": "stdout",
     "output_type": "stream",
     "text": [
      "olleh\n"
     ]
    }
   ],
   "source": [
    "s = 'hello'\n",
    "print(s[::-1])"
   ]
  },
  {
   "cell_type": "markdown",
   "id": "c44637a1-2e59-405f-95bf-56de1b1f0dce",
   "metadata": {},
   "source": [
    "# Remove elements from dictionary"
   ]
  },
  {
   "cell_type": "code",
   "execution_count": 84,
   "id": "dbed984c-69ab-41f5-94d9-ebe803f90f18",
   "metadata": {},
   "outputs": [
    {
     "name": "stdout",
     "output_type": "stream",
     "text": [
      "('first', \"What's the first number?\")\n",
      "('second', \"What's the second number?\")\n",
      "('invalid_no', \"Hmmm... that doesn't look like a valid number\")\n",
      "('operation', 'What operation would you like to perform?\\n 1) Add 2) Subtract 3) Multiply 4) Divide')\n",
      "('div_by_zero', 'Dividing by zero!?!? How dare you! Try again.')\n",
      "\n",
      "('second', \"What's the second number?\")\n",
      "('invalid_no', \"Hmmm... that doesn't look like a valid number\")\n",
      "('operation', 'What operation would you like to perform?\\n 1) Add 2) Subtract 3) Multiply 4) Divide')\n",
      "('div_by_zero', 'Dividing by zero!?!? How dare you! Try again.')\n",
      "\n",
      "('invalid_no', \"Hmmm... that doesn't look like a valid number\")\n",
      "('operation', 'What operation would you like to perform?\\n 1) Add 2) Subtract 3) Multiply 4) Divide')\n",
      "('div_by_zero', 'Dividing by zero!?!? How dare you! Try again.')\n",
      "\n"
     ]
    },
    {
     "ename": "NameError",
     "evalue": "name 'data' is not defined",
     "output_type": "error",
     "traceback": [
      "\u001b[0;31m---------------------------------------------------------------------------\u001b[0m",
      "\u001b[0;31mNameError\u001b[0m                                 Traceback (most recent call last)",
      "Cell \u001b[0;32mIn[84], line 20\u001b[0m\n\u001b[1;32m     17\u001b[0m print_dict(data)\n\u001b[1;32m     19\u001b[0m \u001b[38;5;28;01mdel\u001b[39;00m data     \u001b[38;5;66;03m# deletes the object from the namespace\u001b[39;00m\n\u001b[0;32m---> 20\u001b[0m \u001b[38;5;28mprint\u001b[39m(\u001b[43mdata\u001b[49m)\n",
      "\u001b[0;31mNameError\u001b[0m: name 'data' is not defined"
     ]
    }
   ],
   "source": [
    "import json\n",
    "\n",
    "with open('2.json', 'r') as file:\n",
    "    data = json.load(file)\n",
    "\n",
    "def print_dict(mydict):\n",
    "    for i in mydict.items():\n",
    "        print(i)\n",
    "    print()\n",
    "\n",
    "print_dict(data)\n",
    "\n",
    "data.pop('first')\n",
    "print_dict(data)\n",
    "\n",
    "del data['second']\n",
    "print_dict(data)\n",
    "\n",
    "del data     # deletes the object from the namespace\n",
    "print(data)  # raises NameError"
   ]
  },
  {
   "cell_type": "markdown",
   "id": "59878152-d616-44ee-a1ba-2631abe67c79",
   "metadata": {},
   "source": [
    "# Access nested JSON"
   ]
  },
  {
   "cell_type": "code",
   "execution_count": 87,
   "id": "d72e56ec-7c8e-4351-8668-30ceb244650d",
   "metadata": {},
   "outputs": [
    {
     "name": "stdout",
     "output_type": "stream",
     "text": [
      "What's the first number?\n",
      "Cual es el nombre principa?\n"
     ]
    }
   ],
   "source": [
    "import json\n",
    "\n",
    "with open('3.json', 'r') as file:\n",
    "    MSG = json.load(file)   # MSG = short for MESSAGES\n",
    "\n",
    "print(MSG['first']['en'])\n",
    "print(MSG['first']['es'])"
   ]
  }
 ],
 "metadata": {
  "kernelspec": {
   "display_name": "Python 3 (ipykernel)",
   "language": "python",
   "name": "python3"
  },
  "language_info": {
   "codemirror_mode": {
    "name": "ipython",
    "version": 3
   },
   "file_extension": ".py",
   "mimetype": "text/x-python",
   "name": "python",
   "nbconvert_exporter": "python",
   "pygments_lexer": "ipython3",
   "version": "3.10.12"
  }
 },
 "nbformat": 4,
 "nbformat_minor": 5
}
