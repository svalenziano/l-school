{
 "cells": [
  {
   "cell_type": "code",
   "execution_count": 10,
   "id": "834e84d8-5b34-4526-a9fd-c1472492ff39",
   "metadata": {},
   "outputs": [
    {
     "name": "stdout",
     "output_type": "stream",
     "text": [
      "{'first': \"What's the first number?\", 'second': \"What's the second number?\", 'invalid_no': \"Hmmm... that doesn't look like a valid number\", 'operation': 'What operation would you like to perform?'}\n",
      "\n",
      "dict_keys(['first', 'second', 'invalid_no', 'operation'])\n",
      "\n",
      "dict_values([\"What's the first number?\", \"What's the second number?\", \"Hmmm... that doesn't look like a valid number\", 'What operation would you like to perform?'])\n",
      "\n",
      "dict_items([('first', \"What's the first number?\"), ('second', \"What's the second number?\"), ('invalid_no', \"Hmmm... that doesn't look like a valid number\"), ('operation', 'What operation would you like to perform?')])\n",
      "\n",
      "What's the first number?\n"
     ]
    }
   ],
   "source": [
    "import json\n",
    "\n",
    "with open('2.json' , 'r') as file:\n",
    "    data = json.load(file)\n",
    "\n",
    "print(data)\n",
    "print()\n",
    "print(data.keys())\n",
    "print()\n",
    "print(data.values())\n",
    "print()\n",
    "print(data.items())\n",
    "print()\n",
    "print(data.get('first'))"
   ]
  },
  {
   "cell_type": "code",
   "execution_count": null,
   "id": "7de69d61-fa5d-4686-b15f-50c31cc4bb07",
   "metadata": {},
   "outputs": [],
   "source": []
  }
 ],
 "metadata": {
  "kernelspec": {
   "display_name": "Python 3 (ipykernel)",
   "language": "python",
   "name": "python3"
  },
  "language_info": {
   "codemirror_mode": {
    "name": "ipython",
    "version": 3
   },
   "file_extension": ".py",
   "mimetype": "text/x-python",
   "name": "python",
   "nbconvert_exporter": "python",
   "pygments_lexer": "ipython3",
   "version": "3.10.12"
  }
 },
 "nbformat": 4,
 "nbformat_minor": 5
}
