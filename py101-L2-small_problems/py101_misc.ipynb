{
 "cells": [
  {
   "cell_type": "markdown",
   "id": "1a058f90-c45d-4d69-a04f-759a041da555",
   "metadata": {},
   "source": [
    "# Mutating a gobal list from within a function?"
   ]
  },
  {
   "cell_type": "code",
   "execution_count": 1,
   "id": "b6cc81d7-8c40-47ed-bd98-318b403b8fc8",
   "metadata": {},
   "outputs": [
    {
     "name": "stdout",
     "output_type": "stream",
     "text": [
      "[10, 2, 3]\n",
      "********************\n",
      "[6, 6, 6]\n",
      "[10, 2, 3]\n"
     ]
    }
   ],
   "source": [
    "b = [1 , 2, 3]\n",
    "\n",
    "def myfunc():\n",
    "    b[0] = 10\n",
    "\n",
    "myfunc()  # yep, works!\n",
    "print(b)\n",
    "print(\"*\"*20)\n",
    "\n",
    "# Don't think this'l work\n",
    "def myfunc2():\n",
    "    b = [6, 6, 6]\n",
    "    print(b)\n",
    "myfunc2()\n",
    "print(b)\n",
    "# ok good (phew)... also DUH - IT CREATES A NEW, TOTALLY UN-RELATED VARIABLE"
   ]
  },
  {
   "cell_type": "markdown",
   "id": "5d654114-8dc6-48bb-a6b8-a5ebb160755f",
   "metadata": {},
   "source": [
    "# Variables as pointers"
   ]
  },
  {
   "cell_type": "code",
   "execution_count": 14,
   "id": "5c2f0c51-4e69-4d41-9935-e7b370322734",
   "metadata": {},
   "outputs": [
    {
     "name": "stdout",
     "output_type": "stream",
     "text": [
      "[1, 2, 3, 4, 5, 234576, 214353]\n",
      "140225582658112\n",
      "140225582658112\n",
      "[2, 3, 4, 5, 234576, 214353]\n",
      "[1, 2, 3, 4, 5, 234576, 214353]\n",
      "140225582645760\n",
      "140225582645760\n",
      "140225582645760\n",
      "140225582645760\n",
      "[2, 3, 4, 5, 234576, 214353]\n",
      "[2, 3, 4, 5, 234576, 214353]\n",
      "True\n"
     ]
    }
   ],
   "source": [
    "# INTENT\n",
    "# This code intends to test one of the options in Question 14 of Launch School's\n",
    "# PY101.2.Quiz1: \n",
    "# \"Using a function that modifies a mutable object refers the variable to a different memory location.\n",
    "\n",
    "\n",
    "# EXPERIMENT 1\n",
    "# If I modify a mutable object with a function, \n",
    "# will my variable now point to a different location in memory?\n",
    "# I don't think so.  I think it will still refer to the same location,\n",
    "# but the variable at that location will be different.\n",
    "# Let's see...\n",
    "\n",
    "def mod_x():\n",
    "    global x\n",
    "    x.pop(0)\n",
    "\n",
    "x = [1,2,3,4,5,234576,214353]\n",
    "\n",
    "print(x)\n",
    "print(id(x))\n",
    "mod_x()\n",
    "print(id(x))\n",
    "print(x)\n",
    "\n",
    "\n",
    "# EXPERIMENT 2\n",
    "# What if I create a new variable without copy.deepcopy?\n",
    "# I expect that it will still point to the same object.\n",
    "\n",
    "def mod_y():\n",
    "    global y\n",
    "    y.pop(0)\n",
    "\n",
    "x = [1,2,3,4,5,234576,214353]\n",
    "y = x\n",
    "\n",
    "print(x)\n",
    "print(id(x))\n",
    "print(id(y))\n",
    "mod_y()\n",
    "print(id(x))\n",
    "print(id(y))\n",
    "print(x)\n",
    "print(y)\n",
    "print(x is y)"
   ]
  },
  {
   "cell_type": "code",
   "execution_count": 11,
   "id": "accc2397-9a90-4af0-bacb-f4202ec2d681",
   "metadata": {},
   "outputs": [
    {
     "name": "stdout",
     "output_type": "stream",
     "text": [
      "[1, 2, 3, 4, 5, 234576, 214353]\n",
      "140225582680384\n",
      "140225582680384\n",
      "140225582680384\n",
      "140225582680384\n",
      "[2, 3, 4, 5, 234576, 214353]\n",
      "[2, 3, 4, 5, 234576, 214353]\n",
      "True\n"
     ]
    }
   ],
   "source": []
  },
  {
   "cell_type": "markdown",
   "id": "226eaf27-15a3-4cf2-a4ed-29821bbff011",
   "metadata": {},
   "source": [
    "# Anki Flashcard scratchpad"
   ]
  },
  {
   "cell_type": "code",
   "execution_count": 4,
   "id": "712eb499-ac88-44c7-98a5-1b9d9fc2a4e3",
   "metadata": {},
   "outputs": [
    {
     "data": {
      "text/plain": [
       "3"
      ]
     },
     "execution_count": 4,
     "metadata": {},
     "output_type": "execute_result"
    }
   ],
   "source": [
    "fruits = [4,5,6,'steven', 1,2,3]\n",
    "fruits.index('steven') if 'steven' in fruits else -1"
   ]
  },
  {
   "cell_type": "code",
   "execution_count": 7,
   "id": "6c93306e-ed73-4cdf-ace7-d517795de137",
   "metadata": {},
   "outputs": [
    {
     "name": "stdout",
     "output_type": "stream",
     "text": [
      "None\n",
      "[1, 'abc123', 3, 1]\n",
      "abc123\n",
      "[1, 3, 1]\n"
     ]
    }
   ],
   "source": [
    "seq = [1,'abc123',3,1,66]\n",
    "\n",
    "print(seq.remove(66))  #removes the first instance found\n",
    "print(seq)\n",
    "\n",
    "print(seq.pop(1))  #removes and returns based on index\n",
    "print(seq)\n",
    "\n",
    "seq.clear()"
   ]
  },
  {
   "cell_type": "code",
   "execution_count": 12,
   "id": "a0d9fda7-f5e5-4172-b82f-72c5340bd84d",
   "metadata": {},
   "outputs": [
    {
     "name": "stdout",
     "output_type": "stream",
     "text": [
      "1\n"
     ]
    }
   ],
   "source": [
    "lst = [1,2,3,4,5]\n",
    "#lst = []\n",
    "\n",
    "print(lst[0] if lst else None)\n",
    "#lst[0]\n"
   ]
  },
  {
   "cell_type": "code",
   "execution_count": 20,
   "id": "78c14184-c3c7-4230-b85e-03ee3e1b1c30",
   "metadata": {},
   "outputs": [
    {
     "name": "stdout",
     "output_type": "stream",
     "text": [
      "[1, 2, 3, 4, 6, 7, 8, 9]\n",
      "[[1, 2, 3, 4], [6, 7, 8, 9]]\n"
     ]
    },
    {
     "ename": "TypeError",
     "evalue": "sum() takes at most 2 arguments (3 given)",
     "output_type": "error",
     "traceback": [
      "\u001b[0;31m---------------------------------------------------------------------------\u001b[0m",
      "\u001b[0;31mTypeError\u001b[0m                                 Traceback (most recent call last)",
      "Cell \u001b[0;32mIn[20], line 5\u001b[0m\n\u001b[1;32m      3\u001b[0m \u001b[38;5;28mprint\u001b[39m(\u001b[38;5;28msum\u001b[39m(a,[]))\n\u001b[1;32m      4\u001b[0m \u001b[38;5;28mprint\u001b[39m(\u001b[38;5;28msum\u001b[39m([],a))\n\u001b[0;32m----> 5\u001b[0m \u001b[38;5;28mprint\u001b[39m(\u001b[38;5;28;43msum\u001b[39;49m\u001b[43m(\u001b[49m\u001b[43m[\u001b[49m\u001b[43m]\u001b[49m\u001b[43m,\u001b[49m\u001b[43ma\u001b[49m\u001b[43m,\u001b[49m\u001b[43m[\u001b[49m\u001b[43m]\u001b[49m\u001b[43m)\u001b[49m)\n",
      "\u001b[0;31mTypeError\u001b[0m: sum() takes at most 2 arguments (3 given)"
     ]
    }
   ],
   "source": [
    "a = [[1,2,3,4,], [6,7,8,9]]\n",
    "\n",
    "print(sum(a,[]))\n",
    "print(sum([],a))\n",
    "print(sum([],a,[]))  #throws error\n",
    "\n"
   ]
  },
  {
   "cell_type": "code",
   "execution_count": 28,
   "id": "209e9573-75f4-40a3-b832-af3036635c13",
   "metadata": {},
   "outputs": [
    {
     "ename": "ValueError",
     "evalue": "invalid literal for int() with base 10: 'inf'",
     "output_type": "error",
     "traceback": [
      "\u001b[0;31m---------------------------------------------------------------------------\u001b[0m",
      "\u001b[0;31mValueError\u001b[0m                                Traceback (most recent call last)",
      "Cell \u001b[0;32mIn[28], line 1\u001b[0m\n\u001b[0;32m----> 1\u001b[0m x \u001b[38;5;241m=\u001b[39m \u001b[38;5;28;43mint\u001b[39;49m\u001b[43m(\u001b[49m\u001b[38;5;124;43m'\u001b[39;49m\u001b[38;5;124;43minf\u001b[39;49m\u001b[38;5;124;43m'\u001b[39;49m\u001b[43m)\u001b[49m \u001b[38;5;241m*\u001b[39m \u001b[38;5;241m-\u001b[39m\u001b[38;5;241m1\u001b[39m\n\u001b[1;32m      2\u001b[0m \u001b[38;5;28mprint\u001b[39m(x)\n",
      "\u001b[0;31mValueError\u001b[0m: invalid literal for int() with base 10: 'inf'"
     ]
    }
   ],
   "source": [
    "x = float('inf') * -1\n",
    "print(x)"
   ]
  },
  {
   "cell_type": "code",
   "execution_count": 4,
   "id": "9dae28cf-5089-4563-bd03-777ceb290d5f",
   "metadata": {},
   "outputs": [
    {
     "name": "stdout",
     "output_type": "stream",
     "text": [
      "Done\n",
      "['In', 'Out', 'bar', 'exit', 'foo', 'names', 'open', 'quit', 'short', 'yam']\n"
     ]
    }
   ],
   "source": [
    "foo = 1\n",
    "\n",
    "def bar():\n",
    "    xyz = 3\n",
    "    qux = 5\n",
    "    return qux\n",
    "\n",
    "def yam():\n",
    "    pass\n",
    "\n",
    "bar()\n",
    "print(\"Done\")\n",
    "\n",
    "names = dir()\n",
    "short = [name for name in names if (\"_\" not in name)]\n",
    "print(short)"
   ]
  },
  {
   "cell_type": "code",
   "execution_count": 2,
   "id": "bcd387bc-4df0-4bfd-a099-a9f3b5489b62",
   "metadata": {},
   "outputs": [
    {
     "name": "stdout",
     "output_type": "stream",
     "text": [
      "Hey!\n"
     ]
    }
   ],
   "source": [
    "def replace(string, value):\n",
    "    while True:\n",
    "        break\n",
    "\n",
    "    string = value\n",
    "    # print(string)\n",
    "\n",
    "greet = 'Hey!'\n",
    "replace(greet, 'Hello')\n",
    "print(greet)"
   ]
  },
  {
   "cell_type": "code",
   "execution_count": 5,
   "id": "bbc4a40d-d364-4b58-adbf-2220ad0dc381",
   "metadata": {},
   "outputs": [
    {
     "name": "stdin",
     "output_type": "stream",
     "text": [
      "Enter a number:  99\n"
     ]
    },
    {
     "name": "stdout",
     "output_type": "stream",
     "text": [
      "Result: 0.10101010101010101\n",
      "Exception handling complete.\n"
     ]
    }
   ],
   "source": [
    "try:\n",
    "    num_str = input(\"Enter a number: \")\n",
    "    num = int(num_str)\n",
    "\n",
    "    result = 10 / num\n",
    "except ValueError:\n",
    "    print(\"Invalid input. Please enter a valid number.\")\n",
    "except ZeroDivisionError:\n",
    "    print(\"Cannot divide by zero.\")\n",
    "else:\n",
    "    print(f\"Result: {result}\")\n",
    "finally:\n",
    "    print(\"Exception handling complete.\")"
   ]
  },
  {
   "cell_type": "markdown",
   "id": "784ee299-54f7-4cd8-b5d2-4303ca83935b",
   "metadata": {},
   "source": [
    "# More Anki Flashcard studying 2024-05-14"
   ]
  },
  {
   "cell_type": "code",
   "execution_count": 130,
   "id": "2ffe3bd3-bde7-479b-a643-41672fbfd741",
   "metadata": {},
   "outputs": [
    {
     "name": "stdout",
     "output_type": "stream",
     "text": [
      "****************************************************************************\n",
      "dict_keys(['fox', 'dog'])\n",
      "\n",
      "dict_values([[{'color': 'brown'}, {'speed': 'quick'}], [{'color': 'yellow'}, {'speed': 'not as quick'}]])\n",
      "\n",
      "type(i.items()) >>>  <class 'dict_items'>\n",
      "dict_items([('fox', [{'color': 'brown'}, {'speed': 'quick'}]), ('dog', [{'color': 'yellow'}, {'speed': 'not as quick'}])])\n",
      "Attempting to modify via items()\n"
     ]
    },
    {
     "ename": "TypeError",
     "evalue": "'dict_items' object does not support item assignment",
     "output_type": "error",
     "traceback": [
      "\u001b[0;31m---------------------------------------------------------------------------\u001b[0m",
      "\u001b[0;31mTypeError\u001b[0m                                 Traceback (most recent call last)",
      "Cell \u001b[0;32mIn[130], line 26\u001b[0m\n\u001b[1;32m     23\u001b[0m \u001b[38;5;28mprint\u001b[39m(i\u001b[38;5;241m.\u001b[39mitems())\n\u001b[1;32m     25\u001b[0m \u001b[38;5;28mprint\u001b[39m(\u001b[38;5;124m'\u001b[39m\u001b[38;5;124mAttempting to modify via items()\u001b[39m\u001b[38;5;124m'\u001b[39m)\n\u001b[0;32m---> 26\u001b[0m \u001b[43mi\u001b[49m\u001b[38;5;241;43m.\u001b[39;49m\u001b[43mitems\u001b[49m\u001b[43m(\u001b[49m\u001b[43m)\u001b[49m\u001b[43m[\u001b[49m\u001b[38;5;241;43m0\u001b[39;49m\u001b[43m]\u001b[49m \u001b[38;5;241m=\u001b[39m (\u001b[38;5;124m'\u001b[39m\u001b[38;5;124mmodified_key\u001b[39m\u001b[38;5;124m'\u001b[39m, \u001b[38;5;124m'\u001b[39m\u001b[38;5;124mmodified_value\u001b[39m\u001b[38;5;124m'\u001b[39m)\n\u001b[1;32m     27\u001b[0m \u001b[38;5;28mprint\u001b[39m(\u001b[38;5;28mrepr\u001b[39m(i\u001b[38;5;241m.\u001b[39mitems()))\n\u001b[1;32m     29\u001b[0m \u001b[38;5;28mprint\u001b[39m(\u001b[38;5;124m\"\u001b[39m\u001b[38;5;124mlist(i.items()) >>> \u001b[39m\u001b[38;5;124m\"\u001b[39m, \u001b[38;5;28mlist\u001b[39m(i\u001b[38;5;241m.\u001b[39mitems()))   \n",
      "\u001b[0;31mTypeError\u001b[0m: 'dict_items' object does not support item assignment"
     ]
    }
   ],
   "source": [
    "# Common dict methods\n",
    "\n",
    "my_dicto = {'fox' : \n",
    "\t\t\t[{'color': 'brown'},\n",
    "\t\t\t{'speed': 'quick'}],\n",
    "\t\t\t'dog' : \n",
    "\t\t\t[{'color': 'yellow'},\n",
    "\t\t\t{'speed': 'not as quick'}],\n",
    "\t\t\t}\n",
    "\n",
    "simple_dict = {'key1' : 1,\n",
    "               'key2' : 2,\n",
    "               'key3' : 42,\n",
    "              }\n",
    "\n",
    "for i in [my_dicto, simple_dict]:\n",
    "    print('*' * 76)\n",
    "    print(i.keys())\n",
    "    print()\n",
    "    print(i.values())\n",
    "    print()\n",
    "    print(\"type(i.items()) >>> \", type(i.items()) )\n",
    "    print(i.items())\n",
    "    \n",
    "    print('Attempting to modify via items()')\n",
    "    i.items()[0] = ('modified_key', 'modified_value')\n",
    "    print(repr(i.items()))\n",
    "    \n",
    "    print(\"list(i.items()) >>> \", list(i.items()))   \n",
    "    print(\"list(i.items())[0] >>> \", list(i.items())[0])   \n",
    "    print()\n",
    "    print(i)\n",
    "    print(repr(i))"
   ]
  },
  {
   "cell_type": "code",
   "execution_count": 131,
   "id": "689bfbb8-18d3-4031-a3b4-a60bbc3cc5e8",
   "metadata": {},
   "outputs": [
    {
     "name": "stdout",
     "output_type": "stream",
     "text": [
      "dict_items([('key1', 1), ('key2', 2), ('key3', 42)])\n",
      "Attempting to modify via items()\n"
     ]
    },
    {
     "ename": "TypeError",
     "evalue": "'dict_items' object does not support item assignment",
     "output_type": "error",
     "traceback": [
      "\u001b[0;31m---------------------------------------------------------------------------\u001b[0m",
      "\u001b[0;31mTypeError\u001b[0m                                 Traceback (most recent call last)",
      "Cell \u001b[0;32mIn[131], line 8\u001b[0m\n\u001b[1;32m      5\u001b[0m \u001b[38;5;28mprint\u001b[39m(simple_dict\u001b[38;5;241m.\u001b[39mitems())\n\u001b[1;32m      7\u001b[0m \u001b[38;5;28mprint\u001b[39m(\u001b[38;5;124m'\u001b[39m\u001b[38;5;124mAttempting to modify via items()\u001b[39m\u001b[38;5;124m'\u001b[39m)\n\u001b[0;32m----> 8\u001b[0m \u001b[43msimple_dict\u001b[49m\u001b[38;5;241;43m.\u001b[39;49m\u001b[43mitems\u001b[49m\u001b[43m(\u001b[49m\u001b[43m)\u001b[49m\u001b[43m[\u001b[49m\u001b[38;5;241;43m0\u001b[39;49m\u001b[43m]\u001b[49m \u001b[38;5;241m=\u001b[39m (\u001b[38;5;124m'\u001b[39m\u001b[38;5;124mmodified_key\u001b[39m\u001b[38;5;124m'\u001b[39m, \u001b[38;5;124m'\u001b[39m\u001b[38;5;124mmodified_value\u001b[39m\u001b[38;5;124m'\u001b[39m)\n\u001b[1;32m      9\u001b[0m \u001b[38;5;28mprint\u001b[39m(\u001b[38;5;28mrepr\u001b[39m(simple_dict\u001b[38;5;241m.\u001b[39mitems()))\n",
      "\u001b[0;31mTypeError\u001b[0m: 'dict_items' object does not support item assignment"
     ]
    }
   ],
   "source": [
    "simple_dict = {'key1' : 1,\n",
    "               'key2' : 2,\n",
    "               'key3' : 42,\n",
    "              }\n",
    "print(simple_dict.items())\n",
    "\n",
    "print('Attempting to modify via items()...')\n",
    "simple_dict.items()[0] = ('modified_key', 'modified_value')\n",
    "print(repr(simple_dict.items()))"
   ]
  },
  {
   "cell_type": "code",
   "execution_count": 32,
   "id": "33c90593-6830-473c-84d5-75a07abc6a82",
   "metadata": {},
   "outputs": [
    {
     "name": "stdout",
     "output_type": "stream",
     "text": [
      "{1, 2, 6, 8, 8.5, 12, 665}\n"
     ]
    }
   ],
   "source": [
    "x = [1, 2, 2, 8, 8, 8, 8.5, 6, 12, 665]\n",
    "print(set(x))"
   ]
  },
  {
   "cell_type": "markdown",
   "id": "d4f902a8-11d5-4c47-99de-99bb12e8889f",
   "metadata": {},
   "source": [
    "# Tinkering with shallow copies"
   ]
  },
  {
   "cell_type": "code",
   "execution_count": 51,
   "id": "04638203-f8fe-4a89-8339-8a908331c136",
   "metadata": {},
   "outputs": [
    {
     "name": "stdout",
     "output_type": "stream",
     "text": [
      "Performing list addition does not result in shallow copy\n",
      "z =  [1, 2, 2, 8, 8, 6, 12, 665, '0_a', '1_a', '2_b', '3_c', '4_d'] \n",
      "\n",
      "x =  [1, 2, 2, 8, 8, 6, 12, 665, 'pony', 'bunny', 'kitten']\n",
      "The mutated 'x' list is not mutated within 'z':\n",
      "z =  [1, 2, 2, 8, 8, 6, 12, 665, '0_a', '1_a', '2_b', '3_c', '4_d'] \n",
      "\n",
      "*******************************************************************************\n",
      "Including one list as an element in another list DOES create a shallow copy\n",
      "a =  [['pony', 'bunny', 'kitten'], 1, 2, 2, 8, 8, 6, 12, 665]\n",
      "b =  [['pony', 'bunny', 'kitten'], '0_a', '1_a', '2_b', '3_c', '4_d']\n",
      "a =  [['pony', 'bunny', 'kitten', 'donkey'], 1, 2, 2, 8, 8, 6, 12, 665]\n",
      "b =  [['pony', 'bunny', 'kitten', 'donkey'], '0_a', '1_a', '2_b', '3_c', '4_d']\n"
     ]
    }
   ],
   "source": [
    "print(\"Performing list addition does not result in shallow copy\")\n",
    "x = [1, 2, 2, 8, 8, 6, 12, 665]\n",
    "y = ['0_a', '1_a', '2_b', '3_c', '4_d']\n",
    "z = x + y\n",
    "print(\"z = \", z, '\\n')\n",
    "\n",
    "x.extend(['pony', 'bunny', 'kitten'])\n",
    "print('x = ', x)\n",
    "print(\"The mutated 'x' list is not mutated within 'z':\")\n",
    "print('z = ', z, '\\n')\n",
    "\n",
    "print('*'*79)\n",
    "print(\"Including one list as an element in another list DOES create a shallow copy\")\n",
    "a = [['pony', 'bunny', 'kitten'], 1, 2, 2, 8, 8, 6, 12, 665]\n",
    "b = [a[0],'0_a', '1_a', '2_b', '3_c', '4_d']\n",
    "print('a = ', a); print('b = ', b)\n",
    "a[0].append('donkey')\n",
    "print('a = ', a); print('b = ', b)"
   ]
  },
  {
   "cell_type": "markdown",
   "id": "b75bb475-ae30-44aa-9d06-4ff1802761f6",
   "metadata": {},
   "source": [
    "# Tinkering with `global` and `nonlocal`"
   ]
  },
  {
   "cell_type": "code",
   "execution_count": 73,
   "id": "311567ff-4f32-4566-b52b-55323708a656",
   "metadata": {},
   "outputs": [
    {
     "name": "stdout",
     "output_type": "stream",
     "text": [
      "global a =  1\n",
      "*******************************************************************************\n",
      "invoke outer()\n",
      "a =  1\n",
      "b =  10\n",
      "*******************************************************************************\n",
      "invoke inner()\n",
      "b = 20\n",
      "*******************************************************************************\n",
      "invoke innermost()\n",
      "b = 30\n",
      "*******************************************************************************\n",
      "Back in outer()\n",
      "b = 30\n",
      "global a =  1.1\n"
     ]
    }
   ],
   "source": [
    "a = 1\n",
    "print('global a = ', a)\n",
    "\n",
    "def sep():\n",
    "    print('*' * 79)\n",
    "\n",
    "def outer():\n",
    "    sep()\n",
    "    print(\"invoke outer()\")\n",
    "    # the below doesn't work 🔴\n",
    "    # nonlocal a\n",
    "    # a = 2\n",
    "    \n",
    "    # the below works 🟢\n",
    "    # global a   # Global works here but not nonlocal\n",
    "    # a = 2\n",
    "\n",
    "    b = 10\n",
    "    print('a = ', a); print('b = ', b)\n",
    "    \n",
    "    def inner():\n",
    "        sep()\n",
    "        print(\"invoke inner()\")\n",
    "        nonlocal b\n",
    "        b += 10\n",
    "        print('b =', b)\n",
    "\n",
    "        global a\n",
    "        a += 0.1\n",
    "\n",
    "        def innermost():\n",
    "            sep()\n",
    "            print(\"invoke innermost()\")\n",
    "            nonlocal b\n",
    "            b += 10\n",
    "            print('b =', b)\n",
    "        \n",
    "        innermost()\n",
    "    \n",
    "    inner()\n",
    "    sep()\n",
    "    print('Back in outer()')\n",
    "    print('b =', b)\n",
    "    \n",
    "outer()\n",
    "print('global a = ', a)"
   ]
  },
  {
   "cell_type": "markdown",
   "id": "d9765073-94ad-403c-a3fe-18ac136774e4",
   "metadata": {},
   "source": [
    "# chosing from valid options"
   ]
  },
  {
   "cell_type": "code",
   "execution_count": 5,
   "id": "4194b104-4f6c-48a2-aa91-31ec7e145727",
   "metadata": {},
   "outputs": [
    {
     "name": "stdin",
     "output_type": "stream",
     "text": [
      "y or n? \n",
      "y or n? \n",
      "y or n? n\n"
     ]
    },
    {
     "name": "stdout",
     "output_type": "stream",
     "text": [
      "You escaped!\n"
     ]
    }
   ],
   "source": [
    "play_again = ''\n",
    "\n",
    "while play_again.casefold() not in ['y', 'n']:\n",
    "    play_again = input(\"y or n?\")\n",
    "\n",
    "print('You escaped!')"
   ]
  },
  {
   "cell_type": "code",
   "execution_count": 4,
   "id": "e0a94ff6-9d68-4357-b5db-59eec0b7650d",
   "metadata": {},
   "outputs": [
    {
     "name": "stdin",
     "output_type": "stream",
     "text": [
      "y or n? w\n",
      "y or n? q\n",
      "y or n? y\n"
     ]
    },
    {
     "name": "stdout",
     "output_type": "stream",
     "text": [
      "You escaped!\n"
     ]
    }
   ],
   "source": [
    "play_again = ''\n",
    "\n",
    "while play_again.casefold() != 'y' and play_again.casefold() != 'n':\n",
    "    play_again = input(\"y or n?\")\n",
    "\n",
    "print('You escaped!')"
   ]
  },
  {
   "cell_type": "code",
   "execution_count": 34,
   "id": "c4f47e46-da21-4b46-a051-47f0bf6d92dd",
   "metadata": {},
   "outputs": [
    {
     "name": "stdout",
     "output_type": "stream",
     "text": [
      "{'rock': 'r', 'paper': 'p', 'scissors': 'sc', 'lizard': 'l', 'spock': 'sp'}\n",
      "['spock', 'lizard', 'scissors', 'paper', 'rock']\n",
      "\n",
      "['rock', 'paper', 'scissors', 'lizard', 'spock', 'r', 'p', 'sc', 'l', 'sp']\n",
      "rock, paper, scissors, lizard, spock, r, p, sc, l, sp\n",
      "rock\n",
      "\n",
      "bike\n"
     ]
    }
   ],
   "source": [
    "vehicles = {\n",
    "    'car' : 'meh',\n",
    "    'bike' : 'rad',\n",
    "    'segway' : 'ha',\n",
    "}\n",
    "\n",
    "VALID_CHOICES = {\n",
    "    'rock' : 'r',\n",
    "    'paper' : 'p',\n",
    "    'scissors' : 'sc',\n",
    "    'lizard' : 'l',\n",
    "    'spock' : 'sp',\n",
    "}\n",
    "\n",
    "VALID_CHOICES_LIST = list(VALID_CHOICES.keys()) + list(VALID_CHOICES.values())\n",
    "\n",
    "# Convert valid choices & abbrevs into string for printing\n",
    "VALID_CHOICES_STR = (', '.join(VALID_CHOICES_LIST))\n",
    "\n",
    "print(VALID_CHOICES)\n",
    "print(list(reversed(VALID_CHOICES)))\n",
    "\n",
    "print()\n",
    "print(VALID_CHOICES_LIST)\n",
    "print(VALID_CHOICES_STR)\n",
    "\n",
    "# lookup keys w/ value using .index() method\n",
    "print(list(VALID_CHOICES.keys())[list(VALID_CHOICES.values()).index('r')])\n",
    "\n",
    "print()\n",
    "print( list(vehicles.keys()) [list(vehicles.values()).index('rad')] )"
   ]
  },
  {
   "cell_type": "markdown",
   "id": "0ddcb04b-dec6-4dc8-84bc-4de7e00cea8e",
   "metadata": {},
   "source": [
    "# MISC"
   ]
  },
  {
   "cell_type": "markdown",
   "id": "33763b7c-869c-4177-93fe-7852827dd390",
   "metadata": {},
   "source": [
    "### Exploring passing arguments and variable shadowing"
   ]
  },
  {
   "cell_type": "code",
   "execution_count": 52,
   "id": "aa480adc-296b-4dbb-84cc-15ccef35c387",
   "metadata": {},
   "outputs": [
    {
     "name": "stdout",
     "output_type": "stream",
     "text": [
      "[1]\n"
     ]
    }
   ],
   "source": [
    "my_var = [1] \n",
    "\n",
    "def my_func(my_var): \n",
    "    my_var = [2] \n",
    "\n",
    "my_func(my_var) \n",
    "print(my_var) \n",
    "\n",
    "# PY101.2.23 Example 6 \n",
    "# https://launchschool.com/lessons/a29e9831/assignments/77228399 "
   ]
  },
  {
   "cell_type": "code",
   "execution_count": 17,
   "id": "3d94356d-b4a1-497b-8837-63ccf18325bd",
   "metadata": {},
   "outputs": [
    {
     "name": "stdout",
     "output_type": "stream",
     "text": [
      "True\n"
     ]
    }
   ],
   "source": [
    "print('no' in 'no')\n"
   ]
  },
  {
   "cell_type": "markdown",
   "id": "1452f153-b16b-48b1-a152-abfdd765aa1f",
   "metadata": {},
   "source": [
    "# q8"
   ]
  },
  {
   "cell_type": "code",
   "execution_count": 4,
   "id": "efa14a93-9b5e-4b73-9003-77db028492dd",
   "metadata": {},
   "outputs": [
    {
     "name": "stdout",
     "output_type": "stream",
     "text": [
      "2\n"
     ]
    }
   ],
   "source": [
    "# original code\n",
    "def double(num):\n",
    "    return num * 2\n",
    "\n",
    "int_val = 2\n",
    "double(int_val)\n",
    "\n",
    "print(int_val)  # outputs: 2"
   ]
  },
  {
   "cell_type": "code",
   "execution_count": 10,
   "id": "ff6461f4-7eb5-4e2c-a8bd-ffe09ac23af0",
   "metadata": {},
   "outputs": [
    {
     "ename": "SyntaxError",
     "evalue": "invalid syntax (2685443678.py, line 3)",
     "output_type": "error",
     "traceback": [
      "\u001b[0;36m  Cell \u001b[0;32mIn[10], line 3\u001b[0;36m\u001b[0m\n\u001b[0;31m    gobal int_val\u001b[0m\n\u001b[0m          ^\u001b[0m\n\u001b[0;31mSyntaxError\u001b[0m\u001b[0;31m:\u001b[0m invalid syntax\n"
     ]
    }
   ],
   "source": [
    "# DOESNT WORK\n",
    "def double(num):\n",
    "    gobal int_val\n",
    "    int_val = num * 2\n",
    "\n",
    "int_val = 2\n",
    "double(int_val)\n",
    "\n",
    "print(int_val)  # outputs: 2"
   ]
  },
  {
   "cell_type": "code",
   "execution_count": 13,
   "id": "4b6a86f6-d4e8-4b9a-be6b-87cdda315df5",
   "metadata": {},
   "outputs": [
    {
     "name": "stdout",
     "output_type": "stream",
     "text": [
      "2\n"
     ]
    }
   ],
   "source": [
    "# V2\n",
    "def double(num):\n",
    "    global int_val\n",
    "    return int_val *2\n",
    "\n",
    "int_val = 2\n",
    "double(int_val)\n",
    "\n",
    "print(int_val)  # outputs: 2"
   ]
  },
  {
   "cell_type": "markdown",
   "id": "f09ee01a-4aa3-4b87-ae9f-fd6839de04d5",
   "metadata": {},
   "source": [
    "# 1\n",
    "https://www.codewars.com/kata/5412509bd436bd33920011bc/train/python"
   ]
  },
  {
   "cell_type": "code",
   "execution_count": null,
   "id": "1bc86325-474f-4019-aea1-56cf371e0f5c",
   "metadata": {},
   "outputs": [],
   "source": [
    "x = ['a', 'b', 'c', 'd']\n",
    "\n",
    "def mutate_list_o_strings(list_of_strings):\n",
    "    for i in list_of_strings:\n",
    "        i = i.upper\n",
    "\n",
    "mutate_list_o_strings(x); print(x)"
   ]
  },
  {
   "cell_type": "markdown",
   "id": "6d119aab-de1e-4261-ae13-202add3d446c",
   "metadata": {},
   "source": [
    "### My exploration"
   ]
  },
  {
   "cell_type": "code",
   "execution_count": 9,
   "id": "1e3f7365-0743-4f4d-9e1c-de6c0bc26517",
   "metadata": {},
   "outputs": [
    {
     "name": "stdout",
     "output_type": "stream",
     "text": [
      "True\n",
      "False\n",
      "\n",
      "True\n",
      "False\n",
      "\n",
      "True\n",
      "False\n",
      "\n",
      "True\n",
      "False\n",
      "\n"
     ]
    }
   ],
   "source": [
    "x = ['a', 'b', 'c', 'd']\n",
    "\n",
    "def mutate_list_o_strings(list_of_strings):\n",
    "    for index, i in enumerate(list_of_strings):\n",
    "        print(i is x[index])\n",
    "        i = i.upper\n",
    "        print(i is x[index]); print()\n",
    "\n",
    "mutate_list_o_strings(x)"
   ]
  },
  {
   "cell_type": "markdown",
   "id": "554a2a8c-ddcb-44d7-b095-ed2df9340f3c",
   "metadata": {},
   "source": [
    "### Goz code"
   ]
  },
  {
   "cell_type": "code",
   "execution_count": 11,
   "id": "4f3a9a08-d3d5-4a50-abe6-c83e212f84e6",
   "metadata": {},
   "outputs": [
    {
     "name": "stdout",
     "output_type": "stream",
     "text": [
      "['A', 'B', 'C', 'D']\n"
     ]
    }
   ],
   "source": [
    "x = ['a', 'b', 'c', 'd']\n",
    "\n",
    "def mutate_list_o_strings(list_of_strings):\n",
    "    for i, c in enumerate (list_of_strings):\n",
    "        list_of_strings[i] = c.upper()\n",
    "\n",
    "mutate_list_o_strings(x) \n",
    "print(x)"
   ]
  },
  {
   "cell_type": "markdown",
   "id": "446b70ec-ecbc-4c32-bbe2-eaddbceb6230",
   "metadata": {},
   "source": [
    "# misc"
   ]
  },
  {
   "cell_type": "code",
   "execution_count": 14,
   "id": "2eee8fae-8870-4b58-90f8-678d4ed85a79",
   "metadata": {},
   "outputs": [
    {
     "name": "stdout",
     "output_type": "stream",
     "text": [
      "[None]\n"
     ]
    }
   ],
   "source": [
    "print(False or None and 3 or 10 and [None])\n",
    "#          None     and 3 \n",
    "#                None     or 10 and [None]\n",
    "#                               [None] (truthy)\n",
    "                  # None or [None]\n",
    "                      # [None]"
   ]
  }
 ],
 "metadata": {
  "kernelspec": {
   "display_name": "Python 3 (ipykernel)",
   "language": "python",
   "name": "python3"
  },
  "language_info": {
   "codemirror_mode": {
    "name": "ipython",
    "version": 3
   },
   "file_extension": ".py",
   "mimetype": "text/x-python",
   "name": "python",
   "nbconvert_exporter": "python",
   "pygments_lexer": "ipython3",
   "version": "3.10.12"
  }
 },
 "nbformat": 4,
 "nbformat_minor": 5
}
