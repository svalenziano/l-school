{
 "cells": [
  {
   "cell_type": "markdown",
   "id": "1a058f90-c45d-4d69-a04f-759a041da555",
   "metadata": {},
   "source": [
    "# Mutating a gobal list from within a function?"
   ]
  },
  {
   "cell_type": "code",
   "execution_count": 1,
   "id": "b6cc81d7-8c40-47ed-bd98-318b403b8fc8",
   "metadata": {},
   "outputs": [
    {
     "name": "stdout",
     "output_type": "stream",
     "text": [
      "[10, 2, 3]\n",
      "********************\n",
      "[6, 6, 6]\n",
      "[10, 2, 3]\n"
     ]
    }
   ],
   "source": [
    "b = [1 , 2, 3]\n",
    "\n",
    "def myfunc():\n",
    "    b[0] = 10\n",
    "\n",
    "myfunc()  # yep, works!\n",
    "print(b)\n",
    "print(\"*\"*20)\n",
    "\n",
    "# Don't think this'l work\n",
    "def myfunc2():\n",
    "    b = [6, 6, 6]\n",
    "    print(b)\n",
    "myfunc2()\n",
    "print(b)\n",
    "# ok good (phew)... also DUH - IT CREATES A NEW, TOTALLY UN-RELATED VARIABLE"
   ]
  },
  {
   "cell_type": "markdown",
   "id": "5d654114-8dc6-48bb-a6b8-a5ebb160755f",
   "metadata": {},
   "source": [
    "# Variables as pointers"
   ]
  },
  {
   "cell_type": "code",
   "execution_count": 14,
   "id": "5c2f0c51-4e69-4d41-9935-e7b370322734",
   "metadata": {},
   "outputs": [
    {
     "name": "stdout",
     "output_type": "stream",
     "text": [
      "[1, 2, 3, 4, 5, 234576, 214353]\n",
      "140225582658112\n",
      "140225582658112\n",
      "[2, 3, 4, 5, 234576, 214353]\n",
      "[1, 2, 3, 4, 5, 234576, 214353]\n",
      "140225582645760\n",
      "140225582645760\n",
      "140225582645760\n",
      "140225582645760\n",
      "[2, 3, 4, 5, 234576, 214353]\n",
      "[2, 3, 4, 5, 234576, 214353]\n",
      "True\n"
     ]
    }
   ],
   "source": [
    "# INTENT\n",
    "# This code intends to test one of the options in Question 14 of Launch School's\n",
    "# PY101.2.Quiz1: \n",
    "# \"Using a function that modifies a mutable object refers the variable to a different memory location.\n",
    "\n",
    "\n",
    "# EXPERIMENT 1\n",
    "# If I modify a mutable object with a function, \n",
    "# will my variable now point to a different location in memory?\n",
    "# I don't think so.  I think it will still refer to the same location,\n",
    "# but the variable at that location will be different.\n",
    "# Let's see...\n",
    "\n",
    "def mod_x():\n",
    "    global x\n",
    "    x.pop(0)\n",
    "\n",
    "x = [1,2,3,4,5,234576,214353]\n",
    "\n",
    "print(x)\n",
    "print(id(x))\n",
    "mod_x()\n",
    "print(id(x))\n",
    "print(x)\n",
    "\n",
    "\n",
    "# EXPERIMENT 2\n",
    "# What if I create a new variable without copy.deepcopy?\n",
    "# I expect that it will still point to the same object.\n",
    "\n",
    "def mod_y():\n",
    "    global y\n",
    "    y.pop(0)\n",
    "\n",
    "x = [1,2,3,4,5,234576,214353]\n",
    "y = x\n",
    "\n",
    "print(x)\n",
    "print(id(x))\n",
    "print(id(y))\n",
    "mod_y()\n",
    "print(id(x))\n",
    "print(id(y))\n",
    "print(x)\n",
    "print(y)\n",
    "print(x is y)"
   ]
  },
  {
   "cell_type": "code",
   "execution_count": 11,
   "id": "accc2397-9a90-4af0-bacb-f4202ec2d681",
   "metadata": {},
   "outputs": [
    {
     "name": "stdout",
     "output_type": "stream",
     "text": [
      "[1, 2, 3, 4, 5, 234576, 214353]\n",
      "140225582680384\n",
      "140225582680384\n",
      "140225582680384\n",
      "140225582680384\n",
      "[2, 3, 4, 5, 234576, 214353]\n",
      "[2, 3, 4, 5, 234576, 214353]\n",
      "True\n"
     ]
    }
   ],
   "source": []
  },
  {
   "cell_type": "markdown",
   "id": "226eaf27-15a3-4cf2-a4ed-29821bbff011",
   "metadata": {},
   "source": [
    "# Anki Flashcard scratchpad"
   ]
  },
  {
   "cell_type": "code",
   "execution_count": 4,
   "id": "712eb499-ac88-44c7-98a5-1b9d9fc2a4e3",
   "metadata": {},
   "outputs": [
    {
     "data": {
      "text/plain": [
       "3"
      ]
     },
     "execution_count": 4,
     "metadata": {},
     "output_type": "execute_result"
    }
   ],
   "source": [
    "fruits = [4,5,6,'steven', 1,2,3]\n",
    "fruits.index('steven') if 'steven' in fruits else -1"
   ]
  },
  {
   "cell_type": "code",
   "execution_count": 7,
   "id": "6c93306e-ed73-4cdf-ace7-d517795de137",
   "metadata": {},
   "outputs": [
    {
     "name": "stdout",
     "output_type": "stream",
     "text": [
      "None\n",
      "[1, 'abc123', 3, 1]\n",
      "abc123\n",
      "[1, 3, 1]\n"
     ]
    }
   ],
   "source": [
    "seq = [1,'abc123',3,1,66]\n",
    "\n",
    "print(seq.remove(66))  #removes the first instance found\n",
    "print(seq)\n",
    "\n",
    "print(seq.pop(1))  #removes and returns based on index\n",
    "print(seq)\n",
    "\n",
    "seq.clear()"
   ]
  },
  {
   "cell_type": "code",
   "execution_count": 12,
   "id": "a0d9fda7-f5e5-4172-b82f-72c5340bd84d",
   "metadata": {},
   "outputs": [
    {
     "name": "stdout",
     "output_type": "stream",
     "text": [
      "1\n"
     ]
    }
   ],
   "source": [
    "lst = [1,2,3,4,5]\n",
    "#lst = []\n",
    "\n",
    "print(lst[0] if lst else None)\n",
    "#lst[0]\n"
   ]
  },
  {
   "cell_type": "code",
   "execution_count": 20,
   "id": "78c14184-c3c7-4230-b85e-03ee3e1b1c30",
   "metadata": {},
   "outputs": [
    {
     "name": "stdout",
     "output_type": "stream",
     "text": [
      "[1, 2, 3, 4, 6, 7, 8, 9]\n",
      "[[1, 2, 3, 4], [6, 7, 8, 9]]\n"
     ]
    },
    {
     "ename": "TypeError",
     "evalue": "sum() takes at most 2 arguments (3 given)",
     "output_type": "error",
     "traceback": [
      "\u001b[0;31m---------------------------------------------------------------------------\u001b[0m",
      "\u001b[0;31mTypeError\u001b[0m                                 Traceback (most recent call last)",
      "Cell \u001b[0;32mIn[20], line 5\u001b[0m\n\u001b[1;32m      3\u001b[0m \u001b[38;5;28mprint\u001b[39m(\u001b[38;5;28msum\u001b[39m(a,[]))\n\u001b[1;32m      4\u001b[0m \u001b[38;5;28mprint\u001b[39m(\u001b[38;5;28msum\u001b[39m([],a))\n\u001b[0;32m----> 5\u001b[0m \u001b[38;5;28mprint\u001b[39m(\u001b[38;5;28;43msum\u001b[39;49m\u001b[43m(\u001b[49m\u001b[43m[\u001b[49m\u001b[43m]\u001b[49m\u001b[43m,\u001b[49m\u001b[43ma\u001b[49m\u001b[43m,\u001b[49m\u001b[43m[\u001b[49m\u001b[43m]\u001b[49m\u001b[43m)\u001b[49m)\n",
      "\u001b[0;31mTypeError\u001b[0m: sum() takes at most 2 arguments (3 given)"
     ]
    }
   ],
   "source": [
    "a = [[1,2,3,4,], [6,7,8,9]]\n",
    "\n",
    "print(sum(a,[]))\n",
    "print(sum([],a))\n",
    "print(sum([],a,[]))  #throws error\n",
    "\n"
   ]
  },
  {
   "cell_type": "code",
   "execution_count": 28,
   "id": "209e9573-75f4-40a3-b832-af3036635c13",
   "metadata": {},
   "outputs": [
    {
     "ename": "ValueError",
     "evalue": "invalid literal for int() with base 10: 'inf'",
     "output_type": "error",
     "traceback": [
      "\u001b[0;31m---------------------------------------------------------------------------\u001b[0m",
      "\u001b[0;31mValueError\u001b[0m                                Traceback (most recent call last)",
      "Cell \u001b[0;32mIn[28], line 1\u001b[0m\n\u001b[0;32m----> 1\u001b[0m x \u001b[38;5;241m=\u001b[39m \u001b[38;5;28;43mint\u001b[39;49m\u001b[43m(\u001b[49m\u001b[38;5;124;43m'\u001b[39;49m\u001b[38;5;124;43minf\u001b[39;49m\u001b[38;5;124;43m'\u001b[39;49m\u001b[43m)\u001b[49m \u001b[38;5;241m*\u001b[39m \u001b[38;5;241m-\u001b[39m\u001b[38;5;241m1\u001b[39m\n\u001b[1;32m      2\u001b[0m \u001b[38;5;28mprint\u001b[39m(x)\n",
      "\u001b[0;31mValueError\u001b[0m: invalid literal for int() with base 10: 'inf'"
     ]
    }
   ],
   "source": [
    "x = float('inf') * -1\n",
    "print(x)"
   ]
  },
  {
   "cell_type": "code",
   "execution_count": 4,
   "id": "9dae28cf-5089-4563-bd03-777ceb290d5f",
   "metadata": {},
   "outputs": [
    {
     "name": "stdout",
     "output_type": "stream",
     "text": [
      "Done\n",
      "['In', 'Out', 'bar', 'exit', 'foo', 'names', 'open', 'quit', 'short', 'yam']\n"
     ]
    }
   ],
   "source": [
    "foo = 1\n",
    "\n",
    "def bar():\n",
    "    xyz = 3\n",
    "    qux = 5\n",
    "    return qux\n",
    "\n",
    "def yam():\n",
    "    pass\n",
    "\n",
    "bar()\n",
    "print(\"Done\")\n",
    "\n",
    "names = dir()\n",
    "short = [name for name in names if (\"_\" not in name)]\n",
    "print(short)"
   ]
  },
  {
   "cell_type": "code",
   "execution_count": 2,
   "id": "bcd387bc-4df0-4bfd-a099-a9f3b5489b62",
   "metadata": {},
   "outputs": [
    {
     "name": "stdout",
     "output_type": "stream",
     "text": [
      "Hey!\n"
     ]
    }
   ],
   "source": [
    "def replace(string, value):\n",
    "    while True:\n",
    "        break\n",
    "\n",
    "    string = value\n",
    "    # print(string)\n",
    "\n",
    "greet = 'Hey!'\n",
    "replace(greet, 'Hello')\n",
    "print(greet)"
   ]
  },
  {
   "cell_type": "code",
   "execution_count": 5,
   "id": "bbc4a40d-d364-4b58-adbf-2220ad0dc381",
   "metadata": {},
   "outputs": [
    {
     "name": "stdin",
     "output_type": "stream",
     "text": [
      "Enter a number:  99\n"
     ]
    },
    {
     "name": "stdout",
     "output_type": "stream",
     "text": [
      "Result: 0.10101010101010101\n",
      "Exception handling complete.\n"
     ]
    }
   ],
   "source": [
    "try:\n",
    "    num_str = input(\"Enter a number: \")\n",
    "    num = int(num_str)\n",
    "\n",
    "    result = 10 / num\n",
    "except ValueError:\n",
    "    print(\"Invalid input. Please enter a valid number.\")\n",
    "except ZeroDivisionError:\n",
    "    print(\"Cannot divide by zero.\")\n",
    "else:\n",
    "    print(f\"Result: {result}\")\n",
    "finally:\n",
    "    print(\"Exception handling complete.\")"
   ]
  },
  {
   "cell_type": "markdown",
   "id": "784ee299-54f7-4cd8-b5d2-4303ca83935b",
   "metadata": {},
   "source": [
    "# More Anki Flashcard studying 2024-05-14"
   ]
  },
  {
   "cell_type": "code",
   "execution_count": 30,
   "id": "2ffe3bd3-bde7-479b-a643-41672fbfd741",
   "metadata": {},
   "outputs": [
    {
     "name": "stdout",
     "output_type": "stream",
     "text": [
      "****************************************************************************\n",
      "dict_keys(['fox', 'dog'])\n",
      "\n",
      "dict_values([[{'color': 'brown'}, {'speed': 'quick'}], [{'color': 'yellow'}, {'speed': 'not as quick'}]])\n",
      "\n",
      "type(i.items()) >>>  <class 'dict_items'>\n",
      "dict_items([('fox', [{'color': 'brown'}, {'speed': 'quick'}]), ('dog', [{'color': 'yellow'}, {'speed': 'not as quick'}])])\n",
      "dict_items([('fox', [{'color': 'brown'}, {'speed': 'quick'}]), ('dog', [{'color': 'yellow'}, {'speed': 'not as quick'}])])\n",
      "list(i.items()) >>>  [('fox', [{'color': 'brown'}, {'speed': 'quick'}]), ('dog', [{'color': 'yellow'}, {'speed': 'not as quick'}])]\n",
      "list(i.items())[0] >>>  ('fox', [{'color': 'brown'}, {'speed': 'quick'}])\n",
      "\n",
      "{'fox': [{'color': 'brown'}, {'speed': 'quick'}], 'dog': [{'color': 'yellow'}, {'speed': 'not as quick'}]}\n",
      "{'fox': [{'color': 'brown'}, {'speed': 'quick'}], 'dog': [{'color': 'yellow'}, {'speed': 'not as quick'}]}\n",
      "****************************************************************************\n",
      "dict_keys(['key1', 'key2', 'key3'])\n",
      "\n",
      "dict_values([1, 2, 42])\n",
      "\n",
      "type(i.items()) >>>  <class 'dict_items'>\n",
      "dict_items([('key1', 1), ('key2', 2), ('key3', 42)])\n",
      "dict_items([('key1', 1), ('key2', 2), ('key3', 42)])\n",
      "list(i.items()) >>>  [('key1', 1), ('key2', 2), ('key3', 42)]\n",
      "list(i.items())[0] >>>  ('key1', 1)\n",
      "\n",
      "{'key1': 1, 'key2': 2, 'key3': 42}\n",
      "{'key1': 1, 'key2': 2, 'key3': 42}\n"
     ]
    }
   ],
   "source": [
    "# Common dict methods\n",
    "\n",
    "my_dicto = {'fox' : \n",
    "\t\t\t[{'color': 'brown'},\n",
    "\t\t\t{'speed': 'quick'}],\n",
    "\t\t\t'dog' : \n",
    "\t\t\t[{'color': 'yellow'},\n",
    "\t\t\t{'speed': 'not as quick'}],\n",
    "\t\t\t}\n",
    "\n",
    "simple_dict = {'key1' : 1,\n",
    "               'key2' : 2,\n",
    "               'key3' : 42,\n",
    "              }\n",
    "\n",
    "for i in [my_dicto, simple_dict]:\n",
    "    print('*' * 76)\n",
    "    print(i.keys())\n",
    "    print()\n",
    "    print(i.values())\n",
    "    print()\n",
    "    print(\"type(i.items()) >>> \", type(i.items()) )\n",
    "    print(i.items())\n",
    "    print(repr(i.items()))\n",
    "    print(\"list(i.items()) >>> \", list(i.items()))   # Error, not subscriptable\n",
    "    print(\"list(i.items())[0] >>> \", list(i.items())[0])   # Error, not subscriptable\n",
    "    print()\n",
    "    print(i)\n",
    "    print(repr(i))"
   ]
  },
  {
   "cell_type": "code",
   "execution_count": 32,
   "id": "33c90593-6830-473c-84d5-75a07abc6a82",
   "metadata": {},
   "outputs": [
    {
     "name": "stdout",
     "output_type": "stream",
     "text": [
      "{1, 2, 6, 8, 8.5, 12, 665}\n"
     ]
    }
   ],
   "source": [
    "x = [1, 2, 2, 8, 8, 8, 8.5, 6, 12, 665]\n",
    "print(set(x))"
   ]
  },
  {
   "cell_type": "markdown",
   "id": "d4f902a8-11d5-4c47-99de-99bb12e8889f",
   "metadata": {},
   "source": [
    "# Tinkering with shallow copies"
   ]
  },
  {
   "cell_type": "code",
   "execution_count": 51,
   "id": "04638203-f8fe-4a89-8339-8a908331c136",
   "metadata": {},
   "outputs": [
    {
     "name": "stdout",
     "output_type": "stream",
     "text": [
      "Performing list addition does not result in shallow copy\n",
      "z =  [1, 2, 2, 8, 8, 6, 12, 665, '0_a', '1_a', '2_b', '3_c', '4_d'] \n",
      "\n",
      "x =  [1, 2, 2, 8, 8, 6, 12, 665, 'pony', 'bunny', 'kitten']\n",
      "The mutated 'x' list is not mutated within 'z':\n",
      "z =  [1, 2, 2, 8, 8, 6, 12, 665, '0_a', '1_a', '2_b', '3_c', '4_d'] \n",
      "\n",
      "*******************************************************************************\n",
      "Including one list as an element in another list DOES create a shallow copy\n",
      "a =  [['pony', 'bunny', 'kitten'], 1, 2, 2, 8, 8, 6, 12, 665]\n",
      "b =  [['pony', 'bunny', 'kitten'], '0_a', '1_a', '2_b', '3_c', '4_d']\n",
      "a =  [['pony', 'bunny', 'kitten', 'donkey'], 1, 2, 2, 8, 8, 6, 12, 665]\n",
      "b =  [['pony', 'bunny', 'kitten', 'donkey'], '0_a', '1_a', '2_b', '3_c', '4_d']\n"
     ]
    }
   ],
   "source": [
    "print(\"Performing list addition does not result in shallow copy\")\n",
    "x = [1, 2, 2, 8, 8, 6, 12, 665]\n",
    "y = ['0_a', '1_a', '2_b', '3_c', '4_d']\n",
    "z = x + y\n",
    "print(\"z = \", z, '\\n')\n",
    "\n",
    "x.extend(['pony', 'bunny', 'kitten'])\n",
    "print('x = ', x)\n",
    "print(\"The mutated 'x' list is not mutated within 'z':\")\n",
    "print('z = ', z, '\\n')\n",
    "\n",
    "print('*'*79)\n",
    "print(\"Including one list as an element in another list DOES create a shallow copy\")\n",
    "a = [['pony', 'bunny', 'kitten'], 1, 2, 2, 8, 8, 6, 12, 665]\n",
    "b = [a[0],'0_a', '1_a', '2_b', '3_c', '4_d']\n",
    "print('a = ', a); print('b = ', b)\n",
    "a[0].append('donkey')\n",
    "print('a = ', a); print('b = ', b)"
   ]
  },
  {
   "cell_type": "markdown",
   "id": "b75bb475-ae30-44aa-9d06-4ff1802761f6",
   "metadata": {},
   "source": [
    "# Tinkering with `global` and `nonlocal`"
   ]
  },
  {
   "cell_type": "code",
   "execution_count": 73,
   "id": "311567ff-4f32-4566-b52b-55323708a656",
   "metadata": {},
   "outputs": [
    {
     "name": "stdout",
     "output_type": "stream",
     "text": [
      "global a =  1\n",
      "*******************************************************************************\n",
      "invoke outer()\n",
      "a =  1\n",
      "b =  10\n",
      "*******************************************************************************\n",
      "invoke inner()\n",
      "b = 20\n",
      "*******************************************************************************\n",
      "invoke innermost()\n",
      "b = 30\n",
      "*******************************************************************************\n",
      "Back in outer()\n",
      "b = 30\n",
      "global a =  1.1\n"
     ]
    }
   ],
   "source": [
    "a = 1\n",
    "print('global a = ', a)\n",
    "\n",
    "def sep():\n",
    "    print('*' * 79)\n",
    "\n",
    "def outer():\n",
    "    sep()\n",
    "    print(\"invoke outer()\")\n",
    "    # the below doesn't work 🔴\n",
    "    # nonlocal a\n",
    "    # a = 2\n",
    "    \n",
    "    # the below works 🟢\n",
    "    # global a   # Global works here but not nonlocal\n",
    "    # a = 2\n",
    "\n",
    "    b = 10\n",
    "    print('a = ', a); print('b = ', b)\n",
    "    \n",
    "    def inner():\n",
    "        sep()\n",
    "        print(\"invoke inner()\")\n",
    "        nonlocal b\n",
    "        b += 10\n",
    "        print('b =', b)\n",
    "\n",
    "        global a\n",
    "        a += 0.1\n",
    "\n",
    "        def innermost():\n",
    "            sep()\n",
    "            print(\"invoke innermost()\")\n",
    "            nonlocal b\n",
    "            b += 10\n",
    "            print('b =', b)\n",
    "        \n",
    "        innermost()\n",
    "    \n",
    "    inner()\n",
    "    sep()\n",
    "    print('Back in outer()')\n",
    "    print('b =', b)\n",
    "    \n",
    "outer()\n",
    "print('global a = ', a)"
   ]
  },
  {
   "cell_type": "markdown",
   "id": "d9765073-94ad-403c-a3fe-18ac136774e4",
   "metadata": {},
   "source": [
    "# chosing from valid options"
   ]
  },
  {
   "cell_type": "code",
   "execution_count": 5,
   "id": "4194b104-4f6c-48a2-aa91-31ec7e145727",
   "metadata": {},
   "outputs": [
    {
     "name": "stdin",
     "output_type": "stream",
     "text": [
      "y or n? \n",
      "y or n? \n",
      "y or n? n\n"
     ]
    },
    {
     "name": "stdout",
     "output_type": "stream",
     "text": [
      "You escaped!\n"
     ]
    }
   ],
   "source": [
    "play_again = ''\n",
    "\n",
    "while play_again.casefold() not in ['y', 'n']:\n",
    "    play_again = input(\"y or n?\")\n",
    "\n",
    "print('You escaped!')"
   ]
  },
  {
   "cell_type": "code",
   "execution_count": 4,
   "id": "e0a94ff6-9d68-4357-b5db-59eec0b7650d",
   "metadata": {},
   "outputs": [
    {
     "name": "stdin",
     "output_type": "stream",
     "text": [
      "y or n? w\n",
      "y or n? q\n",
      "y or n? y\n"
     ]
    },
    {
     "name": "stdout",
     "output_type": "stream",
     "text": [
      "You escaped!\n"
     ]
    }
   ],
   "source": [
    "play_again = ''\n",
    "\n",
    "while play_again.casefold() != 'y' and play_again.casefold() != 'n':\n",
    "    play_again = input(\"y or n?\")\n",
    "\n",
    "print('You escaped!')"
   ]
  },
  {
   "cell_type": "code",
   "execution_count": null,
   "id": "c4f47e46-da21-4b46-a051-47f0bf6d92dd",
   "metadata": {},
   "outputs": [],
   "source": []
  }
 ],
 "metadata": {
  "kernelspec": {
   "display_name": "Python 3 (ipykernel)",
   "language": "python",
   "name": "python3"
  },
  "language_info": {
   "codemirror_mode": {
    "name": "ipython",
    "version": 3
   },
   "file_extension": ".py",
   "mimetype": "text/x-python",
   "name": "python",
   "nbconvert_exporter": "python",
   "pygments_lexer": "ipython3",
   "version": "3.10.12"
  }
 },
 "nbformat": 4,
 "nbformat_minor": 5
}
