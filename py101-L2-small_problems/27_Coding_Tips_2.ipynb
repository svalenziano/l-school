{
 "cells": [
  {
   "cell_type": "code",
   "execution_count": 1,
   "id": "3eadc582-95f3-47dc-9633-b251923dd2b5",
   "metadata": {},
   "outputs": [
    {
     "name": "stdout",
     "output_type": "stream",
     "text": [
      "scooby\n",
      "on\n",
      "two\n",
      "['do', 'channel']\n"
     ]
    }
   ],
   "source": [
    "words = ['scooby', 'do', 'on', 'channel', 'two']\n",
    "\n",
    "for word in words:\n",
    "    print(word)\n",
    "    words.remove(word)\n",
    "\n",
    "print(words)  # prints: ['do', 'channel']"
   ]
  }
 ],
 "metadata": {
  "kernelspec": {
   "display_name": "Python 3 (ipykernel)",
   "language": "python",
   "name": "python3"
  },
  "language_info": {
   "codemirror_mode": {
    "name": "ipython",
    "version": 3
   },
   "file_extension": ".py",
   "mimetype": "text/x-python",
   "name": "python",
   "nbconvert_exporter": "python",
   "pygments_lexer": "ipython3",
   "version": "3.10.12"
  }
 },
 "nbformat": 4,
 "nbformat_minor": 5
}
