{
 "cells": [
  {
   "cell_type": "markdown",
   "id": "65fa72bc-7a2d-427b-b251-acbc3d404152",
   "metadata": {},
   "source": [
    "## Rule 5\n",
    "\n",
    "Example provided by the book"
   ]
  },
  {
   "cell_type": "code",
   "execution_count": 1,
   "id": "59092115-72b9-41ee-ba04-3ef2c9754702",
   "metadata": {},
   "outputs": [
    {
     "name": "stdout",
     "output_type": "stream",
     "text": [
      "1\n",
      "2\n",
      "3\n",
      "1\n",
      "2\n"
     ]
    },
    {
     "ename": "NameError",
     "evalue": "name 'c' is not defined",
     "output_type": "error",
     "traceback": [
      "\u001b[0;31m---------------------------------------------------------------------------\u001b[0m",
      "\u001b[0;31mNameError\u001b[0m                                 Traceback (most recent call last)",
      "Cell \u001b[0;32mIn[1], line 18\u001b[0m\n\u001b[1;32m     15\u001b[0m     \u001b[38;5;28mprint\u001b[39m(b)  \u001b[38;5;66;03m# => 2\u001b[39;00m\n\u001b[1;32m     16\u001b[0m     \u001b[38;5;28mprint\u001b[39m(c)  \u001b[38;5;66;03m# => NameError: name 'c' is not defined\u001b[39;00m\n\u001b[0;32m---> 18\u001b[0m \u001b[43mfoo\u001b[49m\u001b[43m(\u001b[49m\u001b[43m)\u001b[49m\n",
      "Cell \u001b[0;32mIn[1], line 16\u001b[0m, in \u001b[0;36mfoo\u001b[0;34m()\u001b[0m\n\u001b[1;32m     14\u001b[0m \u001b[38;5;28mprint\u001b[39m(a)  \u001b[38;5;66;03m# => 1\u001b[39;00m\n\u001b[1;32m     15\u001b[0m \u001b[38;5;28mprint\u001b[39m(b)  \u001b[38;5;66;03m# => 2\u001b[39;00m\n\u001b[0;32m---> 16\u001b[0m \u001b[38;5;28mprint\u001b[39m(\u001b[43mc\u001b[49m)\n",
      "\u001b[0;31mNameError\u001b[0m: name 'c' is not defined"
     ]
    }
   ],
   "source": [
    "a = 1  # first level variable\n",
    "\n",
    "def foo():  # second level\n",
    "    b = 2\n",
    "\n",
    "    def bar():  # third level\n",
    "        c = 3\n",
    "        print(a)  # => 1\n",
    "        print(b)  # => 2\n",
    "        print(c)  # => 3\n",
    "\n",
    "    bar()\n",
    "\n",
    "    print(a)  # => 1\n",
    "    print(b)  # => 2\n",
    "    print(c)  # => NameError: name 'c' is not defined\n",
    "\n",
    "foo()"
   ]
  },
  {
   "cell_type": "markdown",
   "id": "ef7109ea-519b-4870-b33b-210a32cf2808",
   "metadata": {},
   "source": [
    "### My experimentation\n",
    "Using 'nonlocal' ..."
   ]
  },
  {
   "cell_type": "code",
   "execution_count": 7,
   "id": "23079ed8-1952-454e-9f7f-ef54d93551dd",
   "metadata": {},
   "outputs": [
    {
     "ename": "SyntaxError",
     "evalue": "name 'b' is used prior to nonlocal declaration (3896817443.py, line 11)",
     "output_type": "error",
     "traceback": [
      "\u001b[0;36m  Cell \u001b[0;32mIn[7], line 11\u001b[0;36m\u001b[0m\n\u001b[0;31m    nonlocal b\u001b[0m\n\u001b[0m    ^\u001b[0m\n\u001b[0;31mSyntaxError\u001b[0m\u001b[0;31m:\u001b[0m name 'b' is used prior to nonlocal declaration\n"
     ]
    }
   ],
   "source": [
    "# DOESN'T LIKE IT WHEN YOU TRY TO MIX A LOCALLY DEFINED 'b' \n",
    "# AND A 'nonlocal b'\n",
    "\n",
    "a = 1  # first level variable\n",
    "\n",
    "def foo():  # second level\n",
    "    b = 2\n",
    "\n",
    "    def bar():  # third level\n",
    "        c = 3\n",
    "        print(a)  # => 1\n",
    "        print(b)  # => 2\n",
    "        print(c)  # => 3\n",
    "        nonlocal b\n",
    "        b = 666\n",
    "\n",
    "    bar()\n",
    "\n",
    "    print(a)  # => 1\n",
    "    print(b)  # => 2\n",
    "    # print(c)  # => NameError: name 'c' is not defined\n",
    "\n",
    "foo()"
   ]
  },
  {
   "cell_type": "code",
   "execution_count": 12,
   "id": "58de6b58-d57a-43dc-a46c-2897af3e2c89",
   "metadata": {},
   "outputs": [
    {
     "ename": "SyntaxError",
     "evalue": "no binding for nonlocal 'd' found (3330533695.py, line 23)",
     "output_type": "error",
     "traceback": [
      "\u001b[0;36m  Cell \u001b[0;32mIn[12], line 23\u001b[0;36m\u001b[0m\n\u001b[0;31m    nonlocal d\u001b[0m\n\u001b[0m    ^\u001b[0m\n\u001b[0;31mSyntaxError\u001b[0m\u001b[0;31m:\u001b[0m no binding for nonlocal 'd' found\n"
     ]
    }
   ],
   "source": [
    "# DOESN'T WORK\n",
    "\n",
    "a = 1  # first level variable\n",
    "\n",
    "def foo():  # second level\n",
    "    b = 2\n",
    "    d = -1\n",
    "    def bar():  # third level\n",
    "        c = 3\n",
    "        print(a)  # => 1\n",
    "        print(c)  # => 3\n",
    "        nonlocal b\n",
    "        b = 666\n",
    "\n",
    "    bar()\n",
    "\n",
    "    print(a)  # => 1\n",
    "    print(b)  # => 2\n",
    "    # print(c)  # => NameError: name 'c' is not defined\n",
    "\n",
    "    mod_nonlocal()\n",
    "    print(d)\n",
    "\n",
    "def mod_nonlocal():\n",
    "    nonlocal d\n",
    "    a = 777\n",
    "\n",
    "foo()\n",
    "\n",
    "\n",
    "print(a)"
   ]
  },
  {
   "cell_type": "code",
   "execution_count": 16,
   "id": "4605805e-06fc-40c5-8e47-b04251555697",
   "metadata": {},
   "outputs": [
    {
     "name": "stdout",
     "output_type": "stream",
     "text": [
      "1\n",
      "3\n",
      "1\n",
      "666\n",
      "-1\n",
      "777\n",
      "1\n"
     ]
    }
   ],
   "source": [
    "# DOESN'T WORK\n",
    "\n",
    "a = 1  # first level variable\n",
    "\n",
    "def foo():  # second level\n",
    "    b = 2\n",
    "    d = -1\n",
    "    def bar():  # third level\n",
    "        c = 3\n",
    "        print(a)  # => 1\n",
    "        print(c)  # => 3\n",
    "        nonlocal b\n",
    "        b = 666\n",
    "\n",
    "    bar()\n",
    "\n",
    "    print(a)  # => 1\n",
    "    print(b)  # => 2\n",
    "    # print(c)  # => NameError: name 'c' is not defined\n",
    "\n",
    "    def mod_nonlocal():\n",
    "        nonlocal d\n",
    "        d = 777\n",
    "    \n",
    "    print(d)\n",
    "    mod_nonlocal()\n",
    "    print(d)\n",
    "\n",
    "\n",
    "foo()\n",
    "\n",
    "\n",
    "print(a)"
   ]
  },
  {
   "cell_type": "code",
   "execution_count": null,
   "id": "c2055154-c007-45ac-b793-5f60663c3c01",
   "metadata": {},
   "outputs": [],
   "source": []
  }
 ],
 "metadata": {
  "kernelspec": {
   "display_name": "Python 3 (ipykernel)",
   "language": "python",
   "name": "python3"
  },
  "language_info": {
   "codemirror_mode": {
    "name": "ipython",
    "version": 3
   },
   "file_extension": ".py",
   "mimetype": "text/x-python",
   "name": "python",
   "nbconvert_exporter": "python",
   "pygments_lexer": "ipython3",
   "version": "3.10.12"
  }
 },
 "nbformat": 4,
 "nbformat_minor": 5
}
