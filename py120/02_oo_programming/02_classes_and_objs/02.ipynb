{
 "cells": [
  {
   "cell_type": "code",
   "execution_count": 6,
   "id": "5a8203c6-b875-4009-afce-6cc2f5cf55e3",
   "metadata": {},
   "outputs": [
    {
     "name": "stdout",
     "output_type": "stream",
     "text": [
      "Robert \n",
      "Robert\n",
      "''\n",
      "Robert Smith\n"
     ]
    }
   ],
   "source": [
    "class Person:\n",
    "\n",
    "    def __init__(self, first_name):\n",
    "        self.first_name = first_name\n",
    "        self.last_name = ''\n",
    "\n",
    "    @property\n",
    "    def first_name(self):\n",
    "        return self._first_name\n",
    "\n",
    "    @first_name.setter\n",
    "    def first_name(self, first_name):\n",
    "        self._first_name = first_name\n",
    "\n",
    "    @property\n",
    "    def last_name(self):\n",
    "        return self._last_name\n",
    "\n",
    "    @last_name.setter\n",
    "    def last_name(self, last_name):\n",
    "        self._last_name = last_name\n",
    "\n",
    "    @property\n",
    "    def name(self):\n",
    "        return f\"{self.first_name} {self.last_name}\"\n",
    "\n",
    "\n",
    "\n",
    "\n",
    "# LS Tests\n",
    "bob = Person('Robert')\n",
    "print(bob.name)             # Robert\n",
    "print(bob.first_name)       # Robert\n",
    "print(repr(bob.last_name))  # ''\n",
    "bob.last_name = 'Smith'\n",
    "print(bob.name)             # Robert Smith"
   ]
  }
 ],
 "metadata": {
  "kernelspec": {
   "display_name": "Python 3 (ipykernel)",
   "language": "python",
   "name": "python3"
  },
  "language_info": {
   "codemirror_mode": {
    "name": "ipython",
    "version": 3
   },
   "file_extension": ".py",
   "mimetype": "text/x-python",
   "name": "python",
   "nbconvert_exporter": "python",
   "pygments_lexer": "ipython3",
   "version": "3.10.12"
  }
 },
 "nbformat": 4,
 "nbformat_minor": 5
}
