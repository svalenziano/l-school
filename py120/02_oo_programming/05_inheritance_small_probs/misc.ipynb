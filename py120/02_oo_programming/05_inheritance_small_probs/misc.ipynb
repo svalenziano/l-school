{
 "cells": [
  {
   "cell_type": "code",
   "execution_count": 4,
   "id": "9dc5fbc5-2970-46c4-ab1b-14dafb56f249",
   "metadata": {},
   "outputs": [
    {
     "name": "stdout",
     "output_type": "stream",
     "text": [
      "[<class '__main__.Dog'>, <class '__main__.Animal'>, <class 'object'>]\n",
      "[<class 'range'>, <class 'object'>]\n",
      "[<class 'list'>, <class 'object'>]\n"
     ]
    }
   ],
   "source": [
    "class Animal:\n",
    "    pass\n",
    "\n",
    "class Dog(Animal):\n",
    "    pass\n",
    "\n",
    "print(Dog.mro())\n",
    "print(range.mro())\n",
    "print(list.mro())"
   ]
  }
 ],
 "metadata": {
  "kernelspec": {
   "display_name": "Python 3 (ipykernel)",
   "language": "python",
   "name": "python3"
  },
  "language_info": {
   "codemirror_mode": {
    "name": "ipython",
    "version": 3
   },
   "file_extension": ".py",
   "mimetype": "text/x-python",
   "name": "python",
   "nbconvert_exporter": "python",
   "pygments_lexer": "ipython3",
   "version": "3.10.12"
  }
 },
 "nbformat": 4,
 "nbformat_minor": 5
}
